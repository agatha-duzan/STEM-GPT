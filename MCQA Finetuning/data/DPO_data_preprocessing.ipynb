{
 "cells": [
  {
   "cell_type": "markdown",
   "metadata": {},
   "source": [
    "# Crafting the DPO dataset\n"
   ]
  },
  {
   "cell_type": "markdown",
   "metadata": {},
   "source": [
    "## 0. Data format\n",
    "We need preference pairs for DPO, so we want the final data format to look like this:\n",
    "\n",
    "`{\"prompt\": \"our_question\", \"chosen\": \"best_answer\", \"rejected\": \"less_good_answer\"}`\n",
    "\n",
    "We will use the preference data from milestone 1, and process it to create our preference dataset.\n",
    "\n",
    "We will also add preference data from [EXTERNAL SOURCES] : TBD\n"
   ]
  },
  {
   "cell_type": "code",
   "execution_count": 5,
   "metadata": {},
   "outputs": [],
   "source": [
    "import pandas as pd\n",
    "import json\n",
    "import matplotlib.pyplot as plt\n",
    "import numpy as np\n",
    "\n",
    "import sys\n",
    "import os\n",
    "\n",
    "from sklearn.model_selection import train_test_split\n",
    "\n",
    "sys.path.append(os.path.abspath('../'))\n",
    "\n",
    "from utils import *"
   ]
  },
  {
   "cell_type": "markdown",
   "metadata": {},
   "source": [
    "## 1. M1 preference data preprocessing\n",
    "Loading data from milestone 1 and processing it to the desired format."
   ]
  },
  {
   "cell_type": "markdown",
   "metadata": {},
   "source": [
    "### Loading\n",
    "\n",
    "Let's have a look at the data we have from milestone 1, and see how we can use it to create our dataset."
   ]
  },
  {
   "cell_type": "code",
   "execution_count": 43,
   "metadata": {},
   "outputs": [
    {
     "data": {
      "text/html": [
       "<div>\n",
       "<style scoped>\n",
       "    .dataframe tbody tr th:only-of-type {\n",
       "        vertical-align: middle;\n",
       "    }\n",
       "\n",
       "    .dataframe tbody tr th {\n",
       "        vertical-align: top;\n",
       "    }\n",
       "\n",
       "    .dataframe thead th {\n",
       "        text-align: right;\n",
       "    }\n",
       "</style>\n",
       "<table border=\"1\" class=\"dataframe\">\n",
       "  <thead>\n",
       "    <tr style=\"text-align: right;\">\n",
       "      <th></th>\n",
       "      <th>question_id</th>\n",
       "      <th>question_complete</th>\n",
       "      <th>course_id</th>\n",
       "      <th>preference</th>\n",
       "    </tr>\n",
       "  </thead>\n",
       "  <tbody>\n",
       "    <tr>\n",
       "      <th>0</th>\n",
       "      <td>0</td>\n",
       "      <td>Question: Consider the following contains func...</td>\n",
       "      <td>15000</td>\n",
       "      <td>[{'A': 'The asymptotic depth of the contains f...</td>\n",
       "    </tr>\n",
       "    <tr>\n",
       "      <th>1</th>\n",
       "      <td>3</td>\n",
       "      <td>Question: What is the asymptotic work of &lt;code...</td>\n",
       "      <td>15000</td>\n",
       "      <td>[{'A': '...', 'B': '...', 'overall': 'A', 'cri...</td>\n",
       "    </tr>\n",
       "    <tr>\n",
       "      <th>2</th>\n",
       "      <td>4</td>\n",
       "      <td>Question: We have a collection of rectangles i...</td>\n",
       "      <td>15000</td>\n",
       "      <td>[{'A': 'Facts:\n",
       "- Rectangles in the plane have ...</td>\n",
       "    </tr>\n",
       "    <tr>\n",
       "      <th>3</th>\n",
       "      <td>5</td>\n",
       "      <td>Question: Which of the following scheduler pol...</td>\n",
       "      <td>15005</td>\n",
       "      <td>[{'A': 'Preemptive scheduling policies allow t...</td>\n",
       "    </tr>\n",
       "    <tr>\n",
       "      <th>4</th>\n",
       "      <td>7</td>\n",
       "      <td>Question: In this week's lecture, you have bee...</td>\n",
       "      <td>15000</td>\n",
       "      <td>[{'A': 'For the computation g(g(1, x1), g(x2, ...</td>\n",
       "    </tr>\n",
       "  </tbody>\n",
       "</table>\n",
       "</div>"
      ],
      "text/plain": [
       "   question_id                                  question_complete  course_id  \\\n",
       "0            0  Question: Consider the following contains func...      15000   \n",
       "1            3  Question: What is the asymptotic work of <code...      15000   \n",
       "2            4  Question: We have a collection of rectangles i...      15000   \n",
       "3            5  Question: Which of the following scheduler pol...      15005   \n",
       "4            7  Question: In this week's lecture, you have bee...      15000   \n",
       "\n",
       "                                          preference  \n",
       "0  [{'A': 'The asymptotic depth of the contains f...  \n",
       "1  [{'A': '...', 'B': '...', 'overall': 'A', 'cri...  \n",
       "2  [{'A': 'Facts:\n",
       "- Rectangles in the plane have ...  \n",
       "3  [{'A': 'Preemptive scheduling policies allow t...  \n",
       "4  [{'A': 'For the computation g(g(1, x1), g(x2, ...  "
      ]
     },
     "execution_count": 43,
     "metadata": {},
     "output_type": "execute_result"
    }
   ],
   "source": [
    "file_path = \"raw data/M1_preference_data_15052024.json\"\n",
    "with open(file_path, 'r') as file:\n",
    "    data = json.load(file)\n",
    "\n",
    "df = pd.DataFrame(data)\n",
    "\n",
    "df.head()"
   ]
  },
  {
   "cell_type": "markdown",
   "metadata": {},
   "source": [
    "### First look at the data\n",
    "See how it is structured:"
   ]
  },
  {
   "cell_type": "code",
   "execution_count": 44,
   "metadata": {},
   "outputs": [
    {
     "data": {
      "text/plain": [
       "1522"
      ]
     },
     "execution_count": 44,
     "metadata": {},
     "output_type": "execute_result"
    }
   ],
   "source": [
    "len(df)"
   ]
  },
  {
   "cell_type": "code",
   "execution_count": 45,
   "metadata": {},
   "outputs": [
    {
     "data": {
      "text/plain": [
       "Index(['question_id', 'question_complete', 'course_id', 'preference'], dtype='object')"
      ]
     },
     "execution_count": 45,
     "metadata": {},
     "output_type": "execute_result"
    }
   ],
   "source": [
    "df.columns"
   ]
  },
  {
   "cell_type": "code",
   "execution_count": 46,
   "metadata": {},
   "outputs": [
    {
     "data": {
      "text/plain": [
       "question_id                                                       1205\n",
       "question_complete    Question: Consider the following matrix-factor...\n",
       "course_id                                                        15127\n",
       "preference           [{'A': 'To find the optimal value of $b_u$, we...\n",
       "Name: 155, dtype: object"
      ]
     },
     "execution_count": 46,
     "metadata": {},
     "output_type": "execute_result"
    }
   ],
   "source": [
    "row = df.iloc[155]\n",
    "row"
   ]
  },
  {
   "cell_type": "code",
   "execution_count": 47,
   "metadata": {},
   "outputs": [
    {
     "data": {
      "text/plain": [
       "[{'A': 'To find the optimal value of $b_u$, we need to minimize the objective function with respect to $b_u$. \\n\\nTaking the derivative of the objective function with respect to $b_u$ and setting it to zero, we get:\\n$$\\n\\\\sum_{u \\\\sim m} (f_{um} - r_{um})\\\\frac{\\\\partial f_{um}}{\\\\partial b_u} + \\\\lambda b_u = 0\\n$$\\n\\nSince $f_{um} = \\\\langle \\\\mathbf{v}_u, \\\\mathbf{w}_m \\\\rangle + b_u + b_m$, the partial derivative with respect to $b_u$ is simply 1. Therefore, the equation simplifies to:\\n$$\\n\\\\sum_{u \\\\sim m} (f_{um} - r_{um}) + \\\\lambda b_u = 0\\n$$\\n\\nRearranging the terms, we get:\\n$$\\nb_u = \\\\frac{1}{\\\\lambda} \\\\sum_{u \\\\sim m} (r_{um} - \\\\langle \\\\mathbf{v}_u, \\\\mathbf{w}_m \\\\rangle - b_m)\\n$$\\n\\nTherefore, the optimal value of $b_u$ is given by the above expression.',\n",
       "  'B': \"To find the optimal value of $b_{u}$, we need to minimize the objective function with respect to $b_{u}$. Let's take the derivative of the objective function with respect to $b_{u}$ and set it to zero to find the optimal value.\\n\\nTaking the derivative of the objective function with respect to $b_{u}$, we get:\\n\\n$$ \\\\sum_{u \\\\sim m}(f_{u m}-r_{u m}) + \\\\lambda b_{u} = 0 $$\\n\\nSince all other values are fixed, we can simplify this further:\\n\\n$$ \\\\sum_{u \\\\sim m}(\\\\langle \\\\mathbf{v}_{u}, \\\\mathbf{w}_{m} \\\\rangle + b_{u} + b_{m} - r_{u m}) + \\\\lambda b_{u} = 0 $$\\n\\nNow, we need to isolate $b_{u}$ to find its optimal value:\\n\\n$$ \\\\sum_{u \\\\sim m}(\\\\langle \\\\mathbf{v}_{u}, \\\\mathbf{w}_{m} \\\\rangle - r_{u m}) + \\\\lambda b_{u} = -\\\\sum_{u \\\\sim m}(b_{m}) $$\\n\\n$$ \\\\lambda b_{u} = -\\\\sum_{u \\\\sim m}(b_{m}) - \\\\sum_{u \\\\sim m}(\\\\langle \\\\mathbf{v}_{u}, \\\\mathbf{w}_{m} \\\\rangle - r_{u m}) $$\\n\\n$$ b_{u} = -\\\\frac{\\\\sum_{u \\\\sim m}(b_{m})}{\\\\lambda} - \\\\frac{\\\\sum_{u \\\\sim m}(\\\\langle \\\\mathbf{v}_{u}, \\\\mathbf{w}_{m} \\\\rangle - r_{u m})}{\\\\lambda} $$\\n\\nTherefore, the optimal value of $b_{u}$ is given by the above equation.\",\n",
       "  'overall': 'A',\n",
       "  'criteria': {'overall': 'A',\n",
       "   'correctness': 'A',\n",
       "   'relevance': 'A',\n",
       "   'clarity': 'A',\n",
       "   'completeness': 'A',\n",
       "   'other': ''}},\n",
       " {'A': 'To find the optimal value of $b_{u}$, we need to take the derivative of the objective function with respect to $b_{u}$ and set it equal to 0.\\\\n\\\\nThe objective function can be written as:\\\\n\\\\n$$E = \\\\frac{1}{2} \\\\sum_{u \\\\sim m} (f_{um} - r_{um})^2 + \\\\frac{\\\\lambda}{2} \\\\left[\\\\sum_{u \\\\in \\\\mathbf{U}} (b_{u}^2 + \\\\|\\\\mathbf{v}_{u}\\\\|^2) + \\\\sum_{m \\\\in \\\\mathbf{M}} (b_{m}^2 + \\\\|\\\\mathbf{w}_{m}\\\\|^2)\\\\right]$$\\\\n\\\\nExpanding the first term and substituting the expression for $f_{um}$:\\\\n\\\\n$$E = \\\\frac{1}{2} \\\\sum_{u \\\\sim m} \\\\left(\\\\langle \\\\mathbf{v}_{u}, \\\\mathbf{w}_{m} \\\\rangle + b_{u} + b_{m} - r_{um}\\\\right)^2 + \\\\frac{\\\\lambda}{2} \\\\left[\\\\sum_{u \\\\in \\\\mathbf{U}} (b_{u}^2 + \\\\|\\\\mathbf{v}_{u}\\\\|^2) + \\\\sum_{m \\\\in \\\\mathbf{M}} (b_{m}^2 + \\\\|\\\\mathbf{w}_{m}\\\\|^2)\\\\right]$$\\\\n\\\\nTaking the derivative with respect to $b_{u}$ and setting it equal to 0:\\\\n\\\\n$$\\\\frac{\\\\partial E}{\\\\partial b_{u}} = \\\\sum_{u \\\\sim m} \\\\left(\\\\langle \\\\mathbf{v}_{u}, \\\\mathbf{w}_{m} \\\\rangle + b_{u} + b_{m} - r_{um}\\\\right) + \\\\lambda b_{u} = 0$$\\\\n\\\\nSolving for $b_{u}$, we get:\\\\n\\\\n$$b_{u} = -\\\\frac{1}{\\\\lambda} \\\\left[\\\\sum_{u \\\\sim m} \\\\left(\\\\langle \\\\mathbf{v}_{u}, \\\\mathbf{w}_{m} \\\\rangle + b_{m} - r_{um}\\\\right)\\\\right]$$\\\\n\\\\nTherefore, the optimal value of $b_{u}$ is given by the above expression.',\n",
       "  'B': \"To find the optimal values of $b_u$ in the given objective function, we need to minimize the objective function with respect to $b_u$. Let's derive the optimal value step by step:\\\\n\\\\nGiven:\\\\n- $f_{u m} = \\\\langle \\\\mathbf{v}_{u}, \\\\mathbf{w}_{m} \\\\rangle + b_{u} + b_{m}$\\\\n- Objective function:\\\\n$$\\\\frac{1}{2} \\\\sum_{u \\\\sim m} (f_{u m} - r_{u m})^2 + \\\\frac{\\\\lambda}{2} \\\\left[\\\\sum_{u \\\\in \\\\mathbf{U}} (b_{u}^2 + \\\\|\\\\mathbf{v}_{u}\\\\|^2) + \\\\sum_{m \\\\in \\\\mathbf{M}} (b_{m}^2 + \\\\|\\\\mathbf{w}_{m}\\\\|^2)\\\\right]$$\\\\n\\\\n1. Compute the partial derivative of the objective function with respect to $b_u$:\\\\n$$\\\\frac{\\\\partial}{\\\\partial b_u} \\\\left[\\\\frac{1}{2} \\\\sum_{u \\\\sim m} (f_{u m} - r_{u m})^2\\\\right] = \\\\sum_{u \\\\sim m} (f_{u m} - r_{u m})$$\\\\n$$\\\\frac{\\\\partial}{\\\\partial b_u} \\\\left[\\\\frac{\\\\lambda}{2} \\\\sum_{u \\\\in \\\\mathbf{U}} (b_{u}^2 + \\\\|\\\\mathbf{v}_{u}\\\\|^2)\\\\right] = \\\\lambda b_{u}$$\\\\n\\\\n2. Set the total derivative equal to 0 and solve for $b_u$:\\\\n$$\\\\sum_{u \\\\sim m} (f_{u m} - r_{u m}) + \\\\lambda b_{u} = 0$$\\\\n$$\\\\sum_{u \\\\sim m} (b_{u} + \\\\langle \\\\mathbf{v}_{u}, \\\\mathbf{w}_{m} \\\\rangle - r_{u m}) + \\\\lambda b_{u} = 0$$\\\\n$$\\\\sum_{u \\\\sim m} b_{u} = \\\\sum_{u \\\\sim m} (r_{u m} - \\\\langle \\\\mathbf{v}_{u}, \\\\mathbf{w}_{m} \\\\rangle)$$\\\\n\\\\n3. Finally, the optimal value of $b_u$ is:\\\\n$$b_{u} = \\\\frac{1}{\\\\lambda} \\\\left(\\\\sum_{u \\\\sim m} (r_{u m} - \\\\langle \\\\mathbf{v}_{u}, \\\\mathbf{w}_{m} \\\\rangle)\\\\right)$$\\\\n\\\\nIn summary, the optimal value of $b_u$ is obtained by summing the residuals $r_{u m} - \\\\langle \\\\mathbf{v}_{u}, \\\\mathbf{w}_{m} \\\\rangle$ for all pairs $(u, m)$ and dividing by $\\\\lambda$. This process minimizes the objective function with respect to $b_u$.\",\n",
       "  'overall': 'A',\n",
       "  'criteria': {'overall': 'A',\n",
       "   'correctness': 'None',\n",
       "   'relevance': 'AB',\n",
       "   'clarity': 'A',\n",
       "   'completeness': 'AB',\n",
       "   'other': ''}},\n",
       " {'A': \"To find the optimal value of $b_u$, let's first rewrite the objective function in terms of $b_u$ separately. We will differentiate it with respect to $b_u$ and set the derivative to zero to find the optimal value of $b_u$.\\n\\nGiven:\\n$$\\nf_{u m} = \\\\langle \\\\mathbf{v}_u, \\\\mathbf{w}_m \\\\rangle + b_u + b_m\\n$$\\nObjective function:\\n$$\\n\\\\frac{1}{2} \\\\sum_{u \\\\sim m} (f_{u m} - r_{u m})^2 + \\\\frac{\\\\lambda}{2} \\\\left[\\\\sum_{u \\\\in \\\\mathbf{U}} (b_u^2 + \\\\|\\\\mathbf{v}_u\\\\|^2) + \\\\sum_{m \\\\in \\\\mathbf{M}} (b_m^2 + \\\\|\\\\mathbf{w}_m\\\\|^2)\\\\right]\\n$$\\n\\nLet's focus on the terms dependent on $b_u$:\\n$$\\n\\\\frac{1}{2} \\\\sum_{u \\\\sim m} (f_{u m} - r_{u m})^2 + \\\\frac{\\\\lambda}{2} \\\\sum_{u \\\\in \\\\mathbf{U}} (b_u^2 + \\\\|\\\\mathbf{v}_u\\\\|^2)\\n$$\\n\\nExpanding the first term and isolating the terms with $b_u$:\\n$$\\n\\\\frac{1}{2} \\\\sum_{u \\\\sim m} ((\\\\langle \\\\mathbf{v}_u, \\\\mathbf{w}_m \\\\rangle + b_u + b_m) - r_{u m})^2 = \\\\frac{1}{2} \\\\sum_{u \\\\sim m} ((\\\\langle \\\\mathbf{v}_u, \\\\mathbf{w}_m \\\\rangle + b_m) - r_{u m})^2 + \\\\frac{1}{2} \\\\sum_{u \\\\sim m} (b_u)^2 + \\\\text{other terms not involving } b_u\\n$$\\n\\nExpanding the second term and isolating the term with $b_u$:\\n$$\\n\\\\frac{\\\\lambda}{2} \\\\sum_{u \\\\in \\\\mathbf{U}} (b_u^2 + \\\\|\\\\mathbf{v}_u\\\\|^2) = \\\\frac{\\\\lambda}{2} \\\\sum_{u \\\\in \\\\mathbf{U}} (b_u^2) + \\\\text{other terms not involving } b_u\\n$$\\n\\nCombining the terms with $b_u$ from both parts:\\n$$\\n\\\\frac{1}{2} \\\\sum_{u \\\\sim m} (b_u)^2 + \\\\frac{\\\\lambda}{2} \\\\sum_{u \\\\in \\\\mathbf{U}} (b_u^2) = \\\\left(\\\\frac{1}{2} \\\\sum_{u \\\\sim m} 1 + \\\\frac{\\\\lambda}{2} |\\\\mathbf{U}|\\\\right) (b_u)^2\\n$$\\n\\nNow, to find the optimal value of $b_u$, we differentiate the combined term with respect to $b_u$ and set it to zero:\\n$$\\n\\\\frac{d}{db_u} \\\\left(\\\\frac{1}{2} \\\\sum_{u \\\\sim m} 1 + \\\\frac{\\\\lambda}{2} |\\\\mathbf{U}| \\\\right) (b_u)^2 = 0\\n$$\\n\\nSolving for $b_u$:\\n$$\\n\\\\left(\\\\sum_{u \\\\sim m} 1 + \\\\lambda |\\\\mathbf{U}| \\\\right) b_u = 0\\n$$\\n\\nThus, the optimal value of $b_u$ is:\\n$$\\nb_u = \\\\frac{\\\\sum_{u \\\\sim m} r_{u m}}{\\\\sum_{u \\\\sim m} 1 + \\\\lambda |\\\\mathbf{U}|}\\n$$\\n\\nThis formula gives the optimal value of $b_u$ when all other values are fixed in the matrix-factorization problem described.\",\n",
       "  'B': 'To find the optimal value of $b_u$ while keeping all other values fixed, we take the derivative of the objective function with respect to $b_u$ and set it equal to zero. \\n\\nDifferentiating with respect to $b_u$, we get:\\n\\n$$\\\\sum_{u \\\\sim m} (f_{um} - r_{um}) + \\\\lambda b_u = 0$$\\n\\nRearranging the terms, we get:\\n\\n$$b_u = \\\\frac{\\\\sum_{u \\\\sim m} (r_{um} - \\\\langle \\\\mathbf{v}_u, \\\\mathbf{w}_m \\\\rangle - b_m - \\\\lambda b_u)}{\\\\lambda}$$\\n\\nTherefore, the optimal value of $b_u$ is given by the above expression.',\n",
       "  'overall': 'A',\n",
       "  'criteria': {'overall': 'A',\n",
       "   'correctness': 'A',\n",
       "   'relevance': 'A',\n",
       "   'clarity': 'A',\n",
       "   'completeness': 'A',\n",
       "   'other': 'Conciseness: B; Engagement: A'}},\n",
       " {'A': 'To find the optimal value of $b_u$, we differentiate the objective function with respect to $b_u$ and set it to zero. \\n\\nTaking the derivative of the objective function with respect to $b_u$, we get:\\n\\n$$\\\\frac{\\\\partial}{\\\\partial b_u} \\\\left[\\\\frac{1}{2} \\\\sum_{u \\\\sim m}\\\\left(f_{u m}-r_{u m}\\\\right)^{2}+\\\\frac{\\\\lambda}{2}\\\\left[\\\\sum_{u \\\\in \\\\mathbf{U}}\\\\left(b_{u}^{2}+\\\\left\\\\|\\\\mathbf{v}_{u}\\\\right\\\\|^{2}\\\\right)+\\\\sum_{m \\\\in \\\\mathbf{M}}\\\\left(b_{m}^{2}+\\\\left\\\\|\\\\mathbf{w}_{m}\\\\right\\\\|^{2}\\\\right)\\\\right] \\\\right]=0$$\\n\\nExpanding the terms and simplifying, we get:\\n\\n$$\\\\sum_{u \\\\sim m}\\\\left(f_{u m}-r_{u m}\\\\right) + \\\\lambda b_u = 0$$\\n\\nRearranging the terms, we get the optimal value for $b_u$ as:\\n\\n$$b_u = -\\\\frac{1}{\\\\lambda} \\\\sum_{u \\\\sim m}\\\\left(f_{u m}-r_{u m}\\\\right)$$\\n\\nTherefore, the optimal value of $b_u$ is given by the negative sum of the residuals divided by $\\\\lambda$.',\n",
       "  'B': \"To find the optimal value of $b_{u}$, we can minimize the objective function with respect to $b_{u}$ while keeping all other values fixed. Let's write out the objective function in terms of $b_{u}$ and the other terms:\\n\\n$$\\n\\\\text{Objective} = \\\\frac{1}{2} \\\\sum_{u \\\\sim m} \\\\left( \\\\left\\\\langle \\\\mathbf{v}_{u}, \\\\mathbf{w}_{m} \\\\right\\\\rangle + b_{u} + b_{m} - r_{u m} \\\\right)^2 + \\\\frac{\\\\lambda}{2} \\\\left[ \\\\sum_{u \\\\in \\\\mathbf{U}} \\\\left( b_{u}^{2} + \\\\left\\\\| \\\\mathbf{v}_{u} \\\\right\\\\|^2 \\\\right) + \\\\sum_{m \\\\in \\\\mathbf{M}} \\\\left( b_{m}^{2} + \\\\left\\\\| \\\\mathbf{w}_{m} \\\\right\\\\|^2 \\\\right) \\\\right]\\n$$\\n\\nNow, let's focus on the terms involving $b_{u}$:\\n\\n$$\\n\\\\frac{1}{2} \\\\sum_{u \\\\sim m} \\\\left( \\\\left\\\\langle \\\\mathbf{v}_{u}, \\\\mathbf{w}_{m} \\\\right\\\\rangle + b_{u} + b_{m} - r_{u m} \\\\right)^2 + \\\\frac{\\\\lambda}{2} \\\\left[ b_{u}^{2} + \\\\left\\\\| \\\\mathbf{v}_{u} \\\\right\\\\|^2 \\\\right]\\n$$\\n\\nTo find the optimal value of $b_{u}$, we take the derivative of the objective function with respect to $b_{u}$ and set it to zero:\\n\\n$$\\n\\\\frac{\\\\partial \\\\text{Objective}}{\\\\partial b_{u}} = \\\\sum_{u \\\\sim m} \\\\left( \\\\left\\\\langle \\\\mathbf{v}_{u}, \\\\mathbf{w}_{m} \\\\right\\\\rangle + b_{u} + b_{m} - r_{u m} \\\\right) + \\\\lambda b_{u} = 0\\n$$\\n\\nSolving for $b_{u}$, we get:\\n\\n$$\\nb_{u} = -\\\\frac{1}{\\\\lambda} \\\\left( \\\\sum_{u \\\\sim m} \\\\left( \\\\left\\\\langle \\\\mathbf{v}_{u}, \\\\mathbf{w}_{m} \\\\right\\\\rangle - r_{u m} - b_{m} \\\\right) \\\\right)\\n$$\\n\\nTherefore, the optimal value of $b_{u}$ is given by this equation.\",\n",
       "  'overall': 'B',\n",
       "  'criteria': {'overall': 'B',\n",
       "   'correctness': 'B',\n",
       "   'relevance': 'B',\n",
       "   'clarity': 'AB',\n",
       "   'completeness': 'B',\n",
       "   'other': 'Conciseness: A; Engagement: B'}},\n",
       " {'A': 'To find the optimal value of $b_u$, we need to take the derivative of the objective function with respect to $b_u$ and set it equal to zero. The objective function is given by:\\n\\n$$\\\\frac{1}{2} \\\\sum_{u \\\\sim m}(f_{u m}-r_{u m})^{2}+\\\\frac{\\\\lambda}{2}\\\\left[\\\\sum_{u \\\\in \\\\mathbf{U}}(b_{u}^{2}+\\\\|\\\\mathbf{v}_{u}\\\\|^{2})+\\\\sum_{m \\\\in \\\\mathbf{M}}(b_{m}^{2}+\\\\|\\\\mathbf{w}_{m}\\\\|^{2})\\\\right]$$\\n\\nTaking the derivative with respect to $b_u$, we get:\\n\\n$$\\\\frac{\\\\partial}{\\\\partial b_u}\\\\left[\\\\frac{1}{2} \\\\sum_{u \\\\sim m}(f_{u m}-r_{u m})^{2}+\\\\frac{\\\\lambda}{2}\\\\sum_{u \\\\in \\\\mathbf{U}}(b_{u}^{2}+\\\\|\\\\mathbf{v}_{u}\\\\|^{2})\\\\right] = \\\\lambda b_u + \\\\sum_{m \\\\sim u}(f_{u m}-r_{u m})$$\\n\\nSetting this derivative equal to zero and solving for $b_u$, we get:\\n\\n$$\\\\lambda b_u + \\\\sum_{m \\\\sim u}(f_{u m}-r_{u m}) = 0$$\\n$$b_u = -\\\\frac{1}{\\\\lambda} \\\\sum_{m \\\\sim u}(f_{u m}-r_{u m})$$\\n\\nTherefore, the optimal value of $b_u$ is given by the above expression.',\n",
       "  'B': \"To find the optimal value of $b_{u}$, we differentiate the objective function with respect to $b_{u}$ and set it to zero. Let's calculate the derivative:\\n\\nGiven the objective function: \\n\\n$$ \\\\frac{1}{2} \\\\sum_{u \\\\sim m}\\\\left(f_{u m}-r_{u m}\\\\right)^{2}+\\\\frac{\\\\lambda}{2}\\\\left[\\\\sum_{u \\\\in \\\\mathbf{U}}\\\\left(b_{u}^{2}+\\\\left\\\\|\\\\mathbf{v}_{u}\\\\right\\\\|^{2}\\\\right)+\\\\sum_{m \\\\in \\\\mathbf{M}}\\\\left(b_{m}^{2}+\\\\left\\\\|\\\\mathbf{w}_{m}\\\\right\\\\|^{2}\\\\right)\\\\right] $$\\n\\nThe partial derivative of the objective function with respect to $b_{u}$ is:\\n\\n$$ \\\\frac{\\\\partial}{\\\\partial b_{u}} = \\\\sum_{u \\\\sim m} (f_{um} - r_{um}) + \\\\lambda b_{u} $$\\n\\nSetting this derivative to zero, we get:\\n\\n$$ \\\\sum_{u \\\\sim m} (f_{um} - r_{um}) + \\\\lambda b_{u} = 0 $$\\n\\nSolving for $b_{u}$, we get:\\n\\n$$ b_{u} = -\\\\frac{1}{\\\\lambda} \\\\sum_{u \\\\sim m} (f_{um} - r_{um}) $$\\n\\nTherefore, the optimal value of $b_{u}$, provided that all other values are fixed, is:\\n\\n$$ b_{u} = -\\\\frac{1}{\\\\lambda} \\\\sum_{u \\\\sim m} (f_{um} - r_{um}) $$\\n\\nThis is the expression for updating the bias term $b_{u}$ in the matrix factorization problem.\",\n",
       "  'overall': 'A',\n",
       "  'criteria': {'overall': 'A',\n",
       "   'correctness': 'AB',\n",
       "   'relevance': 'AB',\n",
       "   'clarity': 'A',\n",
       "   'completeness': 'A',\n",
       "   'other': 'Conciseness: B; Engagement: A'}},\n",
       " {'A': \"To find the optimal value of $b_u$ while keeping all other values fixed, we need to take the derivative of the objective function with respect to $b_u$ and set it to zero.\\n\\nTaking the derivative of the objective function with respect to $b_u$, we get:\\n\\n$$\\\\frac{\\\\partial}{\\\\partial b_u} \\\\left( \\\\frac{1}{2} \\\\sum_{u \\\\sim m}(f_{um} - r_{um})^2 + \\\\frac{\\\\lambda}{2} \\\\sum_{u \\\\in U} (b_u^2 + ||v_u||^2) + \\\\sum_{m \\\\in M} (b_m^2 + ||w_m||^2) \\\\right)$$\\n\\nNow let's focus on the terms that involve $b_u$:\\n\\n1. The first term in the objective function involves $f_{um}$, which in turn involves $b_u$. The derivative of this term with respect to $b_u$ is $2(f_{um} - r_{um})$.\\n\\n2. The second term in the objective function involves $b_u$ squared. The derivative of this term with respect to $b_u$ is $\\\\lambda b_u$.\\n\\nSetting the sum of these derivatives to zero, we get:\\n\\n$$\\\\sum_{u \\\\sim m}(f_{um} - r_{um}) + \\\\lambda b_u = 0$$\\n\\nSolving for $b_u$:\\n\\n$$b_u = -\\\\frac{1}{\\\\lambda} \\\\sum_{u \\\\sim m}(f_{um} - r_{um})$$\\n\\nTherefore, the optimal value for $b_u$ is given by the above expression.\",\n",
       "  'B': 'To find the optimal value of $b_{u}$, we can take the derivative of the objective function with respect to $b_{u}$ and set it to zero:\\n\\n$$\\\\frac{\\\\partial}{\\\\partial b_{u}} \\\\left[\\\\frac{1}{2} \\\\sum_{u \\\\sim m}\\\\left(f_{u m}-r_{u m}\\\\right)^{2}+\\\\frac{\\\\lambda}{2}\\\\left[\\\\sum_{u \\\\in \\\\mathbf{U}}\\\\left(b_{u}^{2}+\\\\left\\\\|\\\\mathbf{v}_{u}\\\\right\\\\|^{2}\\\\right)+\\\\sum_{m \\\\in \\\\mathbf{M}}\\\\left(b_{m}^{2}+\\\\left\\\\|\\\\mathbf{w}_{m}\\\\right\\\\|^{2}\\\\right)\\\\right]\\\\right] = 0$$\\n\\nSolving this equation will give us the optimal value of $b_{u}$.',\n",
       "  'overall': 'A',\n",
       "  'criteria': {'overall': 'A',\n",
       "   'correctness': 'AB',\n",
       "   'relevance': 'AB',\n",
       "   'clarity': 'None',\n",
       "   'completeness': 'None',\n",
       "   'other': ''}},\n",
       " {'A': 'To find the optimal value of $b_u$, we take the derivative of the objective function with respect to $b_u$ and set it equal to zero. \\n\\nTaking the derivative of the objective function with respect to $b_u$, we get:\\n\\n$$ \\\\frac{\\\\partial}{\\\\partial b_u} \\\\left( \\\\frac{1}{2} \\\\sum_{u \\\\sim m} (f_{um} - r_{um})^2 + \\\\frac{\\\\lambda}{2} \\\\sum_{u \\\\in U} (b_u^2 + ||v_u||^2) + \\\\sum_{m \\\\in M} (b_m^2 + ||w_m||^2) \\\\right) $$\\n\\nSince $f_{um} = \\\\langle v_u, w_m \\\\rangle + b_u + b_m$, the derivative with respect to $b_u$ simplifies to:\\n\\n$$ \\\\sum_{u \\\\sim m} (f_{um} - r_{um}) + \\\\lambda b_u $$\\n\\nSetting this equal to zero and solving for $b_u$, we get:\\n\\n$$ \\\\sum_{u \\\\sim m} (f_{um} - r_{um}) + \\\\lambda b_u = 0 $$\\n\\n$$ b_u = -\\\\frac{1}{\\\\lambda} \\\\sum_{u \\\\sim m} (f_{um} - r_{um}) $$\\n\\nTherefore, the optimal value of $b_u$ is given by $b_u = -\\\\frac{1}{\\\\lambda} \\\\sum_{u \\\\sim m} (f_{um} - r_{um})$.',\n",
       "  'B': \"To find the optimal value of $b_{u}$, we need to take the derivative of the objective function with respect to $b_{u}$ and set it to zero. Let's start by calculating the derivative of the objective function with respect to $b_{u}$:\\n\\n$$ \\\\frac{\\\\partial}{\\\\partial b_{u}} \\\\left( \\\\frac{1}{2} \\\\sum_{u \\\\sim m} (f_{um} - r_{um})^2 + \\\\frac{\\\\lambda}{2} \\\\left[ \\\\sum_{u \\\\in \\\\mathbf{U}} (b_{u}^2 + \\\\|\\\\mathbf{v}_{u}\\\\|^2) + \\\\sum_{m \\\\in \\\\mathbf{M}} (b_{m}^2 + \\\\|\\\\mathbf{w}_{m}\\\\|^2) \\\\right] \\\\right) $$\\n\\nThe derivative of the first term inside the summation is straightforward:\\n\\n$$ \\\\frac{\\\\partial}{\\\\partial b_{u}} \\\\left( \\\\frac{1}{2} (f_{um} - r_{um})^2 \\\\right) = (f_{um} - r_{um}) $$\\n\\nNow, let's find the derivative of the second term inside the summation with respect to $b_{u}$:\\n\\n$$ \\\\frac{\\\\partial}{\\\\partial b_{u}} \\\\left( \\\\frac{\\\\lambda}{2} \\\\sum_{u \\\\in \\\\mathbf{U}} (b_{u}^2 + \\\\|\\\\mathbf{v}_{u}\\\\|^2) \\\\right) = \\\\lambda b_{u} $$\\n\\nSetting the derivative equal to zero gives us the optimal value for $b_{u}$:\\n\\n$$ \\\\sum_{u \\\\sim m} (f_{um} - r_{um}) + \\\\lambda b_{u} = 0 $$\\n\\nSolving for $b_{u}$, we get:\\n\\n$$ b_{u} = -\\\\frac{1}{\\\\lambda} \\\\sum_{u \\\\sim m} (f_{um} - r_{um}) $$\\n\\nSo, the optimal value of $b_{u}$ is given by the negative sum over all pairs $(u, m)$ for which a rating exists of the difference between the estimated score $f_{um}$ and the observed rating $r_{um}$, divided by $\\\\lambda$.\",\n",
       "  'overall': 'A',\n",
       "  'criteria': {'overall': 'A',\n",
       "   'correctness': 'AB',\n",
       "   'relevance': 'AB',\n",
       "   'clarity': 'AB',\n",
       "   'completeness': 'B',\n",
       "   'other': 'conciseness: A'}},\n",
       " {'A': \"To find the optimal value of $b_u$ given that all other values are fixed, we can treat this problem as an optimization problem. We want to minimize the objective function with respect to $b_u$. \\n\\nFirst, let's rewrite the objective function in terms of $b_u$:\\n$$\\n\\\\frac{1}{2} \\\\sum_{u \\\\sim m}\\\\left(\\\\langle \\\\mathbf{v}_{u}, \\\\mathbf{w}_{m} \\\\rangle + b_{u} + b_{m} - r_{u m}\\\\right)^{2} + \\\\frac{\\\\lambda}{2} \\\\left[\\\\sum_{u \\\\in \\\\mathbf{U}} (b_{u}^{2} + \\\\|\\\\mathbf{v}_{u}\\\\|^{2}) + \\\\sum_{m \\\\in \\\\mathbf{M}} (b_{m}^{2} + \\\\|\\\\mathbf{w}_{m}\\\\|^{2})\\\\right]\\n$$\\n\\nNow, we want to find the optimal value of $b_u$ that minimizes this objective function. To do this, we need to take the derivative of the objective function with respect to $b_u$ and set it equal to 0. \\n\\nTaking the derivative with respect to $b_u$, we get:\\n$$\\n\\\\sum_{u \\\\sim m}(\\\\langle \\\\mathbf{v}_{u}, \\\\mathbf{w}_{m} \\\\rangle + b_{u} + b_{m} - r_{u m}) + \\\\lambda b_{u} = 0\\n$$\\n\\nSolving for $b_u$, we get:\\n$$\\nb_{u} = \\\\frac{\\\\sum_{u \\\\sim m}(r_{u m} - \\\\langle \\\\mathbf{v}_{u}, \\\\mathbf{w}_{m} \\\\rangle - b_{m})}{\\\\lambda}\\n$$\\n\\nTherefore, the optimal value of $b_u$ that minimizes the objective function is given by the above equation. This value can be calculated iteratively by updating $b_u$ until convergence is reached.\",\n",
       "  'B': 'The main mathematical topics in this problem involve matrix factorization, optimization, and regularization. In matrix factorization, we aim to estimate the unknown ratings by decomposing the matrix of observed ratings into two lower-dimensional matrices representing users and items. The optimization objective involves minimizing the squared error between the estimated and observed ratings, along with a regularization term to prevent overfitting.\\n\\nKey Points:\\n1. Matrix factorization is a common technique used in recommendation systems to estimate unknown ratings.\\n2. The optimization objective includes a squared error term and a regularization term to balance accuracy and generalization.\\n3. Regularization helps prevent overfitting by penalizing large values of biases and latent factors.\\n\\nBasic Cause-and-Effect:\\nTo find the optimal value of $b_{u}$, we need to minimize the objective function with respect to $b_{u}$ while keeping all other variables fixed. Taking the derivative of the objective function with respect to $b_{u}$ and setting it to zero will give us the optimal value.\\n\\nMathematically, the derivative of the objective function with respect to $b_{u}$ is:\\n$$ \\\\frac{\\\\partial}{\\\\partial b_{u}}\\\\left(\\\\frac{1}{2} \\\\sum_{u \\\\sim m}\\\\left(f_{u m}-r_{u m}\\\\right)^{2}+\\\\frac{\\\\lambda}{2}\\\\left[\\\\sum_{u \\\\in \\\\mathbf{U}}\\\\left(b_{u}^{2}+\\\\left\\\\|\\\\mathbf{v}_{u}\\\\right\\\\|^{2}\\\\right)+\\\\sum_{m \\\\in \\\\mathbf{M}}\\\\left(b_{m}^{2}+\\\\left\\\\|\\\\mathbf{w}_{m}\\\\right\\\\|^{2}\\\\right)\\\\right]\\\\right) $$\\n\\nSetting this derivative to zero and solving for $b_{u}$ will give us the optimal value of $b_{u}$. This process involves finding the balance between minimizing the squared error term and the regularization term to achieve the best estimate of $b_{u}$ that generalizes well to unseen data.',\n",
       "  'overall': 'A',\n",
       "  'criteria': {'overall': 'A',\n",
       "   'correctness': 'AB',\n",
       "   'relevance': 'AB',\n",
       "   'clarity': 'AB',\n",
       "   'completeness': 'AB',\n",
       "   'other': ''}},\n",
       " {'A': 'To find the optimal value of $b_u$ while keeping all other values fixed, we can take the derivative of the objective function with respect to $b_u$ and set it equal to zero. \\n\\nTaking the derivative of the objective function with respect to $b_u$, we get:\\n\\n$$\\\\frac{\\\\partial}{\\\\partial b_u} \\\\left[\\\\frac{1}{2} \\\\sum_{u \\\\sim m}\\\\left(f_{u m}-r_{u m}\\\\right)^{2}+\\\\frac{\\\\lambda}{2}\\\\left[\\\\sum_{u \\\\in \\\\mathbf{U}}\\\\left(b_{u}^{2}+\\\\left\\\\|\\\\mathbf{v}_{u}\\\\right\\\\|^{2}\\\\right)+\\\\sum_{m \\\\in \\\\mathbf{M}}\\\\left(b_{m}^{2}+\\\\left\\\\|\\\\mathbf{w}_{m}\\\\right\\\\|^{2}\\\\right)\\\\right]\\\\right]$$\\n\\nExpanding the first term in the objective function, we get:\\n\\n$$\\\\frac{\\\\partial}{\\\\partial b_u} \\\\left[\\\\frac{1}{2} \\\\sum_{u \\\\sim m}\\\\left(\\\\left\\\\langle\\\\mathbf{v}_{u}, \\\\mathbf{w}_{m}\\\\right\\\\rangle+b_{u}+b_{m}-r_{u m}\\\\right)^{2}\\\\right]$$\\n\\nSince $b_u$ only appears in the first term, we can focus on that term. Taking the derivative with respect to $b_u$, we get:\\n\\n$$\\\\sum_{u \\\\sim m}\\\\left(\\\\left\\\\langle\\\\mathbf{v}_{u}, \\\\mathbf{w}_{m}\\\\right\\\\rangle+b_{u}+b_{m}-r_{u m}\\\\right) = 0$$\\n\\nSolving for $b_u$, we get:\\n\\n$$\\\\sum_{u \\\\sim m}\\\\left(\\\\left\\\\langle\\\\mathbf{v}_{u}, \\\\mathbf{w}_{m}\\\\right\\\\rangle+b_{u}+b_{m}-r_{u m}\\\\right) = 0$$\\n$$\\\\sum_{u \\\\sim m} b_{u} = \\\\sum_{u \\\\sim m} (r_{u m} - \\\\left\\\\langle\\\\mathbf{v}_{u}, \\\\mathbf{w}_{m}\\\\right\\\\rangle - b_{m})$$\\n$$b_{u} = \\\\frac{1}{\\\\text{number of ratings for user u}} \\\\sum_{u \\\\sim m} (r_{u m} - \\\\left\\\\langle\\\\mathbf{v}_{u}, \\\\mathbf{w}_{m}\\\\right\\\\rangle - b_{m})$$\\n\\nTherefore, the optimal value of $b_u$ is the average difference between the observed rating and the predicted rating (based on the current values of $\\\\mathbf{v}_u$, $\\\\mathbf{w}_m$, and $b_m$) for all movies that user $u$ has rated.',\n",
       "  'B': 'To find the optimal value of $b_u$, we need to minimize the objective function with respect to $b_u$.\\n\\nThe objective function is:\\n$$\\n\\\\frac{1}{2} \\\\sum_{u \\\\sim m}\\\\left(f_{u m}-r_{u m}\\\\right)^{2}+\\\\frac{\\\\lambda}{2}\\\\left[\\\\sum_{u \\\\in \\\\mathbf{U}}\\\\left(b_{u}^{2}+\\\\left\\\\|\\\\mathbf{v}_{u}\\\\right\\\\|^{2}\\\\right)+\\\\sum_{m \\\\in \\\\mathbf{M}}\\\\left(b_{m}^{2}+\\\\left\\\\|\\\\mathbf{w}_{m}\\\\right\\\\|^{2}\\\\right)\\\\right]\\n$$\\n\\nTaking the derivative of the objective function with respect to $b_u$ and setting it to zero to find the optimal value:\\n$$\\n\\\\frac{\\\\partial}{\\\\partial b_u} = \\\\sum_{u \\\\sim m}(f_{um} - r_{um}) + \\\\lambda b_u = 0\\n$$\\n\\nSolving for $b_u$:\\n$$\\nb_u = -\\\\frac{1}{\\\\lambda} \\\\sum_{u \\\\sim m}(f_{um} - r_{um})\\n$$\\n\\nTherefore, the optimal value of $b_u$ is given by $b_u = -\\\\frac{1}{\\\\lambda} \\\\sum_{u \\\\sim m}(f_{um} - r_{um})$.',\n",
       "  'overall': 'A',\n",
       "  'criteria': {'overall': 'A',\n",
       "   'correctness': 'A',\n",
       "   'relevance': 'A',\n",
       "   'clarity': 'B',\n",
       "   'completeness': 'A',\n",
       "   'other': 'Conciseness: B; Engagement: AB'}},\n",
       " {'A': \"To find the optimal value of $b_{u}$, we need to take the derivative of the objective function with respect to $b_{u}$ and set it to zero. Let's denote the objective function as $L$.\\n\\nLet's take the derivative of $L$ with respect to $b_{u}$:\\n\\n$$\\\\frac{\\\\partial L}{\\\\partial b_{u}} = \\\\sum_{m}(f_{um} - r_{um}) + \\\\lambda b_{u}$$\\n\\nSetting this derivative to zero:\\n\\n$$\\\\sum_{m}(f_{um} - r_{um}) + \\\\lambda b_{u} = 0$$\\n\\n$$\\\\sum_{m}(\\\\left\\\\langle\\\\mathbf{v}_{u}, \\\\mathbf{w}_{m}\\\\right\\\\rangle+b_{u}+b_{m} - r_{um}) + \\\\lambda b_{u} = 0$$\\n\\nSince we are looking for the optimal value of $b_{u}$, we can ignore the terms that do not involve $b_{u}$:\\n\\n$$\\\\sum_{m}(\\\\left\\\\langle\\\\mathbf{v}_{u}, \\\\mathbf{w}_{m}\\\\right\\\\rangle - r_{um}) + \\\\sum_{m}b_{m} + \\\\lambda b_{u} = 0$$\\n\\nSince $\\\\sum_{m}b_{m}$ does not depend on $b_{u}$, we can treat it as a constant. Let's denote it as $C$:\\n\\n$$\\\\sum_{m}(\\\\left\\\\langle\\\\mathbf{v}_{u}, \\\\mathbf{w}_{m}\\\\right\\\\rangle - r_{um}) + C + \\\\lambda b_{u} = 0$$\\n\\nNow, isolate $b_{u}$:\\n\\n$$\\\\lambda b_{u} = -\\\\left(\\\\sum_{m}(\\\\left\\\\langle\\\\mathbf{v}_{u}, \\\\mathbf{w}_{m}\\\\right\\\\rangle - r_{um}) + C\\\\right)$$\\n\\n$$b_{u} = -\\\\frac{1}{\\\\lambda}\\\\left(\\\\sum_{m}(\\\\left\\\\langle\\\\mathbf{v}_{u}, \\\\mathbf{w}_{m}\\\\right\\\\rangle - r_{um}) + C\\\\right)$$\\n\\nTherefore, the optimal value of $b_{u}$ is given by $b_{u} = -\\\\frac{1}{\\\\lambda}\\\\left(\\\\sum_{m}(\\\\left\\\\langle\\\\mathbf{v}_{u}, \\\\mathbf{w}_{m}\\\\right\\\\rangle - r_{um}) + C\\\\right)$.\",\n",
       "  'B': 'To find the optimal value of $b_{u}$, we need to minimize the objective function with respect to $b_{u}$. The objective function is given as:\\n\\n$$ \\\\frac{1}{2} \\\\sum_{u \\\\sim m}\\\\left(f_{u m}-r_{u m}\\\\right)^{2} + \\\\frac{\\\\lambda}{2}\\\\left[\\\\sum_{u \\\\in \\\\mathbf{U}}\\\\left(b_{u}^{2}+\\\\left\\\\|\\\\mathbf{v}_{u}\\\\right\\\\|^{2}\\\\right)+\\\\sum_{m \\\\in \\\\mathbf{M}}\\\\left(b_{m}^{2}+\\\\left\\\\|\\\\mathbf{w}_{m}\\\\right\\\\|^{2}\\\\right)\\\\right] $$\\n\\nExpanding the terms involving $b_{u}$ and dropping the terms that do not involve $b_{u}$, we have:\\n\\n$$ \\\\frac{1}{2} \\\\sum_{u \\\\sim m}\\\\left(\\\\left\\\\langle\\\\mathbf{v}_{u}, \\\\mathbf{w}_{m}\\\\right\\\\rangle+b_{u}+b_{m}-r_{u m}\\\\right)^{2} + \\\\frac{\\\\lambda}{2} \\\\left[b_{u}^{2} + \\\\sum_{u \\\\in \\\\mathbf{U}}\\\\left\\\\|\\\\mathbf{v}_{u}\\\\right\\\\|^{2}\\\\right] $$\\n\\nTaking the derivative of the objective function with respect to $b_{u}$ and setting it to zero, we find the optimal value for $b_{u}$:\\n\\n$$ \\\\sum_{u \\\\sim m} \\\\left(\\\\left\\\\langle\\\\mathbf{v}_{u}, \\\\mathbf{w}_{m}\\\\right\\\\rangle + b_{u} + b_{m} - r_{u m}\\\\right) + \\\\lambda b_{u} = 0 $$\\n\\nSolving for $b_{u}$, we get:\\n\\n$$ b_{u} = -\\\\frac{1}{\\\\lambda} \\\\left(\\\\sum_{u \\\\sim m} \\\\left(\\\\left\\\\langle\\\\mathbf{v}_{u}, \\\\mathbf{w}_{m}\\\\right\\\\rangle - r_{u m}\\\\right) + C\\\\right) $$\\n\\nwhere $C$ is a constant term that does not depend on $b_{u}$.',\n",
       "  'overall': 'A',\n",
       "  'criteria': {'overall': 'A',\n",
       "   'correctness': 'AB',\n",
       "   'relevance': 'AB',\n",
       "   'clarity': 'AB',\n",
       "   'completeness': 'AB',\n",
       "   'other': ''}},\n",
       " {'A': 'The optimal value of $b_u$ is given by:\\n$$\\nb_u = \\\\frac{\\\\sum_{u \\\\sim m} (r_{u m} - \\\\left\\\\langle\\\\mathbf{v}_{u}, \\\\mathbf{w}_{m}\\\\right\\\\rangle - b_m) + \\\\lambda \\\\left\\\\|\\\\mathbf{v}_{u}\\\\right\\\\|^{2}}{\\\\lambda}\\n$$',\n",
       "  'B': 'To find the optimal value of $b_u$ while keeping all other values fixed, we need to minimize the objective function with respect to $b_u$. \\n\\nGiven the objective function:\\n$$\\n\\\\frac{1}{2} \\\\sum_{u \\\\sim m}\\\\left(f_{u m}-r_{u m}\\\\right)^{2}+\\\\frac{\\\\lambda}{2}\\\\left[\\\\sum_{u \\\\in \\\\mathbf{U}}\\\\left(b_{u}^{2}+\\\\left\\\\|\\\\mathbf{v}_{u}\\\\right\\\\|^{2}\\\\right)+\\\\sum_{m \\\\in \\\\mathbf{M}}\\\\left(b_{m}^{2}+\\\\left\\\\|\\\\mathbf{w}_{m}\\\\right\\\\|^{2}\\\\right)\\\\right]\\n$$\\n\\nWe can see that the term involving $b_u$ is:\\n$$\\n\\\\frac{1}{2} \\\\sum_{u \\\\sim m}\\\\left(\\\\left\\\\langle\\\\mathbf{v}_{u}, \\\\mathbf{w}_{m}\\\\right\\\\rangle+b_{u}+b_{m}-r_{u m}\\\\right)^{2}+\\\\frac{\\\\lambda}{2}\\\\left(b_{u}^{2}+\\\\left\\\\|\\\\mathbf{v}_{u}\\\\right\\\\|^{2}\\\\right)\\n$$\\n\\nTo find the optimal value of $b_u$, we differentiate the above expression with respect to $b_u$ and set it to zero:\\n$$\\n\\\\frac{\\\\partial}{\\\\partial b_u} \\\\left[\\\\frac{1}{2} \\\\sum_{u \\\\sim m}\\\\left(\\\\left\\\\langle\\\\mathbf{v}_{u}, \\\\mathbf{w}_{m}\\\\right\\\\rangle+b_{u}+b_{m}-r_{u m}\\\\right)^{2}+\\\\frac{\\\\lambda}{2}\\\\left(b_{u}^{2}+\\\\left\\\\|\\\\mathbf{v}_{u}\\\\right\\\\|^{2}\\\\right)\\\\right] = 0\\n$$\\n\\nSolving this equation will give us the optimal value of $b_u$.',\n",
       "  'overall': 'B',\n",
       "  'criteria': {'overall': 'B',\n",
       "   'correctness': 'AB',\n",
       "   'relevance': 'AB',\n",
       "   'clarity': 'B',\n",
       "   'completeness': 'AB',\n",
       "   'other': ''}},\n",
       " {'A': '##Answer:\\nThe optimal value of $b_{u}$, provided that all other values are fixed, is given by $$ b_{u} = \\\\frac{\\\\sum_{m \\\\sim u} (r_{u m} - \\\\langle \\\\mathbf{v}_{u}, \\\\mathbf{w}_{m} \\\\rangle - b_{m})}{1 + \\\\lambda} $$\\n\\n##Reasons:\\n1. **Objective Function**: The given objective function consists of a least squares term for the difference between the estimated score $f_{u m}$ and the actual rating $r_{u m}$, as well as regularization terms for bias and vectors.\\n\\n2. **Optimization Task**: To find the optimal value of $b_{u}$, we need to minimize the objective function with respect to $b_{u}$ while keeping all other variables fixed.\\n\\n3. **Partial Derivative**: Taking the partial derivative of the objective function with respect to $b_{u}$ and setting it to zero leads to the optimal value of $b_{u}$.\\n\\n4. **Derivation**: The derivative of the objective function with respect to $b_{u}$ results in the term $\\\\sum_{m \\\\sim u} (r_{u m} - \\\\langle \\\\mathbf{v}_{u}, \\\\mathbf{w}_{m} \\\\rangle - b_{m})$, which is then divided by $1 + \\\\lambda$ to obtain the optimal value of $b_{u}$.\\n\\n5. **Interpretation**: The optimal $b_{u}$ is calculated based on the errors between the estimated score for user $u$ on movie $m$ and the actual rating, adjusted by the regularization parameter $\\\\lambda$.\\n\\n6. **Regularization Factor**: The regularization term $\\\\lambda$ plays a role in controlling the impact of the regularization on the bias values, ensuring a balance between fitting the data and preventing overfitting.\\n\\n7. **Optimization Process**: By updating $b_{u}$ with the derived optimal value in an iterative optimization process, the objective function can be minimized to find the best bias values for the matrix-factorization problem.\\n\\nIn conclusion, the optimal value of $b_{u}$ in the matrix-factorization problem is determined by the errors in estimating the ratings, weighted by the regularization factor $\\\\lambda$, and adjusted based on the fixed values of other parameters in the model.',\n",
       "  'B': '##Answer:\\nThe optimal value of $b_u$ can be obtained by setting the derivative of the objective function with respect to $b_u$ to zero and solving for $b_u$. The optimal value is given by: $$ b_u = \\\\frac{1}{\\\\lambda + |I_u|} \\\\sum_{m \\\\in I_u} (r_{um} - \\\\langle \\\\mathbf{v}_u, \\\\mathbf{w}_m \\\\rangle - b_m) $$ where $I_u$ represents the set of movies rated by user $u$.\\n\\n##Reasons:\\n1. To find the optimal value of $b_u$, we differentiate the objective function with respect to $b_u$ and set the derivative to zero to find the critical point.\\n2. The derivative of the objective function with respect to $b_u$ in this case involves the sum over the movies rated by user $u$, denoted by $I_u$.\\n3. The optimal value of $b_u$ is determined by a weighted sum of the differences between the predicted score $\\\\langle \\\\mathbf{v}_u, \\\\mathbf{w}_m \\\\rangle + b_m$ and the actual ratings $r_{um}$ for the movies in $I_u$.\\n4. The term $\\\\lambda + |I_u|$ in the denominator serves as a regularization factor, adjusting the influence of the sum of differences on the optimal value of $b_u$ based on the number of ratings in $I_u$.',\n",
       "  'overall': 'B',\n",
       "  'criteria': {'overall': 'B',\n",
       "   'correctness': 'B',\n",
       "   'relevance': 'AB',\n",
       "   'clarity': 'AB',\n",
       "   'completeness': 'B',\n",
       "   'other': ''}},\n",
       " {'A': '## Answer:\\nThe optimal value of $b_{u}$ is given by $$b_{u} = \\\\frac{\\\\sum_{m \\\\sim u} (r_{um} - \\\\left\\\\langle \\\\mathbf{v}_{u}, \\\\mathbf{w}_{m} \\\\right\\\\rangle - b_{m})}{1 + \\\\lambda \\\\lVert \\\\mathbf{v}_{u} \\\\rVert^{2}}$$\\n\\n## Reasons:\\n1. In the matrix-factorization problem provided, the objective function includes terms related to the biases $b_{u}$ and $b_{m}$, as well as the user and movie vectors $\\\\mathbf{v}_{u}$ and $\\\\mathbf{w}_{m}$, respectively.\\n2. To find the optimal value of $b_{u}$ while keeping all other values fixed, we need to minimize the objective function with respect to $b_{u}$.\\n3. Taking the derivative of the objective function with respect to $b_{u}$ and setting it to zero gives us the optimal value of $b_{u}$.\\n4. The derivative of the objective function with respect to $b_{u}$ is $$\\\\frac{\\\\partial}{\\\\partial b_{u}} = \\\\sum_{m \\\\sim u} (f_{um} - r_{um}) - \\\\lambda b_{u}$$\\n5. Setting the derivative to zero and rearranging terms, we get the optimal value of $b_{u}$ as provided in the answer.\\n6. This optimal value accounts for the contributions of the observed ratings $r_{um}$, the user and movie vectors $\\\\mathbf{v}_{u}$ and $\\\\mathbf{w}_{m}$, and the biases $b_{m}$ while considering the regularization term controlled by $\\\\lambda$.\\n7. Computing this optimal value allows for updating the bias term $b_{u}$ in the matrix factorization model to minimize the objective function and improve the accuracy of the rating predictions.',\n",
       "  'B': '##Answer:\\nThe optimal value of $b_{u}$ is $\\\\frac{1}{|\\\\mathcal{R}_{u}|} \\\\sum_{m \\\\in \\\\mathcal{R}_{u}}\\\\left(r_{u m}-\\\\left\\\\langle\\\\mathbf{v}_{u}, \\\\mathbf{w}_{m}\\\\right\\\\rangle-b_{m}\\\\right)$, where $\\\\mathcal{R}_{u}$ represents the set of movies rated by user $u$.\\n\\n##Reasons:\\nTo find the optimal value of $b_{u}$, we need to minimize the objective function with respect to $b_{u}$ while keeping all other parameters fixed. This involves taking the derivative of the objective function with respect to $b_{u}$ and setting it to zero to find the minimum.\\n\\nGiven the objective function and the expression for $f_{u m}$, we can substitute $f_{u m}$ into the objective function. Then, taking the derivative of the objective function with respect to $b_{u}$ and setting it to zero will lead to the optimal value of $b_{u}$.\\n\\nThe optimal value of $b_{u}$ is obtained as $\\\\frac{1}{|\\\\mathcal{R}_{u}|} \\\\sum_{m \\\\in \\\\mathcal{R}_{u}}\\\\left(r_{u m}-\\\\left\\\\langle\\\\mathbf{v}_{u}, \\\\mathbf{w}_{m}\\\\right\\\\rangle-b_{m}\\\\right)$, where $|\\\\mathcal{R}_{u}|$ denotes the number of movies rated by user $u$ and $\\\\mathcal{R}_{u}$ represents the set of movies rated by user $u$.\\n\\nTherefore, the optimal value of $b_{u}$ can be calculated using the given expression based on the ratings and the latent factor vectors for user $u$ and the movies rated by that user.',\n",
       "  'overall': 'A',\n",
       "  'criteria': {'overall': 'A',\n",
       "   'correctness': 'A',\n",
       "   'relevance': 'A',\n",
       "   'clarity': 'AB',\n",
       "   'completeness': 'A',\n",
       "   'other': ''}},\n",
       " {'A': 'To find the optimal value of $b_u$, we need to take the partial derivative of the objective function with respect to $b_u$ and set it equal to zero. However, since the bias terms $b_u$ are independent of each other, we can optimize them one at a time.\\n\\nTaking the derivative of the objective function with respect to $b_u$, we get:\\n\\n$\\\\frac{\\\\partial}{\\\\partial b_u} = \\\\sum_{u \\\\sim m} (f_{um} - r_{um}) + \\\\lambda b_u$\\n\\nSetting this derivative to zero and solving for $b_u$, we get:\\n\\n$b_u = -\\\\frac{\\\\sum_{u \\\\sim m} (f_{um} - r_{um})}{\\\\lambda}$\\n\\nTherefore, the optimal value of $b_u$ is given by the negative sum of the errors $(f_{um} - r_{um})$ divided by $\\\\lambda$. This calculation can be repeated for each user $u$ to find the optimal bias term for that particular user.',\n",
       "  'B': 'Step 1: To find the optimal value of $b_u$, we minimize the objective function by differentiating with respect to $b_u$ and setting the derivative equal to zero.\\n\\nStep 2: The objective function is:\\n$$\\n\\\\frac{1}{2} \\\\sum_{u \\\\sim m}\\\\left(f_{u m}-r_{u m}\\\\right)^{2}+\\\\frac{\\\\lambda}{2}\\\\left[\\\\sum_{u \\\\in \\\\mathbf{U}}\\\\left(b_{u}^{2}+\\\\left\\\\|\\\\mathbf{v}_{u}\\\\right\\\\|^{2}\\\\right)+\\\\sum_{m \\\\in \\\\mathbf{M}}\\\\left(b_{m}^{2}+\\\\left\\\\|\\\\mathbf{w}_{m}\\\\right\\\\|^{2}\\\\right)\\\\right]\\n$$\\n\\nStep 3: Differentiating the objective function with respect to $b_u$ gives:\\n$$\\n\\\\frac{\\\\partial}{\\\\partial b_u} = \\\\sum_{u \\\\sim m} (f_{um} - r_{um}) + \\\\lambda b_u\\n$$\\n\\nStep 4: Setting the derivative equal to zero and solving for $b_u$ yields:\\n$$\\nb_u = -\\\\frac{1}{\\\\lambda}\\\\sum_{u \\\\sim m} (f_{um} - r_{um})\\n$$\\n\\nTherefore, the optimal value of $b_u$ is $b_u = -\\\\frac{1}{\\\\lambda}\\\\sum_{u \\\\sim m} (f_{um} - r_{um})$.',\n",
       "  'overall': 'B',\n",
       "  'criteria': {'overall': 'B',\n",
       "   'correctness': 'AB',\n",
       "   'relevance': 'AB',\n",
       "   'clarity': 'B',\n",
       "   'completeness': 'AB',\n",
       "   'other': ''}},\n",
       " {'A': 'To find the optimal value of $b_{u}$, we need to differentiate the objective function with respect to $b_{u}$ and set it to zero.\\n\\nTaking the derivative of the objective function with respect to $b_{u}$, we get:\\n\\n$$\\\\frac{\\\\partial}{\\\\partial b_{u}} \\\\left(\\\\frac{1}{2} \\\\sum_{u \\\\sim m} (f_{um} - r_{um})^2 + \\\\frac{\\\\lambda}{2} \\\\left[\\\\sum_{u \\\\in \\\\mathbf{U}} (b_{u}^2 + ||\\\\mathbf{v}_{u}||^2) + \\\\sum_{m \\\\in \\\\mathbf{M}} (b_{m}^2 + ||\\\\mathbf{w}_{m}||^2)\\\\right]\\\\right)$$\\n\\nSince $b_{u}$ only appears in the first term of the objective function, the derivative simplifies to:\\n\\n$$\\\\sum_{m} (f_{um} - r_{um}) + \\\\lambda b_{u} = 0$$\\n\\nSolving for $b_{u}$, we get:\\n\\n$$b_{u} = -\\\\frac{\\\\sum_{m} (f_{um} - r_{um})}{\\\\lambda}$$\\n\\nTherefore, the optimal value of $b_{u}$ is given by $b_{u} = -\\\\frac{\\\\sum_{m} (f_{um} - r_{um})}{\\\\lambda}$, provided that all other values are fixed.',\n",
       "  'B': 'To find the optimal value of $b_u$, we need to take the derivative of the objective function with respect to $b_u$ and set it equal to zero.\\n\\nTaking the derivative of the objective function with respect to $b_u$, we get:\\n\\n$$\\\\frac{\\\\partial}{\\\\partial b_u} \\\\left(\\\\frac{1}{2} \\\\sum_{u \\\\sim m}(f_{um}-r_{um})^2 + \\\\frac{\\\\lambda}{2} \\\\left[\\\\sum_{u \\\\in \\\\mathbf{U}}(b_u^2 + \\\\|\\\\mathbf{v}_u\\\\|^2) + \\\\sum_{m \\\\in \\\\mathbf{M}}(b_m^2 + \\\\|\\\\mathbf{w}_m\\\\|^2)\\\\right]\\\\right)$$\\n\\nSimplifying this expression, we get:\\n\\n$$\\\\sum_{u \\\\sim m}(f_{um}-r_{um}) + \\\\lambda b_u = 0$$\\n\\nNow, plugging in the expression for $f_{um}$, we get:\\n\\n$$\\\\sum_{u \\\\sim m}(\\\\langle\\\\mathbf{v}_u, \\\\mathbf{w}_m\\\\rangle + b_u + b_m - r_{um}) + \\\\lambda b_u = 0$$\\n\\nSince we are optimizing with respect to $b_u$, we can isolate $b_u$ on one side:\\n\\n$$b_u = \\\\frac{1}{\\\\lambda} \\\\left(\\\\sum_{u \\\\sim m}(r_{um} - \\\\langle\\\\mathbf{v}_u, \\\\mathbf{w}_m\\\\rangle - b_m)\\\\right)$$\\n\\nTherefore, the optimal value of $b_u$ is given by the above expression.',\n",
       "  'overall': 'B',\n",
       "  'criteria': {'overall': 'B',\n",
       "   'correctness': 'B',\n",
       "   'relevance': 'AB',\n",
       "   'clarity': 'B',\n",
       "   'completeness': 'B',\n",
       "   'other': ''}},\n",
       " {'A': 'To find the optimal value of $b_u$ with all other values fixed, we can take the derivative of the objective function with respect to $b_u$ and set it equal to zero to find the minimum. \\n\\nTaking the derivative of the objective function with respect to $b_u$ and setting it equal to zero, we get:\\n\\n$$\\\\sum_{m \\\\in \\\\mathbf{M}}(f_{um} - r_{um}) + \\\\lambda b_u = 0$$\\n\\nSubstitute the expression for $f_{um}$ into the equation:\\n\\n$$\\\\sum_{m \\\\in \\\\mathbf{M}}((\\\\langle \\\\mathbf{v}_u, \\\\mathbf{w}_m \\\\rangle + b_u + b_m) - r_{um}) + \\\\lambda b_u = 0$$\\n\\nRearranging terms, we get:\\n\\n$$\\\\sum_{m \\\\in \\\\mathbf{M}}\\\\langle \\\\mathbf{v}_u, \\\\mathbf{w}_m \\\\rangle + \\\\sum_{m \\\\in \\\\mathbf{M}}b_u + \\\\sum_{m \\\\in \\\\mathbf{M}}b_m - \\\\sum_{m \\\\in \\\\mathbf{M}}r_{um} + \\\\lambda b_u = 0$$\\n\\nSince $\\\\mathbf{v}_u$ and $\\\\mathbf{w}_m$ are fixed, the first term does not depend on $b_u$. The second term becomes $\\\\sum_{m \\\\in \\\\mathbf{M}}b_u = |M| \\\\cdot b_u$ where $|M|$ denotes the number of movies. The third term becomes $\\\\sum_{m \\\\in \\\\mathbf{M}}b_m$ which is a constant and does not depend on $b_u$. The fourth term is the sum of the observed ratings for user $u$.\\n\\nTherefore, the optimal value of $b_u$ can be computed as:\\n\\n$$b_u = \\\\frac{1}{|M| + \\\\lambda} \\\\left(\\\\sum_{m \\\\in \\\\mathbf{M}}(r_{um} - \\\\sum_{m \\\\in \\\\mathbf{M}} b_m)\\\\right)$$\\n\\nThis formula provides the optimal value of $b_u$ given that all other parameters are fixed.',\n",
       "  'B': \"To find the optimal value of $b_u$ given that all other values are fixed, we need to minimize the objective function with respect to $b_u$. \\n\\nLet's differentiate the objective function with respect to $b_u$ and set the derivative to zero to find the optimal value of $b_u$.\\n\\nThe objective function is:\\n$$\\n\\\\frac{1}{2} \\\\sum_{u \\\\sim m}\\\\left(f_{u m}-r_{u m}\\\\right)^{2}+\\\\frac{\\\\lambda}{2}\\\\left[\\\\sum_{u \\\\in \\\\mathbf{U}}\\\\left(b_{u}^{2}+\\\\left\\\\|\\\\mathbf{v}_{u}\\\\right\\\\|^{2}\\\\right)+\\\\sum_{m \\\\in \\\\mathbf{M}}\\\\left(b_{m}^{2}+\\\\left\\\\|\\\\mathbf{w}_{m}\\\\right\\\\|^{2}\\\\right)\\\\right]\\n$$\\n\\nThe term involving $b_u$ is:\\n$$\\n\\\\frac{1}{2} \\\\sum_{u \\\\sim m}\\\\left(\\\\left\\\\langle\\\\mathbf{v}_{u}, \\\\mathbf{w}_{m}\\\\right\\\\rangle+b_{u}+b_{m}-r_{u m}\\\\right)^{2} + \\\\frac{\\\\lambda}{2}\\\\left[b_{u}^{2}+\\\\left\\\\|\\\\mathbf{v}_{u}\\\\right\\\\|^{2}\\\\right]\\n$$\\n\\nDifferentiating with respect to $b_u$ and setting the derivative to zero:\\n$$\\n\\\\sum_{u \\\\sim m}\\\\left(\\\\left\\\\langle\\\\mathbf{v}_{u}, \\\\mathbf{w}_{m}\\\\right\\\\rangle+b_{u}+b_{m}-r_{u m}\\\\right) + \\\\lambda b_u = 0\\n$$\\n\\nRearranging terms, we get:\\n$$\\n\\\\sum_{u \\\\sim m} \\\\left(f_{um} - r_{um}\\\\right) + \\\\lambda b_u = 0\\n$$\\n\\nFinally, the optimal value of $b_u$ is:\\n$$\\nb_u = -\\\\frac{1}{\\\\lambda}\\\\sum_{u \\\\sim m} \\\\left(f_{um} - r_{um}\\\\right)\\n$$\\n\\nTherefore, the optimal value of $b_u$ is the negative of the average error between the estimated score $f_{um}$ and the actual rating $r_{um}$, divided by $\\\\lambda$.\",\n",
       "  'overall': 'A',\n",
       "  'criteria': {'overall': 'A',\n",
       "   'correctness': 'A',\n",
       "   'relevance': 'A',\n",
       "   'clarity': 'A',\n",
       "   'completeness': 'A',\n",
       "   'other': ''}},\n",
       " {'A': 'Answer: $b_u = \\\\frac{1}{|R_u|} \\\\sum_{m \\\\in R_u} (r_{um} - \\\\langle \\\\mathbf{v}_u, \\\\mathbf{w}_m \\\\rangle - b_m)$\\n\\nExplanation: The optimal value of $b_u$ can be calculated by taking the derivative of the objective function with respect to $b_u$ and setting it to zero. By doing so, we obtain the expression provided in the answer. This expression represents the average of the differences between the observed ratings and the estimated scores for all movies rated by user $u$, adjusted by the bias term $b_m$. This calculation ensures that the bias term $b_u$ is optimized to minimize the overall objective function.',\n",
       "  'B': 'Answer: $b_{u}=\\\\frac{1}{\\\\lambda}\\\\sum_{m \\\\sim u}\\\\left(r_{u m}-\\\\left\\\\langle\\\\mathbf{v}_{u}, \\\\mathbf{w}_{m}\\\\right\\\\rangle-b_{m}\\\\right)$\\n\\nExplanation: To find the optimal value of $b_{u}$, we differentiate the objective function with respect to $b_{u}$ and set it to zero. This gives us the expression for $b_{u}$ as shown above. This expression represents the weighted average of the differences between the observed rating and the predicted rating for user $u$ across all movies $m$ that user $u$ has rated. By setting the derivative to zero, we are essentially minimizing the objective function with respect to $b_{u}$.\\n\\nAlternative interpretations such as directly setting the derivative to zero without considering the weighted average would not be correct as they do not take into account the importance of each rating in the optimization process. The weighted average considers the contribution of each rating based on the difference between observed and predicted values.',\n",
       "  'overall': 'B',\n",
       "  'criteria': {'overall': 'B',\n",
       "   'correctness': 'B',\n",
       "   'relevance': 'B',\n",
       "   'clarity': 'B',\n",
       "   'completeness': 'B',\n",
       "   'other': ''}},\n",
       " {'A': 'The optimal value of $b_u$ is obtained by setting the derivative of the objective function with respect to $b_u$ to zero. The correct formula for $b_u$ is: $$b_u = \\x0crac{\\\\sum_{m \\\\sim u} (r_{um} - \\\\langle \\\\mathbf{v}_u, \\\\mathbf{w}_m \\rangle - b_m)}{\\\\lambda + |m \\\\sim u|}$$ This formula takes into account the regularization term $\\\\lambda$ and the number of ratings for user $u$ denoted by $|m \\\\sim u|$. Dividing by $\\\\lambda + |m \\\\sim u|$ ensures that the bias term $b_u$ is updated appropriately based on the available ratings for user $u$ and the regularization parameter $\\\\lambda$. This calculation allows for better optimization of the matrix factorization model in the context of collaborative filtering.',\n",
       "  'B': 'The optimal values of $b_{u}$ are given by:$$b_{u} = \\x0crac{\\\\sum_{m \\\\sim u} (r_{um} - \\\\langle \\\\mathbf{v}_{u}, \\\\mathbf{w}_{m} \\rangle - b_{m})}{\\\\lambda}$$ However, this answer is incorrect. The correct calculation involves dividing by $\\\\lambda + |m \\\\sim u|$ instead of just $\\\\lambda$.',\n",
       "  'overall': 'A',\n",
       "  'criteria': {'clarity': 'None',\n",
       "   'completeness': 'A',\n",
       "   'correctness': 'A',\n",
       "   'other': 'Conciseness: B; Engagement: AB',\n",
       "   'overall': 'A',\n",
       "   'relevance': 'A'}},\n",
       " {'A': \"To find the optimal value of $b_u$ while keeping all other values fixed, we need to minimize the objective function with respect to $b_u$. Let's first rewrite the objective function in a more explicit form:\\n\\n$$\\nL = \\\\frac{1}{2} \\\\sum_{u \\\\sim m} (f_{u m} - r_{u m})^2 + \\\\frac{\\\\lambda}{2} \\\\left( \\\\sum_{u \\\\in \\\\mathbf{U}} \\\\left(b_u^2 + \\\\|\\\\mathbf{v}_u\\\\|^2\\\\right) + \\\\sum_{m \\\\in \\\\mathbf{M}} \\\\left(b_m^2 + \\\\|\\\\mathbf{w}_m\\\\|^2\\\\right)\\\\right)\\n$$\\n\\nExpanding the first term in the objective function:\\n\\n$$\\n\\\\frac{1}{2} \\\\sum_{u \\\\sim m} (f_{u m} - r_{u m})^2 = \\\\frac{1}{2} \\\\sum_{u \\\\sim m} \\\\left(\\\\left\\\\langle\\\\mathbf{v}_{u}, \\\\mathbf{w}_{m}\\\\right\\\\rangle+b_{u}+b_{m}-r_{u m}\\\\right)^{2}\\n$$\\n\\nDifferentiating the objective function $L$ with respect to $b_u$ gives:\\n\\n$$\\n\\\\frac{\\\\partial L}{\\\\partial b_u} = \\\\sum_{u \\\\sim m} (f_{u m} - r_{u m}) + \\\\lambda b_u = 0\\n$$\\n\\nSubstitute the expression for $f_{u m}$ into the above equation:\\n\\n$$\\n\\\\sum_{u \\\\sim m} \\\\left(\\\\left\\\\langle\\\\mathbf{v}_{u}, \\\\mathbf{w}_{m}\\\\right\\\\rangle+b_{u}+b_{m}-r_{u m}\\\\right) + \\\\lambda b_u = 0\\n$$\\n\\nSince we are solving for the optimal value of $b_u$, we can isolate $b_u$ on one side:\\n\\n$$\\nb_u = -\\\\frac{1}{\\\\lambda} \\\\left(\\\\sum_{u \\\\sim m} \\\\left(\\\\left\\\\langle\\\\mathbf{v}_{u}, \\\\mathbf{w}_{m}\\\\right\\\\rangle + b_m - r_{u m}\\\\right)\\\\right)\\n$$\\n\\nTherefore, the optimal value of $b_u$ is given by the negative average of the differences between the predicted rating and the actual rating for each movie $m$, weighted by the regularization parameter $\\\\lambda$.\",\n",
       "  'B': \"To find the optimal value of $b_u$ with all other values fixed, we need to minimize the objective function with respect to $b_u$. \\n\\nGiven the objective function:\\n$$\\n\\\\frac{1}{2} \\\\sum_{u \\\\sim m}\\\\left(f_{u m}-r_{u m}\\\\right)^{2}+\\\\frac{\\\\lambda}{2}\\\\left[\\\\sum_{u \\\\in \\\\mathbf{U}}\\\\left(b_{u}^{2}+\\\\left\\\\|\\\\mathbf{v}_{u}\\\\right\\\\|^{2}\\\\right)+\\\\sum_{m \\\\in \\\\mathbf{M}}\\\\left(b_{m}^{2}+\\\\left\\\\|\\\\mathbf{w}_{m}\\\\right\\\\|^{2}\\\\right)\\\\right]\\n$$\\n\\nWe can see that the term involving $b_u$ is:\\n$$\\n\\\\frac{1}{2}\\\\sum_{m \\\\in \\\\mathbf{M}} (f_{u m} - r_{u m})^2 + \\\\frac{\\\\lambda}{2} \\\\left(b_{u}^{2}+\\\\left\\\\|\\\\mathbf{v}_{u}\\\\right\\\\|^{2}\\\\right)\\n$$\\n\\nTo find the optimal value for $b_u$, we need to take the derivative of this term with respect to $b_u$ and set it to zero:\\n$$\\n\\\\frac{\\\\partial}{\\\\partial b_u} \\\\left(\\\\frac{1}{2}\\\\sum_{m \\\\in \\\\mathbf{M}} (f_{u m} - r_{u m})^2 + \\\\frac{\\\\lambda}{2} \\\\left(b_{u}^{2}+\\\\left\\\\|\\\\mathbf{v}_{u}\\\\right\\\\|^{2}\\\\right)\\\\right) = 0\\n$$\\n\\nExpanding this derivative and setting it to zero will give us the optimal value for $b_u$. Let's proceed with the calculations.\",\n",
       "  'overall': 'A',\n",
       "  'criteria': {'overall': 'A',\n",
       "   'correctness': 'AB',\n",
       "   'relevance': 'AB',\n",
       "   'clarity': 'AB',\n",
       "   'completeness': 'AB',\n",
       "   'other': 'Conciseness: B; Engagement: B'}},\n",
       " {'A': '1. Matrix-factorization problem: In the context of machine learning, matrix factorization is a technique used for collaborative filtering. It decomposes a matrix of user-item interactions into the product of two lower-dimensional matrices to discover hidden patterns or features.\\n\\n2. Observed ratings $r_{u m}$: Refers to the actual ratings given by user $u$ to movie $m$. These ratings are the ground truth values that the model aims to predict.\\n\\n3. Estimate the score $f_{u m}$: The score is estimated using the inner product of the latent factor vectors of user $u$ ($\\\\mathbf{v}_{u}$) and movie $m$ ($\\\\mathbf{w}_{m}$), along with user bias $b_{u}$ and movie bias $b_{m}$.\\n\\n4. Objective function: The objective function represents the loss function that the model aims to minimize. It consists of two terms - the squared error term measuring the difference between predicted and observed ratings, and a regularization term to prevent overfitting by penalizing large values of biases and latent factor vectors.\\n\\n5. Optimal values of $b_{u}$: To find the optimal value of $b_{u}$ while keeping all other values fixed, we need to take the derivative of the objective function with respect to $b_{u}$, set it to zero, and solve for $b_{u}$.\\n\\n6. To find the optimal value of $b_{u}$, differentiate the objective function with respect to $b_{u$ and set it to zero:\\n\\n$$\\\\frac{\\\\partial}{\\\\partial b_{u}}\\\\left(\\\\frac{1}{2} \\\\sum_{u \\\\sim m}(f_{u m}-r_{u m})^{2}+\\\\frac{\\\\lambda}{2}\\\\left[\\\\sum_{u \\\\in \\\\mathbf{U}}(b_{u}^{2}+\\\\|\\\\mathbf{v}_{u}\\\\|^{2})+\\\\sum_{m \\\\in \\\\mathbf{M}}(b_{m}^{2}+\\\\|\\\\mathbf{w}_{m}\\\\|^{2})\\\\right]\\\\right) = 0$$\\n\\n7. Solve for $b_{u}$ by setting the derivative to zero and rearranging terms accordingly.\\n\\nBy solving the derived equation, you can find the optimal value of $b_{u}$ that minimizes the objective function. This process ensures that the bias term $b_{u}$ is adjusted to best fit the observed ratings while considering regularization to prevent overfitting.',\n",
       "  'B': 'To find the optimal value of \\\\( b_u \\\\) provided that all other values are fixed, we can differentiate the objective function with respect to \\\\( b_u \\\\) and set the derivative to zero. \\n\\nDifferentiating the objective function with respect to \\\\( b_u \\\\), we get:\\n\\n\\\\[ \\\\frac{\\\\partial}{\\\\partial b_u} \\\\left( \\\\frac{1}{2} \\\\sum_{u \\\\sim m} (f_{um} - r_{um})^2 + \\\\frac{\\\\lambda}{2} \\\\left[ \\\\sum_{u \\\\in \\\\mathbf{U}} (b_u^2 + ||\\\\mathbf{v}_u||^2) + \\\\sum_{m \\\\in \\\\mathbf{M}} (b_m^2 + ||\\\\mathbf{w}_m||^2) \\\\right] \\\\right) = 0 \\\\]\\n\\nSolving this equation will give us the optimal value of \\\\( b_u \\\\) in terms of the other fixed values in the problem.',\n",
       "  'overall': 'A',\n",
       "  'criteria': {'overall': 'A',\n",
       "   'correctness': 'AB',\n",
       "   'relevance': 'AB',\n",
       "   'clarity': 'AB',\n",
       "   'completeness': 'A',\n",
       "   'other': ''}},\n",
       " {'A': \"To find the optimal value of $b_{u}$, we need to minimize the objective function with respect to $b_{u}$. \\n\\nLet's start by expanding $f_{um}$:\\n$$\\nf_{um} = \\\\left\\\\langle \\\\mathbf{v}_{u}, \\\\mathbf{w}_{m} \\\\right\\\\rangle + b_{u} + b_{m}\\n$$\\n\\nNow, substitute $f_{um}$ into the objective function:\\n$$\\n\\\\frac{1}{2} \\\\sum_{u \\\\sim m} \\\\left( \\\\left\\\\langle \\\\mathbf{v}_{u}, \\\\mathbf{w}_{m} \\\\right\\\\rangle + b_{u} + b_{m} - r_{um} \\\\right)^{2} + \\\\frac{\\\\lambda}{2} \\\\left[ \\\\sum_{u} \\\\left( b_{u}^{2} + \\\\left\\\\| \\\\mathbf{v}_{u} \\\\right\\\\|^{2} \\\\right) + \\\\sum_{m} \\\\left( b_{m}^{2} + \\\\left\\\\| \\\\mathbf{w}_{m} \\\\right\\\\|^{2} \\\\right) \\\\right]\\n$$\\n\\nWe are interested in the terms that contain $b_{u}$, so let's focus on those. Taking the derivative of the objective function with respect to $b_{u}$, we get:\\n$$\\n\\\\frac{\\\\partial}{\\\\partial b_{u}} = \\\\sum_{u \\\\sim m} \\\\left( \\\\left\\\\langle \\\\mathbf{v}_{u}, \\\\mathbf{w}_{m} \\\\right\\\\rangle + b_{u} + b_{m} - r_{um} \\\\right) + \\\\lambda b_{u}\\n$$\\n\\nSetting this derivative to 0 and solving for $b_{u}$, we have:\\n$$\\n\\\\sum_{u \\\\sim m} \\\\left( \\\\left\\\\langle \\\\mathbf{v}_{u}, \\\\mathbf{w}_{m} \\\\right\\\\rangle + b_{u} + b_{m} - r_{um} \\\\right) + \\\\lambda b_{u} = 0\\n$$\\n\\nSimplify this equation:\\n$$\\n\\\\sum_{u \\\\sim m} \\\\left( b_{u} \\\\right) + \\\\sum_{u \\\\sim m} \\\\left( \\\\left\\\\langle \\\\mathbf{v}_{u}, \\\\mathbf{w}_{m} \\\\right\\\\rangle + b_{m} - r_{um} \\\\right) + \\\\lambda b_{u} = 0\\n$$\\n\\nFactor out $b_{u}$ from the sum:\\n$$\\n\\\\left( \\\\sum_{u \\\\sim m} 1 \\\\right) b_{u} + \\\\sum_{u \\\\sim m} \\\\left( \\\\left\\\\langle \\\\mathbf{v}_{u}, \\\\mathbf{w}_{m} \\\\right\\\\rangle - r_{um} \\\\right) + \\\\lambda b_{u} = 0\\n$$\\n\\nSimplify and solve for $b_{u}$:\\n$$\\nb_{u} = -\\\\frac{\\\\sum_{u \\\\sim m} \\\\left( \\\\left\\\\langle \\\\mathbf{v}_{u}, \\\\mathbf{w}_{m} \\\\right\\\\rangle - r_{um} \\\\right)}{\\\\sum_{u \\\\sim m} 1 + \\\\lambda}\\n$$\\n\\nThis is the optimal value of $b_{u}$ provided that all other values are fixed.\",\n",
       "  'B': \"To find the optimal values of $b_{u}$, we need to minimize the objective function with respect to $b_{u}$ while keeping all other variables fixed.\\n\\nFirst, let's expand the term $f_{um}$:\\n\\n$$ f_{um} = \\\\left\\\\langle \\\\mathbf{v}_{u}, \\\\mathbf{w}_{m} \\\\right\\\\rangle + b_{u} + b_{m} $$\\n\\nSubstitute $f_{um}$ back into the objective function:\\n\\n$$ \\\\frac{1}{2} \\\\sum_{u \\\\sim m} \\\\left( \\\\left\\\\langle \\\\mathbf{v}_{u}, \\\\mathbf{w}_{m} \\\\right\\\\rangle + b_{u} + b_{m} - r_{um} \\\\right)^{2} + \\\\frac{\\\\lambda}{2} \\\\left[ \\\\sum_{u \\\\in \\\\mathbf{U}} \\\\left( b_{u}^{2} + \\\\left\\\\| \\\\mathbf{v}_{u} \\\\right\\\\|^{2} \\\\right) + \\\\sum_{m \\\\in \\\\mathbf{M}} \\\\left( b_{m}^{2} + \\\\left\\\\| \\\\mathbf{w}_{m} \\\\right\\\\|^{2} \\\\right) \\\\right] $$\\n\\nNow, we need to focus on the terms that contain $b_{u}$ and differentiate with respect to $b_{u}$:\\n\\n$$ \\\\frac{\\\\partial}{\\\\partial b_{u}} = \\\\sum_{u \\\\sim m} \\\\left( \\\\left\\\\langle \\\\mathbf{v}_{u}, \\\\mathbf{w}_{m} \\\\right\\\\rangle + b_{u} + b_{m} - r_{um} \\\\right) + \\\\lambda b_{u} = 0 $$\\n\\nSeparating the terms containing $b_{u}$, we get:\\n\\n$$ \\\\sum_{u \\\\sim m} \\\\left( b_{u} \\\\right) + |u \\\\sim m| b_{u} + \\\\lambda b_{u} = 0 $$\\n\\n$$ \\\\left( |u \\\\sim m| + \\\\lambda \\\\right) b_{u} = - \\\\sum_{u \\\\sim m} \\\\left( \\\\left\\\\langle \\\\mathbf{v}_{u}, \\\\mathbf{w}_{m} \\\\right\\\\rangle - r_{um} - b_{m} \\\\right) $$\\n\\nTherefore, the optimal value of $b_{u}$ is given by:\\n\\n$$ b_{u} = - \\\\frac{\\\\sum_{u \\\\sim m} \\\\left( \\\\left\\\\langle \\\\mathbf{v}_{u}, \\\\mathbf{w}_{m} \\\\right\\\\rangle - r_{um} - b_{m} \\\\right)}{|u \\\\sim m| + \\\\lambda} $$\\n\\nThis is the optimal value of $b_{u}$ provided that all other values are fixed.\",\n",
       "  'overall': 'A',\n",
       "  'criteria': {'overall': 'A',\n",
       "   'correctness': 'A',\n",
       "   'relevance': 'A',\n",
       "   'clarity': 'AB',\n",
       "   'completeness': 'A',\n",
       "   'other': 'Conciseness: A; Engagement: A'}},\n",
       " {'A': \"To find the optimal value of $b_u$, we need to first consider the objective function and simplify it in terms of $b_u$. If we take the derivative of the objective function with respect to $b_u$ and set it equal to zero, we'll find the optimal value of $b_u$.\\n\\nGiven the objective function\\n$$\\\\frac{1}{2} \\\\sum_{u \\\\sim m}\\\\left(f_{u m}-r_{u m}\\\\right)^{2}+\\\\frac{\\\\lambda}{2}\\\\left[\\\\sum_{u \\\\in \\\\mathbf{U}}\\\\left(b_{u}^{2}+\\\\left\\\\|\\\\mathbf{v}_{u}\\\\right\\\\|^{2}\\\\right)+\\\\sum_{m \\\\in \\\\mathbf{M}}\\\\left(b_{m}^{2}+\\\\left\\\\|\\\\mathbf{w}_{m}\\\\right\\\\|^{2}\\\\right)\\\\right],$$\\nwe can simplify it in terms of $b_u$ by focusing on the terms that involve $b_u$:\\n$$\\\\frac{1}{2} \\\\sum_{u \\\\sim m}\\\\left(f_{u m}-r_{u m}\\\\right)^{2}+\\\\frac{\\\\lambda}{2}\\\\sum_{u \\\\in \\\\mathbf{U}}\\\\left(b_{u}^{2}+\\\\left\\\\|\\\\mathbf{v}_{u}\\\\right\\\\|^{2}\\\\right).$$\\n\\nTaking the derivative with respect to $b_u$ and setting it to zero, we get:\\n$$\\\\frac{d}{d b_u}\\\\left(\\\\frac{1}{2} \\\\sum_{u \\\\sim m}\\\\left(f_{u m}-r_{u m}\\\\right)^{2}+\\\\frac{\\\\lambda}{2}\\\\sum_{u \\\\in \\\\mathbf{U}}\\\\left(b_{u}^{2}+\\\\left\\\\|\\\\mathbf{v}_{u}\\\\right\\\\|^{2}\\\\right)\\\\right) = 0.$$\\n\\nSince the terms in the sum do not depend on $b_u$ except for those with $b_u$, we can focus on the term involving $b_u$:\\n$$\\\\frac{d}{d b_u}\\\\left(\\\\frac{1}{2} \\\\sum_{u \\\\sim m}\\\\left(f_{u m}-r_{u m}\\\\right)^{2}+\\\\frac{\\\\lambda}{2}\\\\left(b_{u}^{2}+\\\\left\\\\|\\\\mathbf{v}_{u}\\\\right\\\\|^{2}\\\\right)\\\\right) = 0.$$\\n\\nExpanding this, we get:\\n$$\\\\frac{d}{d b_u}\\\\left(\\\\frac{1}{2} \\\\sum_{u \\\\sim m}\\\\left(f_{u m}-r_{u m}\\\\right)^{2} + \\\\frac{\\\\lambda}{2}b_{u}^{2} + \\\\frac{\\\\lambda}{2}\\\\left\\\\|\\\\mathbf{v}_{u}\\\\right\\\\|^{2}\\\\right) = 0.$$\\n\\nDifferentiating each term with respect to $b_u$, we find:\\n$$\\\\frac{d}{d b_u}\\\\left(\\\\frac{1}{2} \\\\sum_{u \\\\sim m}\\\\left(f_{u m}-r_{u m}\\\\right)^{2}\\\\right) + \\\\frac{d}{d b_u}\\\\left(\\\\frac{\\\\lambda}{2}b_{u}^{2}\\\\right) + \\\\frac{d}{d b_u}\\\\left(\\\\frac{\\\\lambda}{2}\\\\left\\\\|\\\\mathbf{v}_{u}\\\\right\\\\|^{2}\\\\right) = 0.$$\\n\\nSimplifying further:\\n$$\\\\lambda b_u + 0 + 0 = 0.$$\\n\\nTherefore, the optimal value of $b_u$ is $0$.\",\n",
       "  'B': \"To find the optimal value of $b_u$, we need to minimize the objective function with respect to $b_u$. Let's denote the objective function as $L$:\\n\\n$$ L = \\\\frac{1}{2} \\\\sum_{u \\\\sim m} (f_{um} - r_{um})^2 + \\\\frac{\\\\lambda}{2} \\\\left[\\\\sum_{u \\\\in \\\\mathbf{U}} (b_u^2 + ||\\\\mathbf{v}_u||^2) + \\\\sum_{m \\\\in \\\\mathbf{M}} (b_m^2 + ||\\\\mathbf{w}_m||^2)\\\\right] $$\\n\\nThe part of the objective function that involves $b_u$ is:\\n\\n$$ L_{b_u} = \\\\frac{1}{2} \\\\sum_{u \\\\sim m} (f_{um} - r_{um})^2 + \\\\frac{\\\\lambda}{2} \\\\sum_{u \\\\in \\\\mathbf{U}} (b_u^2 + ||\\\\mathbf{v}_u||^2) $$\\n\\nTo minimize $L_{b_u}$, we take the derivative with respect to $b_u$ and set it to zero:\\n\\n$$ \\\\frac{\\\\partial L_{b_u}}{\\\\partial b_u} = \\\\lambda b_u + \\\\sum_{u \\\\sim m} (f_{um} - r_{um}) = 0 $$\\n\\nSolving for $b_u$ gives:\\n\\n$$ b_u = -\\\\frac{1}{\\\\lambda} \\\\sum_{u \\\\sim m} (f_{um} - r_{um}) $$\\n\\nTherefore, the optimal value of $b_u$ is given by:\\n\\n$$ b_u = -\\\\frac{1}{\\\\lambda} \\\\sum_{u \\\\sim m} (f_{um} - r_{um}) $$\\n\\nThis formula provides the optimal bias value $b_u$ based on the given matrix-factorization problem and objective function.\",\n",
       "  'overall': 'B',\n",
       "  'criteria': {'overall': 'B',\n",
       "   'correctness': 'B',\n",
       "   'relevance': 'AB',\n",
       "   'clarity': 'AB',\n",
       "   'completeness': 'AB',\n",
       "   'other': 'Conciseness: B; Engagement: A'}},\n",
       " {'A': 'To find the optimal value of $b_u$, we can take the derivative of the objective function with respect to $b_u$ and set it equal to zero. \\\\n\\\\nTaking the derivative of the objective function with respect to $b_u$ gives:\\\\n\\\\n$$ \\\\\\\\sum_{m \\\\\\\\sim u} (f_{um} - r_{um}) + \\\\\\\\lambda b_u = 0 $$\\\\n\\\\nSetting this equal to zero and solving for $b_u$ gives:\\\\n\\\\n$$ b_u = \\\\\\\\frac{1}{\\\\\\\\lambda} \\\\\\\\left( r_u - \\\\\\\\sum_{m \\\\\\\\sim u} \\\\\\\\left( \\\\\\\\left\\\\\\\\langle \\\\\\\\mathbf{v}_u, \\\\\\\\mathbf{w}_m \\\\\\\\right\\\\\\\\rangle + b_m \\\\\\\\right) \\\\\\\\right) $$\\\\n\\\\nSo, the optimal value of $b_u$ is given by the above equation.',\n",
       "  'B': \"Let's include the term with ${b_{u}}^2$ in our derivative calculation. The derivative of the objective function with respect to $b_{u}$ is:\\\\n\\\\n$$\\\\n\\\\\\\\frac{\\\\\\\\partial}{\\\\\\\\partial b_{u}}\\\\\\\\left[\\\\\\\\frac{1}{2} \\\\\\\\sum_{u \\\\\\\\sim m}\\\\\\\\left(f_{u m}-r_{u m}\\\\\\\\right)^{2}+\\\\\\\\frac{\\\\\\\\lambda}{2}\\\\\\\\left[\\\\\\\\sum_{u \\\\\\\\in \\\\\\\\mathbf{U}}\\\\\\\\left(b_{u}^{2}+\\\\\\\\left\\\\\\\\|\\\\\\\\mathbf{v}_{u}\\\\\\\\right\\\\\\\\|^{2}\\\\\\\\right)+\\\\\\\\sum_{m \\\\\\\\in \\\\\\\\mathbf{M}}\\\\\\\\left(b_{m}^{2}+\\\\\\\\left\\\\\\\\|\\\\\\\\mathbf{w}_{m}\\\\\\\\right\\\\\\\\|^{2}\\\\\\\\right)\\\\\\\\right]\\\\\\\\right]=0\\\\n$$\\\\n\\\\nExpanding the first term in the objective function, we get:\\\\n\\\\n$$\\\\n\\\\\\\\frac{\\\\\\\\partial}{\\\\\\\\partial b_{u}}\\\\\\\\left[\\\\\\\\frac{1}{2} \\\\\\\\sum_{u \\\\\\\\sim m}\\\\\\\\left(\\\\\\\\left\\\\\\\\langle\\\\\\\\mathbf{v}_{u}, \\\\\\\\mathbf{w}_{m}\\\\\\\\right\\\\\\\\rangle+b_{u}+b_{m}-r_{u m}\\\\\\\\right)^{2}\\\\\\\\right]=0\\\\n$$\\\\n\\\\nTaking the derivative of this expression with respect to $b_{u}$, we get:\\\\n\\\\n$$\\\\n\\\\\\\\sum_{u \\\\\\\\sim m}\\\\\\\\left(\\\\\\\\left\\\\\\\\langle\\\\\\\\mathbf{v}_{u}, \\\\\\\\mathbf{w}_{m}\\\\\\\\right\\\\\\\\rangle+b_{u}+b_{m}-r_{u m}\\\\\\\\right) + \\\\\\\\lambda b_{u} = 0\\\\n$$\\\\n\\\\nIsolating $b_{u}$ in this equation, we get:\\\\n\\\\n$$\\\\nb_{u} = \\\\\\\\frac{\\\\\\\\sum_{u \\\\\\\\sim m}\\\\\\\\left(r_{u m} - \\\\\\\\left\\\\\\\\langle\\\\\\\\mathbf{v}_{u}, \\\\\\\\mathbf{w}_{m}\\\\\\\\right\\\\\\\\rangle - b_{m}\\\\\\\\right)}{\\\\\\\\lambda}\\\\n$$\\\\n\\\\nThis provides the optimal value of $b_{u}$ given that all other values are fixed, including the term with ${b_{u}}^2$.\",\n",
       "  'overall': 'B',\n",
       "  'criteria': {'overall': 'B',\n",
       "   'correctness': 'None',\n",
       "   'relevance': 'AB',\n",
       "   'clarity': 'None',\n",
       "   'completeness': 'B',\n",
       "   'other': 'Conciseness: AB; Engagement: B'}},\n",
       " {'A': \"To find the optimal value of $b_{u}$, we need to take the derivative of the objective function with respect to $b_{u}$ and set it to zero.\\n\\nGiven the objective function:\\n$$\\n\\\\frac{1}{2} \\\\sum_{u \\\\sim m}\\\\left(f_{u m}-r_{u m}\\\\right)^{2}+\\\\frac{\\\\lambda}{2}\\\\left[\\\\sum_{u \\\\in \\\\mathbf{U}}\\\\left(b_{u}^{2}+\\\\left\\\\|\\\\mathbf{v}_{u}\\\\right\\\\|^{2}\\\\right)+\\\\sum_{m \\\\in \\\\mathbf{M}}\\\\left(b_{m}^{2}+\\\\left\\\\|\\\\mathbf{w}_{m}\\\\right\\\\|^{2}\\\\right)\\\\right]\\n$$\\n\\nLet's consider the term involving $b_{u}$:\\n$$\\n\\\\frac{1}{2} \\\\sum_{u \\\\sim m}\\\\left(f_{u m}-r_{u m}\\\\right)^{2} + \\\\frac{\\\\lambda}{2}\\\\sum_{u \\\\in \\\\mathbf{U}}\\\\left(b_{u}^{2}+\\\\left\\\\|\\\\mathbf{v}_{u}\\\\right\\\\|^{2}\\\\right)\\n$$\\n\\nTaking the derivative with respect to $b_{u}$ and setting it to zero:\\n$$\\n\\\\frac{\\\\partial}{\\\\partial b_{u}}\\\\left(\\\\frac{1}{2} \\\\sum_{u \\\\sim m}\\\\left(f_{u m}-r_{u m}\\\\right)^{2} + \\\\frac{\\\\lambda}{2}\\\\sum_{u \\\\in \\\\mathbf{U}}\\\\left(b_{u}^{2}+\\\\left\\\\|\\\\mathbf{v}_{u}\\\\right\\\\|^{2}\\\\right)\\\\right) = 0\\n$$\\n\\nExpanding the derivative term with $b_{u}$:\\n$$\\n\\\\sum_{u \\\\sim m}\\\\left(f_{u m}-r_{u m}\\\\right) + \\\\lambda b_{u} = 0\\n$$\\n\\nRearranging the terms to solve for $b_{u}$:\\n$$\\nb_{u} = -\\\\frac{1}{\\\\lambda} \\\\sum_{u \\\\sim m}\\\\left(f_{u m}-r_{u m}\\\\right)\\n$$\\n\\nSo, the optimal value of $b_{u}$ is given by $b_{u} = -\\\\frac{1}{\\\\lambda} \\\\sum_{u \\\\sim m}\\\\left(f_{u m}-r_{u m}\\\\right)$.\",\n",
       "  'B': 'To find the optimal value of $b_{u}$, we need to minimize the objective function with respect to $b_{u}$ while keeping all other variables fixed.\\n\\nGiven the objective function:\\n\\n$$\\n\\\\frac{1}{2} \\\\sum_{u \\\\sim m}\\\\left(f_{u m}-r_{u m}\\\\right)^{2}+\\\\frac{\\\\lambda}{2}\\\\left[\\\\sum_{u \\\\in \\\\mathbf{U}}\\\\left(b_{u}^{2}+\\\\left\\\\|\\\\mathbf{v}_{u}\\\\right\\\\|^{2}\\\\right)+\\\\sum_{m \\\\in \\\\mathbf{M}}\\\\left(b_{m}^{2}+\\\\left\\\\|\\\\mathbf{w}_{m}\\\\right\\\\|^{2}\\\\right)\\\\right]\\n$$\\n\\nWe can see that the term involving $b_{u}$ is:\\n\\n$$\\n\\\\frac{1}{2} \\\\sum_{u \\\\sim m}\\\\left(\\\\langle\\\\mathbf{v}_{u}, \\\\mathbf{w}_{m}\\\\rangle+b_{u}+b_{m}-r_{u m}\\\\right)^{2}+\\\\frac{\\\\lambda}{2}\\\\left[b_{u}^{2}+\\\\left\\\\|\\\\mathbf{v}_{u}\\\\right\\\\|^{2}\\\\right]\\n$$\\n\\nTo minimize this term with respect to $b_{u}$, we need to take the derivative with respect to $b_{u}$ and set it to zero:\\n\\n$$\\n\\\\frac{\\\\partial}{\\\\partial b_{u}} = \\\\sum_{u \\\\sim m}(\\\\langle\\\\mathbf{v}_{u}, \\\\mathbf{w}_{m}\\\\rangle+b_{u}+b_{m}-r_{u m}) + \\\\lambda b_{u} = 0\\n$$\\n\\nSolving for $b_{u}$:\\n\\n$$\\nb_{u} = \\\\frac{\\\\sum_{u \\\\sim m}(r_{u m} - \\\\langle\\\\mathbf{v}_{u}, \\\\mathbf{w}_{m}\\\\rangle - b_{m})}{\\\\lambda}\\n$$\\n\\nTherefore, the optimal value of $b_{u}$ is given by the above expression, provided that all other values are fixed.',\n",
       "  'overall': 'A',\n",
       "  'criteria': {'correctness': 'A',\n",
       "   'relevance': 'A',\n",
       "   'clarity': 'A',\n",
       "   'completeness': 'A',\n",
       "   'other': 'None',\n",
       "   'overall': 'A'}}]"
      ]
     },
     "execution_count": 47,
     "metadata": {},
     "output_type": "execute_result"
    }
   ],
   "source": [
    "row['preference']"
   ]
  },
  {
   "cell_type": "markdown",
   "metadata": {},
   "source": [
    "We have 1522 questions, and for each question we have N preference pairs (N is not always the same). We will extract the preference pairs from this data according to the preference dictionnaries."
   ]
  },
  {
   "cell_type": "markdown",
   "metadata": {},
   "source": [
    "### Extracting single preference dictionaries"
   ]
  },
  {
   "cell_type": "markdown",
   "metadata": {},
   "source": [
    "The first step is to expand the dataframe so that each row has only one preference dictionary:"
   ]
  },
  {
   "cell_type": "code",
   "execution_count": 48,
   "metadata": {},
   "outputs": [
    {
     "data": {
      "text/html": [
       "<div>\n",
       "<style scoped>\n",
       "    .dataframe tbody tr th:only-of-type {\n",
       "        vertical-align: middle;\n",
       "    }\n",
       "\n",
       "    .dataframe tbody tr th {\n",
       "        vertical-align: top;\n",
       "    }\n",
       "\n",
       "    .dataframe thead th {\n",
       "        text-align: right;\n",
       "    }\n",
       "</style>\n",
       "<table border=\"1\" class=\"dataframe\">\n",
       "  <thead>\n",
       "    <tr style=\"text-align: right;\">\n",
       "      <th></th>\n",
       "      <th>question_id</th>\n",
       "      <th>question_complete</th>\n",
       "      <th>course_id</th>\n",
       "      <th>preference_dict</th>\n",
       "    </tr>\n",
       "  </thead>\n",
       "  <tbody>\n",
       "    <tr>\n",
       "      <th>0</th>\n",
       "      <td>0</td>\n",
       "      <td>Question: Consider the following contains func...</td>\n",
       "      <td>15000</td>\n",
       "      <td>{'A': 'The asymptotic depth of the contains fu...</td>\n",
       "    </tr>\n",
       "    <tr>\n",
       "      <th>0</th>\n",
       "      <td>0</td>\n",
       "      <td>Question: Consider the following contains func...</td>\n",
       "      <td>15000</td>\n",
       "      <td>{'A': 'The asymptotic depth of the contains fu...</td>\n",
       "    </tr>\n",
       "    <tr>\n",
       "      <th>0</th>\n",
       "      <td>0</td>\n",
       "      <td>Question: Consider the following contains func...</td>\n",
       "      <td>15000</td>\n",
       "      <td>{'A': 'The asymptotic depth of the `contains` ...</td>\n",
       "    </tr>\n",
       "    <tr>\n",
       "      <th>0</th>\n",
       "      <td>0</td>\n",
       "      <td>Question: Consider the following contains func...</td>\n",
       "      <td>15000</td>\n",
       "      <td>{'A': 'To determine the asymptotic depth of th...</td>\n",
       "    </tr>\n",
       "    <tr>\n",
       "      <th>0</th>\n",
       "      <td>0</td>\n",
       "      <td>Question: Consider the following contains func...</td>\n",
       "      <td>15000</td>\n",
       "      <td>{'A': 'The asymptotic depth of the contains fu...</td>\n",
       "    </tr>\n",
       "  </tbody>\n",
       "</table>\n",
       "</div>"
      ],
      "text/plain": [
       "   question_id                                  question_complete  course_id  \\\n",
       "0            0  Question: Consider the following contains func...      15000   \n",
       "0            0  Question: Consider the following contains func...      15000   \n",
       "0            0  Question: Consider the following contains func...      15000   \n",
       "0            0  Question: Consider the following contains func...      15000   \n",
       "0            0  Question: Consider the following contains func...      15000   \n",
       "\n",
       "                                     preference_dict  \n",
       "0  {'A': 'The asymptotic depth of the contains fu...  \n",
       "0  {'A': 'The asymptotic depth of the contains fu...  \n",
       "0  {'A': 'The asymptotic depth of the `contains` ...  \n",
       "0  {'A': 'To determine the asymptotic depth of th...  \n",
       "0  {'A': 'The asymptotic depth of the contains fu...  "
      ]
     },
     "execution_count": 48,
     "metadata": {},
     "output_type": "execute_result"
    }
   ],
   "source": [
    "expanded_rows = []\n",
    "\n",
    "for index, row in df.iterrows():\n",
    "    for pref in row['preference']:\n",
    "        new_row = row.copy()\n",
    "        new_row['preference_dict'] = pref\n",
    "        expanded_rows.append(new_row)\n",
    "\n",
    "expanded_df = pd.DataFrame(expanded_rows)\n",
    "expanded_df.drop(columns=['preference'], inplace=True)\n",
    "\n",
    "expanded_df.head()"
   ]
  },
  {
   "cell_type": "code",
   "execution_count": 49,
   "metadata": {},
   "outputs": [
    {
     "data": {
      "text/plain": [
       "26738"
      ]
     },
     "execution_count": 49,
     "metadata": {},
     "output_type": "execute_result"
    }
   ],
   "source": [
    "len(expanded_df)"
   ]
  },
  {
   "cell_type": "markdown",
   "metadata": {},
   "source": [
    "This gives us 26k disctinct preference pairs from the 1522 questions."
   ]
  },
  {
   "cell_type": "markdown",
   "metadata": {},
   "source": [
    "### Prompt cleanup"
   ]
  },
  {
   "cell_type": "code",
   "execution_count": 50,
   "metadata": {},
   "outputs": [
    {
     "name": "stdout",
     "output_type": "stream",
     "text": [
      "Number of rows starting with 'Question: ': 26738\n",
      "Number of rows not starting with 'Question: ': 0\n"
     ]
    }
   ],
   "source": [
    "# Check if each row in 'question_complete' starts with same prefix 'Question: '\n",
    "prefix_check = expanded_df['question_complete'].apply(lambda x: x.startswith('Question: '))\n",
    "\n",
    "print(\"Number of rows starting with 'Question: ':\", prefix_check.sum())\n",
    "print(\"Number of rows not starting with 'Question: ':\", len(prefix_check) - prefix_check.sum())"
   ]
  },
  {
   "cell_type": "markdown",
   "metadata": {},
   "source": [
    "Let's remove the prefix 'Question: ' from the question prompt:"
   ]
  },
  {
   "cell_type": "code",
   "execution_count": 51,
   "metadata": {},
   "outputs": [],
   "source": [
    "expanded_df['question_complete'] = expanded_df['question_complete'].apply(lambda x: x[10:])\n",
    "\n",
    "expanded_df.rename(columns={'question_complete': 'prompt'}, inplace=True)"
   ]
  },
  {
   "cell_type": "code",
   "execution_count": 52,
   "metadata": {},
   "outputs": [
    {
     "data": {
      "text/plain": [
       "0       Consider the following contains function defin...\n",
       "0       Consider the following contains function defin...\n",
       "0       Consider the following contains function defin...\n",
       "0       Consider the following contains function defin...\n",
       "0       Consider the following contains function defin...\n",
       "                              ...                        \n",
       "1521    Consider the transformation from binary MRSW s...\n",
       "1521    Consider the transformation from binary MRSW s...\n",
       "1521    Consider the transformation from binary MRSW s...\n",
       "1521    Consider the transformation from binary MRSW s...\n",
       "1521    Consider the transformation from binary MRSW s...\n",
       "Name: prompt, Length: 26738, dtype: object"
      ]
     },
     "execution_count": 52,
     "metadata": {},
     "output_type": "execute_result"
    }
   ],
   "source": [
    "expanded_df['prompt']"
   ]
  },
  {
   "cell_type": "markdown",
   "metadata": {},
   "source": [
    "### prompt formatting"
   ]
  },
  {
   "cell_type": "markdown",
   "metadata": {},
   "source": [
    "According to HF documentation, prompts for phi should be formatted like this:\n",
    "\n",
    "`<|system|>\n",
    "You are a helpful assistant.<|end|>\n",
    "<|user|>\n",
    "Question?<|end|>\n",
    "<|assistant|>`\n",
    "\n",
    "We will format our data accordingly."
   ]
  },
  {
   "cell_type": "code",
   "execution_count": 53,
   "metadata": {},
   "outputs": [],
   "source": [
    "def format_prompt(row):\n",
    "    formatted_prompt = (\n",
    "        f\"<|system|>\"\n",
    "        f\"You are a helpful assistant for a STEM student.\"\n",
    "        f\"<|end|>\"\n",
    "        f\"<|user|>{row['prompt']}<|end|>\"\n",
    "        f\"<|assistant|>\"\n",
    "    )\n",
    "    return formatted_prompt\n",
    "\n",
    "expanded_df['prompt'] = expanded_df.apply(format_prompt, axis=1)"
   ]
  },
  {
   "cell_type": "markdown",
   "metadata": {},
   "source": [
    "### Extracting preference pairs\n",
    "For each row, we set `'chosen'` as the answer defined as best overall in the preference dict, and `'rejected'` as the other answer."
   ]
  },
  {
   "cell_type": "code",
   "execution_count": 54,
   "metadata": {},
   "outputs": [],
   "source": [
    "def extract_preferences(row):\n",
    "    overall = row['preference_dict'].get('overall')\n",
    "    if overall not in ['A', 'B']:\n",
    "        return None\n",
    "    elif overall == 'A':\n",
    "        chosen = row['preference_dict'].get('A')\n",
    "        rejected = row['preference_dict'].get('B')\n",
    "    else:\n",
    "        chosen = row['preference_dict'].get('B')\n",
    "        rejected = row['preference_dict'].get('A')\n",
    "    \n",
    "    return pd.Series({'chosen': chosen, 'rejected': rejected})\n",
    "\n",
    "preferences_df = expanded_df.apply(extract_preferences, axis=1)"
   ]
  },
  {
   "cell_type": "code",
   "execution_count": 55,
   "metadata": {},
   "outputs": [],
   "source": [
    "final_df = pd.concat([expanded_df, preferences_df], axis=1)\n",
    "final_df = final_df[['prompt', 'chosen', 'rejected']]"
   ]
  },
  {
   "cell_type": "code",
   "execution_count": 56,
   "metadata": {},
   "outputs": [
    {
     "data": {
      "text/html": [
       "<div>\n",
       "<style scoped>\n",
       "    .dataframe tbody tr th:only-of-type {\n",
       "        vertical-align: middle;\n",
       "    }\n",
       "\n",
       "    .dataframe tbody tr th {\n",
       "        vertical-align: top;\n",
       "    }\n",
       "\n",
       "    .dataframe thead th {\n",
       "        text-align: right;\n",
       "    }\n",
       "</style>\n",
       "<table border=\"1\" class=\"dataframe\">\n",
       "  <thead>\n",
       "    <tr style=\"text-align: right;\">\n",
       "      <th></th>\n",
       "      <th>prompt</th>\n",
       "      <th>chosen</th>\n",
       "      <th>rejected</th>\n",
       "    </tr>\n",
       "  </thead>\n",
       "  <tbody>\n",
       "    <tr>\n",
       "      <th>0</th>\n",
       "      <td>&lt;|system|&gt;You are a helpful assistant for a ST...</td>\n",
       "      <td>When `contains` is called on a List, the `drop...</td>\n",
       "      <td>The asymptotic depth of the contains function ...</td>\n",
       "    </tr>\n",
       "    <tr>\n",
       "      <th>0</th>\n",
       "      <td>&lt;|system|&gt;You are a helpful assistant for a ST...</td>\n",
       "      <td>To determine the asymptotic depth of the `cont...</td>\n",
       "      <td>The asymptotic depth of the contains function ...</td>\n",
       "    </tr>\n",
       "    <tr>\n",
       "      <th>0</th>\n",
       "      <td>&lt;|system|&gt;You are a helpful assistant for a ST...</td>\n",
       "      <td>To determine the asymptotic depth of the `cont...</td>\n",
       "      <td>The asymptotic depth of the `contains` functio...</td>\n",
       "    </tr>\n",
       "    <tr>\n",
       "      <th>0</th>\n",
       "      <td>&lt;|system|&gt;You are a helpful assistant for a ST...</td>\n",
       "      <td>To determine the asymptotic depth of the `cont...</td>\n",
       "      <td>The contains function is a recursive function ...</td>\n",
       "    </tr>\n",
       "    <tr>\n",
       "      <th>0</th>\n",
       "      <td>&lt;|system|&gt;You are a helpful assistant for a ST...</td>\n",
       "      <td>The asymptotic depth of the contains function ...</td>\n",
       "      <td>When the contains function is called on a List...</td>\n",
       "    </tr>\n",
       "  </tbody>\n",
       "</table>\n",
       "</div>"
      ],
      "text/plain": [
       "                                              prompt  \\\n",
       "0  <|system|>You are a helpful assistant for a ST...   \n",
       "0  <|system|>You are a helpful assistant for a ST...   \n",
       "0  <|system|>You are a helpful assistant for a ST...   \n",
       "0  <|system|>You are a helpful assistant for a ST...   \n",
       "0  <|system|>You are a helpful assistant for a ST...   \n",
       "\n",
       "                                              chosen  \\\n",
       "0  When `contains` is called on a List, the `drop...   \n",
       "0  To determine the asymptotic depth of the `cont...   \n",
       "0  To determine the asymptotic depth of the `cont...   \n",
       "0  To determine the asymptotic depth of the `cont...   \n",
       "0  The asymptotic depth of the contains function ...   \n",
       "\n",
       "                                            rejected  \n",
       "0  The asymptotic depth of the contains function ...  \n",
       "0  The asymptotic depth of the contains function ...  \n",
       "0  The asymptotic depth of the `contains` functio...  \n",
       "0  The contains function is a recursive function ...  \n",
       "0  When the contains function is called on a List...  "
      ]
     },
     "execution_count": 56,
     "metadata": {},
     "output_type": "execute_result"
    }
   ],
   "source": [
    "final_df.head()"
   ]
  },
  {
   "cell_type": "markdown",
   "metadata": {},
   "source": [
    "## 2. M1 preference data filtering\n",
    "Our data is now in the correct format, we will filter out pairs where:\n",
    "- `chosen` and `rejected` are the same\n",
    "- length of prompt or answer is too long\n"
   ]
  },
  {
   "cell_type": "code",
   "execution_count": 57,
   "metadata": {},
   "outputs": [
    {
     "data": {
      "text/plain": [
       "26498"
      ]
     },
     "execution_count": 57,
     "metadata": {},
     "output_type": "execute_result"
    }
   ],
   "source": [
    "final_df = final_df[final_df['chosen'] != final_df['rejected']]\n",
    "\n",
    "# We lost a few rows that would have been irrelevant:\n",
    "len(final_df)"
   ]
  },
  {
   "cell_type": "markdown",
   "metadata": {},
   "source": [
    "### Length filtering"
   ]
  },
  {
   "cell_type": "code",
   "execution_count": 58,
   "metadata": {},
   "outputs": [],
   "source": [
    "final_df['prompt_len'] = final_df['prompt'].apply(len)\n",
    "final_df['c_len'] = final_df['chosen'].apply(len)\n",
    "final_df['r_len'] = final_df['rejected'].apply(len)\n",
    "final_df['target_len'] = final_df[['c_len', 'r_len']].max(axis=1)"
   ]
  },
  {
   "cell_type": "code",
   "execution_count": 59,
   "metadata": {},
   "outputs": [],
   "source": [
    "def len_hist(col_name, title):\n",
    "    threshold = np.percentile(final_df[col_name], 95)\n",
    "\n",
    "    # Histogram:\n",
    "    plt.figure(figsize=(5, 3))\n",
    "    plt.hist(final_df[col_name], bins=30, color='lightblue', edgecolor='black', alpha=0.7)\n",
    "\n",
    "    plt.axvline(threshold, color='red', linestyle='dashed', linewidth=2, label=f'95th percentile ({threshold:.2f})')\n",
    "\n",
    "    plt.xlabel('Length')\n",
    "    plt.ylabel('Frequency')\n",
    "    plt.title('Length Repartition of '+title)\n",
    "    plt.legend()\n",
    "\n",
    "    plt.show()"
   ]
  },
  {
   "cell_type": "code",
   "execution_count": 60,
   "metadata": {},
   "outputs": [
    {
     "data": {
      "image/png": "[encoded data removed]",
      "text/plain": [
       "<Figure size 500x300 with 1 Axes>"
      ]
     },
     "metadata": {},
     "output_type": "display_data"
    }
   ],
   "source": [
    "len_hist('prompt_len', 'Prompt')"
   ]
  },
  {
   "cell_type": "code",
   "execution_count": 61,
   "metadata": {},
   "outputs": [
    {
     "data": {
      "image/png": "[encoded data removed]",
      "text/plain": [
       "<Figure size 500x300 with 1 Axes>"
      ]
     },
     "metadata": {},
     "output_type": "display_data"
    }
   ],
   "source": [
    "len_hist('target_len', 'Target')"
   ]
  },
  {
   "cell_type": "code",
   "execution_count": 62,
   "metadata": {},
   "outputs": [],
   "source": [
    "for col_name in ['prompt_len', 'target_len']:\n",
    "    threshold = np.percentile(final_df[col_name], 95)\n",
    "    final_df = final_df[final_df[col_name] <= threshold]"
   ]
  },
  {
   "cell_type": "code",
   "execution_count": 70,
   "metadata": {},
   "outputs": [
    {
     "name": "stdout",
     "output_type": "stream",
     "text": [
      "23933\n",
      "1310\n",
      "2361\n"
     ]
    }
   ],
   "source": [
    "print(len(final_df))\n",
    "print(final_df.prompt_len.max())\n",
    "print(final_df.target_len.max())"
   ]
  },
  {
   "cell_type": "code",
   "execution_count": 71,
   "metadata": {},
   "outputs": [
    {
     "data": {
      "text/html": [
       "<div>\n",
       "<style scoped>\n",
       "    .dataframe tbody tr th:only-of-type {\n",
       "        vertical-align: middle;\n",
       "    }\n",
       "\n",
       "    .dataframe tbody tr th {\n",
       "        vertical-align: top;\n",
       "    }\n",
       "\n",
       "    .dataframe thead th {\n",
       "        text-align: right;\n",
       "    }\n",
       "</style>\n",
       "<table border=\"1\" class=\"dataframe\">\n",
       "  <thead>\n",
       "    <tr style=\"text-align: right;\">\n",
       "      <th></th>\n",
       "      <th>prompt</th>\n",
       "      <th>chosen</th>\n",
       "      <th>rejected</th>\n",
       "    </tr>\n",
       "  </thead>\n",
       "  <tbody>\n",
       "    <tr>\n",
       "      <th>0</th>\n",
       "      <td>&lt;|system|&gt;You are a helpful assistant for a ST...</td>\n",
       "      <td>When `contains` is called on a List, the `drop...</td>\n",
       "      <td>The asymptotic depth of the contains function ...</td>\n",
       "    </tr>\n",
       "    <tr>\n",
       "      <th>0</th>\n",
       "      <td>&lt;|system|&gt;You are a helpful assistant for a ST...</td>\n",
       "      <td>To determine the asymptotic depth of the `cont...</td>\n",
       "      <td>The asymptotic depth of the contains function ...</td>\n",
       "    </tr>\n",
       "    <tr>\n",
       "      <th>0</th>\n",
       "      <td>&lt;|system|&gt;You are a helpful assistant for a ST...</td>\n",
       "      <td>To determine the asymptotic depth of the `cont...</td>\n",
       "      <td>The asymptotic depth of the `contains` functio...</td>\n",
       "    </tr>\n",
       "    <tr>\n",
       "      <th>0</th>\n",
       "      <td>&lt;|system|&gt;You are a helpful assistant for a ST...</td>\n",
       "      <td>To determine the asymptotic depth of the `cont...</td>\n",
       "      <td>The contains function is a recursive function ...</td>\n",
       "    </tr>\n",
       "    <tr>\n",
       "      <th>0</th>\n",
       "      <td>&lt;|system|&gt;You are a helpful assistant for a ST...</td>\n",
       "      <td>The asymptotic depth of the contains function ...</td>\n",
       "      <td>When the contains function is called on a List...</td>\n",
       "    </tr>\n",
       "  </tbody>\n",
       "</table>\n",
       "</div>"
      ],
      "text/plain": [
       "                                              prompt  \\\n",
       "0  <|system|>You are a helpful assistant for a ST...   \n",
       "0  <|system|>You are a helpful assistant for a ST...   \n",
       "0  <|system|>You are a helpful assistant for a ST...   \n",
       "0  <|system|>You are a helpful assistant for a ST...   \n",
       "0  <|system|>You are a helpful assistant for a ST...   \n",
       "\n",
       "                                              chosen  \\\n",
       "0  When `contains` is called on a List, the `drop...   \n",
       "0  To determine the asymptotic depth of the `cont...   \n",
       "0  To determine the asymptotic depth of the `cont...   \n",
       "0  To determine the asymptotic depth of the `cont...   \n",
       "0  The asymptotic depth of the contains function ...   \n",
       "\n",
       "                                            rejected  \n",
       "0  The asymptotic depth of the contains function ...  \n",
       "0  The asymptotic depth of the contains function ...  \n",
       "0  The asymptotic depth of the `contains` functio...  \n",
       "0  The contains function is a recursive function ...  \n",
       "0  When the contains function is called on a List...  "
      ]
     },
     "execution_count": 71,
     "metadata": {},
     "output_type": "execute_result"
    }
   ],
   "source": [
    "final_df = final_df[['prompt', 'chosen', 'rejected']]\n",
    "final_df.head()"
   ]
  },
  {
   "cell_type": "markdown",
   "metadata": {},
   "source": [
    "## Train / Test split"
   ]
  },
  {
   "cell_type": "code",
   "execution_count": 6,
   "metadata": {},
   "outputs": [],
   "source": [
    "df = pd.DataFrame(read_jsonl('DPO_data.jsonl'))\n",
    "\n",
    "train_df, eval_df = train_test_split(df, test_size=0.1, random_state=42, shuffle=True)\n",
    "\n",
    "train_df.to_json('DPO_train.jsonl', orient='records', lines=True)\n",
    "eval_df.to_json('DPO_eval.jsonl', orient='records', lines=True)"
   ]
  },
  {
   "cell_type": "markdown",
   "metadata": {},
   "source": [
    "## End: Save as jsonl"
   ]
  },
  {
   "cell_type": "code",
   "execution_count": 76,
   "metadata": {},
   "outputs": [],
   "source": [
    "final_df.to_json('DPO_data.jsonl', orient='records', lines=True)"
   ]
  },
  {
   "cell_type": "code",
   "execution_count": 2,
   "metadata": {},
   "outputs": [],
   "source": [
    "df = pd.DataFrame(read_jsonl('DPO_data.jsonl'))"
   ]
  },
  {
   "cell_type": "code",
   "execution_count": 3,
   "metadata": {},
   "outputs": [
    {
     "data": {
      "text/html": [
       "<div>\n",
       "<style scoped>\n",
       "    .dataframe tbody tr th:only-of-type {\n",
       "        vertical-align: middle;\n",
       "    }\n",
       "\n",
       "    .dataframe tbody tr th {\n",
       "        vertical-align: top;\n",
       "    }\n",
       "\n",
       "    .dataframe thead th {\n",
       "        text-align: right;\n",
       "    }\n",
       "</style>\n",
       "<table border=\"1\" class=\"dataframe\">\n",
       "  <thead>\n",
       "    <tr style=\"text-align: right;\">\n",
       "      <th></th>\n",
       "      <th>prompt</th>\n",
       "      <th>chosen</th>\n",
       "      <th>rejected</th>\n",
       "    </tr>\n",
       "  </thead>\n",
       "  <tbody>\n",
       "    <tr>\n",
       "      <th>0</th>\n",
       "      <td>&lt;|system|&gt;You are a helpful assistant for a ST...</td>\n",
       "      <td>When `contains` is called on a List, the `drop...</td>\n",
       "      <td>The asymptotic depth of the contains function ...</td>\n",
       "    </tr>\n",
       "    <tr>\n",
       "      <th>1</th>\n",
       "      <td>&lt;|system|&gt;You are a helpful assistant for a ST...</td>\n",
       "      <td>To determine the asymptotic depth of the `cont...</td>\n",
       "      <td>The asymptotic depth of the contains function ...</td>\n",
       "    </tr>\n",
       "    <tr>\n",
       "      <th>2</th>\n",
       "      <td>&lt;|system|&gt;You are a helpful assistant for a ST...</td>\n",
       "      <td>To determine the asymptotic depth of the `cont...</td>\n",
       "      <td>The asymptotic depth of the `contains` functio...</td>\n",
       "    </tr>\n",
       "    <tr>\n",
       "      <th>3</th>\n",
       "      <td>&lt;|system|&gt;You are a helpful assistant for a ST...</td>\n",
       "      <td>To determine the asymptotic depth of the `cont...</td>\n",
       "      <td>The contains function is a recursive function ...</td>\n",
       "    </tr>\n",
       "    <tr>\n",
       "      <th>4</th>\n",
       "      <td>&lt;|system|&gt;You are a helpful assistant for a ST...</td>\n",
       "      <td>The asymptotic depth of the contains function ...</td>\n",
       "      <td>When the contains function is called on a List...</td>\n",
       "    </tr>\n",
       "  </tbody>\n",
       "</table>\n",
       "</div>"
      ],
      "text/plain": [
       "                                              prompt  \\\n",
       "0  <|system|>You are a helpful assistant for a ST...   \n",
       "1  <|system|>You are a helpful assistant for a ST...   \n",
       "2  <|system|>You are a helpful assistant for a ST...   \n",
       "3  <|system|>You are a helpful assistant for a ST...   \n",
       "4  <|system|>You are a helpful assistant for a ST...   \n",
       "\n",
       "                                              chosen  \\\n",
       "0  When `contains` is called on a List, the `drop...   \n",
       "1  To determine the asymptotic depth of the `cont...   \n",
       "2  To determine the asymptotic depth of the `cont...   \n",
       "3  To determine the asymptotic depth of the `cont...   \n",
       "4  The asymptotic depth of the contains function ...   \n",
       "\n",
       "                                            rejected  \n",
       "0  The asymptotic depth of the contains function ...  \n",
       "1  The asymptotic depth of the contains function ...  \n",
       "2  The asymptotic depth of the `contains` functio...  \n",
       "3  The contains function is a recursive function ...  \n",
       "4  When the contains function is called on a List...  "
      ]
     },
     "execution_count": 3,
     "metadata": {},
     "output_type": "execute_result"
    }
   ],
   "source": [
    "df.head()"
   ]
  },
  {
   "cell_type": "code",
   "execution_count": 4,
   "metadata": {},
   "outputs": [
    {
     "data": {
      "text/plain": [
       "23933"
      ]
     },
     "execution_count": 4,
     "metadata": {},
     "output_type": "execute_result"
    }
   ],
   "source": [
    "len(df)"
   ]
  }
 ],
 "metadata": {
  "kernelspec": {
   "display_name": "Python 3",
   "language": "python",
   "name": "python3"
  },
  "language_info": {
   "codemirror_mode": {
    "name": "ipython",
    "version": 3
   },
   "file_extension": ".py",
   "mimetype": "text/x-python",
   "name": "python",
   "nbconvert_exporter": "python",
   "pygments_lexer": "ipython3",
   "version": "3.10.13"
  }
 },
 "nbformat": 4,
 "nbformat_minor": 2
}
