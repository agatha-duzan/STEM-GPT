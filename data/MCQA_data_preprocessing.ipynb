{
 "cells": [
  {
   "cell_type": "markdown",
   "metadata": {},
   "source": [
    "# Crafting the MCQA dataset\n"
   ]
  },
  {
   "cell_type": "markdown",
   "metadata": {},
   "source": [
    "## 0. Data format\n",
    "We want the final data format to look like this:\n",
    "\n",
    "`{\"subject\": \"question_subject\", \"question\": \"Question: our_question \\n\\nOptions:\\nA. op_a\\nB. opt_B\\nC. opt_C\\nD. opt_D\\n\\nAnswer:\", \"answer\": \"good_answer\"}`\n",
    "\n",
    "We will use the following open source datasets to collect STEM related MCQA questions:\n",
    "- MMLU (supercategory STEM)\n",
    "- ARC (only Challenge)\n"
   ]
  },
  {
   "cell_type": "code",
   "execution_count": 1,
   "metadata": {},
   "outputs": [],
   "source": [
    "import sys\n",
    "import os\n",
    "import pandas as pd\n",
    "import json\n",
    "\n",
    "from datasets import load_dataset, DatasetDict\n",
    "from sklearn.model_selection import train_test_split\n",
    "\n",
    "sys.path.append(os.path.abspath('../'))\n",
    "\n",
    "from model.utils import *"
   ]
  },
  {
   "cell_type": "markdown",
   "metadata": {},
   "source": [
    "## 1. Provided questions"
   ]
  },
  {
   "cell_type": "code",
   "execution_count": 2,
   "metadata": {},
   "outputs": [
    {
     "data": {
      "text/html": [
       "<div>\n",
       "<style scoped>\n",
       "    .dataframe tbody tr th:only-of-type {\n",
       "        vertical-align: middle;\n",
       "    }\n",
       "\n",
       "    .dataframe tbody tr th {\n",
       "        vertical-align: top;\n",
       "    }\n",
       "\n",
       "    .dataframe thead th {\n",
       "        text-align: right;\n",
       "    }\n",
       "</style>\n",
       "<table border=\"1\" class=\"dataframe\">\n",
       "  <thead>\n",
       "    <tr style=\"text-align: right;\">\n",
       "      <th></th>\n",
       "      <th>subject</th>\n",
       "      <th>question</th>\n",
       "      <th>answer</th>\n",
       "    </tr>\n",
       "  </thead>\n",
       "  <tbody>\n",
       "    <tr>\n",
       "      <th>0</th>\n",
       "      <td>machine_learning</td>\n",
       "      <td>Question: Statement 1| Linear regression estim...</td>\n",
       "      <td>D</td>\n",
       "    </tr>\n",
       "    <tr>\n",
       "      <th>1</th>\n",
       "      <td>machine_learning</td>\n",
       "      <td>Question: Statement 1| RoBERTa pretrains on a ...</td>\n",
       "      <td>C</td>\n",
       "    </tr>\n",
       "    <tr>\n",
       "      <th>2</th>\n",
       "      <td>machine_learning</td>\n",
       "      <td>Question: Statement 1| Support vector machines...</td>\n",
       "      <td>B</td>\n",
       "    </tr>\n",
       "    <tr>\n",
       "      <th>3</th>\n",
       "      <td>machine_learning</td>\n",
       "      <td>Question: A machine learning problem involves ...</td>\n",
       "      <td>D</td>\n",
       "    </tr>\n",
       "    <tr>\n",
       "      <th>4</th>\n",
       "      <td>machine_learning</td>\n",
       "      <td>Question: As of 2020, which architecture is be...</td>\n",
       "      <td>A</td>\n",
       "    </tr>\n",
       "  </tbody>\n",
       "</table>\n",
       "</div>"
      ],
      "text/plain": [
       "            subject                                           question answer\n",
       "0  machine_learning  Question: Statement 1| Linear regression estim...      D\n",
       "1  machine_learning  Question: Statement 1| RoBERTa pretrains on a ...      C\n",
       "2  machine_learning  Question: Statement 1| Support vector machines...      B\n",
       "3  machine_learning  Question: A machine learning problem involves ...      D\n",
       "4  machine_learning  Question: As of 2020, which architecture is be...      A"
      ]
     },
     "execution_count": 2,
     "metadata": {},
     "output_type": "execute_result"
    }
   ],
   "source": [
    "data = read_jsonl(\"desired format examples/mcqa_example.jsonl\")\n",
    "example_df = pd.DataFrame(data)\n",
    "example_df.head()"
   ]
  },
  {
   "cell_type": "markdown",
   "metadata": {},
   "source": [
    "Expected question format:"
   ]
  },
  {
   "cell_type": "code",
   "execution_count": 60,
   "metadata": {},
   "outputs": [
    {
     "data": {
      "text/plain": [
       "'Question: Statement 1| Linear regression estimator has the smallest variance among all unbiased estimators. Statement 2| The coefficients α assigned to the classifiers assembled by AdaBoost are always non-negative.\\n\\nOptions:\\nA. True, True\\nB. False, False\\nC. True, False\\nD. False, True\\n\\nAnswer:'"
      ]
     },
     "execution_count": 60,
     "metadata": {},
     "output_type": "execute_result"
    }
   ],
   "source": [
    "example_df.iloc[0]['question']"
   ]
  },
  {
   "cell_type": "markdown",
   "metadata": {},
   "source": [
    "### Train/val split"
   ]
  },
  {
   "cell_type": "code",
   "execution_count": 61,
   "metadata": {},
   "outputs": [],
   "source": [
    "train_df, eval_df = train_test_split(example_df, test_size=0.1, random_state=42, shuffle=True)\n",
    "eval_df.to_json('mcqa_example_eval.jsonl', orient='records', lines=True)\n",
    "eval_df.to_json('mcqa_example_eval.jsonl', orient='records', lines=True)"
   ]
  },
  {
   "cell_type": "markdown",
   "metadata": {},
   "source": [
    "## 2. MMLU dataset"
   ]
  },
  {
   "cell_type": "markdown",
   "metadata": {},
   "source": [
    "### Getting the STEM categories\n",
    "The lists of categories and subcategories are from the MMLU github repo."
   ]
  },
  {
   "cell_type": "code",
   "execution_count": 39,
   "metadata": {},
   "outputs": [
    {
     "name": "stdout",
     "output_type": "stream",
     "text": [
      "['abstract_algebra', 'astronomy', 'college_biology', 'college_chemistry', 'college_computer_science', 'college_mathematics', 'college_physics', 'computer_security', 'conceptual_physics', 'electrical_engineering', 'elementary_mathematics', 'high_school_biology', 'high_school_chemistry', 'high_school_computer_science', 'high_school_mathematics', 'high_school_physics', 'high_school_statistics', 'machine_learning']\n"
     ]
    }
   ],
   "source": [
    "subcategories = {\n",
    "    \"abstract_algebra\": [\"math\"],\n",
    "    \"anatomy\": [\"health\"],\n",
    "    \"astronomy\": [\"physics\"],\n",
    "    \"business_ethics\": [\"business\"],\n",
    "    \"clinical_knowledge\": [\"health\"],\n",
    "    \"college_biology\": [\"biology\"],\n",
    "    \"college_chemistry\": [\"chemistry\"],\n",
    "    \"college_computer_science\": [\"computer science\"],\n",
    "    \"college_mathematics\": [\"math\"],\n",
    "    \"college_medicine\": [\"health\"],\n",
    "    \"college_physics\": [\"physics\"],\n",
    "    \"computer_security\": [\"computer science\"],\n",
    "    \"conceptual_physics\": [\"physics\"],\n",
    "    \"econometrics\": [\"economics\"],\n",
    "    \"electrical_engineering\": [\"engineering\"],\n",
    "    \"elementary_mathematics\": [\"math\"],\n",
    "    \"formal_logic\": [\"philosophy\"],\n",
    "    \"global_facts\": [\"other\"],\n",
    "    \"high_school_biology\": [\"biology\"],\n",
    "    \"high_school_chemistry\": [\"chemistry\"],\n",
    "    \"high_school_computer_science\": [\"computer science\"],\n",
    "    \"high_school_european_history\": [\"history\"],\n",
    "    \"high_school_geography\": [\"geography\"],\n",
    "    \"high_school_government_and_politics\": [\"politics\"],\n",
    "    \"high_school_macroeconomics\": [\"economics\"],\n",
    "    \"high_school_mathematics\": [\"math\"],\n",
    "    \"high_school_microeconomics\": [\"economics\"],\n",
    "    \"high_school_physics\": [\"physics\"],\n",
    "    \"high_school_psychology\": [\"psychology\"],\n",
    "    \"high_school_statistics\": [\"math\"],\n",
    "    \"high_school_us_history\": [\"history\"],\n",
    "    \"high_school_world_history\": [\"history\"],\n",
    "    \"human_aging\": [\"health\"],\n",
    "    \"human_sexuality\": [\"culture\"],\n",
    "    \"international_law\": [\"law\"],\n",
    "    \"jurisprudence\": [\"law\"],\n",
    "    \"logical_fallacies\": [\"philosophy\"],\n",
    "    \"machine_learning\": [\"computer science\"],\n",
    "    \"management\": [\"business\"],\n",
    "    \"marketing\": [\"business\"],\n",
    "    \"medical_genetics\": [\"health\"],\n",
    "    \"miscellaneous\": [\"other\"],\n",
    "    \"moral_disputes\": [\"philosophy\"],\n",
    "    \"moral_scenarios\": [\"philosophy\"],\n",
    "    \"nutrition\": [\"health\"],\n",
    "    \"philosophy\": [\"philosophy\"],\n",
    "    \"prehistory\": [\"history\"],\n",
    "    \"professional_accounting\": [\"other\"],\n",
    "    \"professional_law\": [\"law\"],\n",
    "    \"professional_medicine\": [\"health\"],\n",
    "    \"professional_psychology\": [\"psychology\"],\n",
    "    \"public_relations\": [\"politics\"],\n",
    "    \"security_studies\": [\"politics\"],\n",
    "    \"sociology\": [\"culture\"],\n",
    "    \"us_foreign_policy\": [\"politics\"],\n",
    "    \"virology\": [\"health\"],\n",
    "    \"world_religions\": [\"philosophy\"],\n",
    "}\n",
    "\n",
    "categories = {\n",
    "    \"STEM\": [\"physics\", \"chemistry\", \"biology\", \"computer science\", \"math\", \"engineering\"],\n",
    "    \"humanities\": [\"history\", \"philosophy\", \"law\"],\n",
    "    \"social sciences\": [\"politics\", \"culture\", \"economics\", \"geography\", \"psychology\"],\n",
    "    \"other (business, health, misc.)\": [\"other\", \"business\", \"health\"],\n",
    "}\n",
    "\n",
    "stem_categories = [sub for sub in subcategories if subcategories[sub][0] in categories[\"STEM\"]]\n",
    "print(stem_categories)"
   ]
  },
  {
   "cell_type": "code",
   "execution_count": 35,
   "metadata": {},
   "outputs": [],
   "source": [
    "def ds_to_jsonl(category):\n",
    "    def dataset_to_list(dataset):\n",
    "        return [dict(row) for row in dataset]\n",
    "    \n",
    "    ds = load_dataset(\"cais/mmlu\", category)\n",
    "\n",
    "    # Combine all datasets into a single list\n",
    "    combined_data = []\n",
    "    for key in ds.keys():\n",
    "        combined_data.extend(dataset_to_list(ds[key]))\n",
    "\n",
    "    name = 'raw data/' + category + \"_raw.jsonl\"\n",
    "    with open(name, 'w') as jsonl_file:\n",
    "        for entry in combined_data:\n",
    "            jsonl_file.write(json.dumps(entry) + '\\n')"
   ]
  },
  {
   "cell_type": "code",
   "execution_count": null,
   "metadata": {},
   "outputs": [],
   "source": [
    "for category in stem_categories:\n",
    "    ds_to_jsonl(category)"
   ]
  },
  {
   "cell_type": "markdown",
   "metadata": {},
   "source": [
    "### Aggregating in a single df"
   ]
  },
  {
   "cell_type": "code",
   "execution_count": 46,
   "metadata": {},
   "outputs": [
    {
     "data": {
      "text/html": [
       "<div>\n",
       "<style scoped>\n",
       "    .dataframe tbody tr th:only-of-type {\n",
       "        vertical-align: middle;\n",
       "    }\n",
       "\n",
       "    .dataframe tbody tr th {\n",
       "        vertical-align: top;\n",
       "    }\n",
       "\n",
       "    .dataframe thead th {\n",
       "        text-align: right;\n",
       "    }\n",
       "</style>\n",
       "<table border=\"1\" class=\"dataframe\">\n",
       "  <thead>\n",
       "    <tr style=\"text-align: right;\">\n",
       "      <th></th>\n",
       "      <th>question</th>\n",
       "      <th>subject</th>\n",
       "      <th>choices</th>\n",
       "      <th>answer</th>\n",
       "    </tr>\n",
       "  </thead>\n",
       "  <tbody>\n",
       "    <tr>\n",
       "      <th>0</th>\n",
       "      <td>Find the degree for the given field extension ...</td>\n",
       "      <td>abstract_algebra</td>\n",
       "      <td>[0, 4, 2, 6]</td>\n",
       "      <td>1</td>\n",
       "    </tr>\n",
       "    <tr>\n",
       "      <th>1</th>\n",
       "      <td>Let p = (1, 2, 5, 4)(2, 3) in S_5 . Find the i...</td>\n",
       "      <td>abstract_algebra</td>\n",
       "      <td>[8, 2, 24, 120]</td>\n",
       "      <td>2</td>\n",
       "    </tr>\n",
       "    <tr>\n",
       "      <th>2</th>\n",
       "      <td>Find all zeros in the indicated finite field o...</td>\n",
       "      <td>abstract_algebra</td>\n",
       "      <td>[0, 1, 0,1, 0,4]</td>\n",
       "      <td>3</td>\n",
       "    </tr>\n",
       "    <tr>\n",
       "      <th>3</th>\n",
       "      <td>Statement 1 | A factor group of a non-Abelian ...</td>\n",
       "      <td>abstract_algebra</td>\n",
       "      <td>[True, True, False, False, True, False, False,...</td>\n",
       "      <td>1</td>\n",
       "    </tr>\n",
       "    <tr>\n",
       "      <th>4</th>\n",
       "      <td>Find the product of the given polynomials in t...</td>\n",
       "      <td>abstract_algebra</td>\n",
       "      <td>[2x^2 + 5, 6x^2 + 4x + 6, 0, x^2 + 1]</td>\n",
       "      <td>1</td>\n",
       "    </tr>\n",
       "  </tbody>\n",
       "</table>\n",
       "</div>"
      ],
      "text/plain": [
       "                                            question           subject  \\\n",
       "0  Find the degree for the given field extension ...  abstract_algebra   \n",
       "1  Let p = (1, 2, 5, 4)(2, 3) in S_5 . Find the i...  abstract_algebra   \n",
       "2  Find all zeros in the indicated finite field o...  abstract_algebra   \n",
       "3  Statement 1 | A factor group of a non-Abelian ...  abstract_algebra   \n",
       "4  Find the product of the given polynomials in t...  abstract_algebra   \n",
       "\n",
       "                                             choices  answer  \n",
       "0                                       [0, 4, 2, 6]       1  \n",
       "1                                    [8, 2, 24, 120]       2  \n",
       "2                                   [0, 1, 0,1, 0,4]       3  \n",
       "3  [True, True, False, False, True, False, False,...       1  \n",
       "4              [2x^2 + 5, 6x^2 + 4x + 6, 0, x^2 + 1]       1  "
      ]
     },
     "execution_count": 46,
     "metadata": {},
     "output_type": "execute_result"
    }
   ],
   "source": [
    "filenames = ['raw data/' + category + \"_raw.jsonl\" for category in stem_categories]\n",
    "combined_data = []\n",
    "for filename in filenames:\n",
    "    combined_data.extend(read_jsonl(filename))\n",
    "\n",
    "df = pd.DataFrame(combined_data)\n",
    "df.head()"
   ]
  },
  {
   "cell_type": "code",
   "execution_count": 47,
   "metadata": {},
   "outputs": [
    {
     "data": {
      "text/plain": [
       "3429"
      ]
     },
     "execution_count": 47,
     "metadata": {},
     "output_type": "execute_result"
    }
   ],
   "source": [
    "len(df)"
   ]
  },
  {
   "cell_type": "markdown",
   "metadata": {},
   "source": [
    "We get 3429 STEM questions from the MMLU dataset, let's get them to the desired format."
   ]
  },
  {
   "cell_type": "markdown",
   "metadata": {},
   "source": [
    "### Processing"
   ]
  },
  {
   "cell_type": "markdown",
   "metadata": {},
   "source": [
    "Reminder of the expected format:\n",
    "\n",
    "`{\"subject\": \"question_subject\", \"question\": \"Question: our_question \\n\\nOptions:\\nA. op_a\\nB. opt_B\\nC. opt_C\\nD. opt_D\\n\\nAnswer:\", \"answer\": \"good_answer\"}`"
   ]
  },
  {
   "cell_type": "code",
   "execution_count": 65,
   "metadata": {},
   "outputs": [
    {
     "data": {
      "text/html": [
       "<div>\n",
       "<style scoped>\n",
       "    .dataframe tbody tr th:only-of-type {\n",
       "        vertical-align: middle;\n",
       "    }\n",
       "\n",
       "    .dataframe tbody tr th {\n",
       "        vertical-align: top;\n",
       "    }\n",
       "\n",
       "    .dataframe thead th {\n",
       "        text-align: right;\n",
       "    }\n",
       "</style>\n",
       "<table border=\"1\" class=\"dataframe\">\n",
       "  <thead>\n",
       "    <tr style=\"text-align: right;\">\n",
       "      <th></th>\n",
       "      <th>question</th>\n",
       "      <th>subject</th>\n",
       "      <th>choices</th>\n",
       "      <th>answer</th>\n",
       "      <th>formatted_question</th>\n",
       "      <th>mapped_answer</th>\n",
       "    </tr>\n",
       "  </thead>\n",
       "  <tbody>\n",
       "    <tr>\n",
       "      <th>0</th>\n",
       "      <td>Question: Find the degree for the given field ...</td>\n",
       "      <td>abstract_algebra</td>\n",
       "      <td>[0, 4, 2, 6]</td>\n",
       "      <td>B</td>\n",
       "      <td>Question: Find the degree for the given field ...</td>\n",
       "      <td>B</td>\n",
       "    </tr>\n",
       "    <tr>\n",
       "      <th>1</th>\n",
       "      <td>Question: Let p = (1, 2, 5, 4)(2, 3) in S_5 . ...</td>\n",
       "      <td>abstract_algebra</td>\n",
       "      <td>[8, 2, 24, 120]</td>\n",
       "      <td>C</td>\n",
       "      <td>Question: Let p = (1, 2, 5, 4)(2, 3) in S_5 . ...</td>\n",
       "      <td>C</td>\n",
       "    </tr>\n",
       "    <tr>\n",
       "      <th>2</th>\n",
       "      <td>Question: Find all zeros in the indicated fini...</td>\n",
       "      <td>abstract_algebra</td>\n",
       "      <td>[0, 1, 0,1, 0,4]</td>\n",
       "      <td>D</td>\n",
       "      <td>Question: Find all zeros in the indicated fini...</td>\n",
       "      <td>D</td>\n",
       "    </tr>\n",
       "    <tr>\n",
       "      <th>3</th>\n",
       "      <td>Question: Statement 1 | A factor group of a no...</td>\n",
       "      <td>abstract_algebra</td>\n",
       "      <td>[True, True, False, False, True, False, False,...</td>\n",
       "      <td>B</td>\n",
       "      <td>Question: Statement 1 | A factor group of a no...</td>\n",
       "      <td>B</td>\n",
       "    </tr>\n",
       "    <tr>\n",
       "      <th>4</th>\n",
       "      <td>Question: Find the product of the given polyno...</td>\n",
       "      <td>abstract_algebra</td>\n",
       "      <td>[2x^2 + 5, 6x^2 + 4x + 6, 0, x^2 + 1]</td>\n",
       "      <td>B</td>\n",
       "      <td>Question: Find the product of the given polyno...</td>\n",
       "      <td>B</td>\n",
       "    </tr>\n",
       "  </tbody>\n",
       "</table>\n",
       "</div>"
      ],
      "text/plain": [
       "                                            question           subject  \\\n",
       "0  Question: Find the degree for the given field ...  abstract_algebra   \n",
       "1  Question: Let p = (1, 2, 5, 4)(2, 3) in S_5 . ...  abstract_algebra   \n",
       "2  Question: Find all zeros in the indicated fini...  abstract_algebra   \n",
       "3  Question: Statement 1 | A factor group of a no...  abstract_algebra   \n",
       "4  Question: Find the product of the given polyno...  abstract_algebra   \n",
       "\n",
       "                                             choices answer  \\\n",
       "0                                       [0, 4, 2, 6]      B   \n",
       "1                                    [8, 2, 24, 120]      C   \n",
       "2                                   [0, 1, 0,1, 0,4]      D   \n",
       "3  [True, True, False, False, True, False, False,...      B   \n",
       "4              [2x^2 + 5, 6x^2 + 4x + 6, 0, x^2 + 1]      B   \n",
       "\n",
       "                                  formatted_question mapped_answer  \n",
       "0  Question: Find the degree for the given field ...             B  \n",
       "1  Question: Let p = (1, 2, 5, 4)(2, 3) in S_5 . ...             C  \n",
       "2  Question: Find all zeros in the indicated fini...             D  \n",
       "3  Question: Statement 1 | A factor group of a no...             B  \n",
       "4  Question: Find the product of the given polyno...             B  "
      ]
     },
     "execution_count": 65,
     "metadata": {},
     "output_type": "execute_result"
    }
   ],
   "source": [
    "def format_question(row):\n",
    "    choices = row['choices']\n",
    "    formatted_question = (\n",
    "        f\"Question: {row['question']}\\n\\n\"\n",
    "        f\"Options:\\n\"\n",
    "        f\"A. {choices[0]}\\n\"\n",
    "        f\"B. {choices[1]}\\n\"\n",
    "        f\"C. {choices[2]}\\n\"\n",
    "        f\"D. {choices[3]}\\n\\n\"\n",
    "        f\"Answer:\"\n",
    "    )\n",
    "    return formatted_question\n",
    "\n",
    "df['question'] = df.apply(format_question, axis=1)\n",
    "df.head()"
   ]
  },
  {
   "cell_type": "code",
   "execution_count": 63,
   "metadata": {},
   "outputs": [],
   "source": [
    "answer_mapping = {0: \"A\", 1: \"B\", 2: \"C\", 3: \"D\"}\n",
    "df['answer'] = df['answer'].map(answer_mapping)\n",
    "\n",
    "df = df [['subject','question', 'answer']]"
   ]
  },
  {
   "cell_type": "code",
   "execution_count": 68,
   "metadata": {},
   "outputs": [
    {
     "data": {
      "text/html": [
       "<div>\n",
       "<style scoped>\n",
       "    .dataframe tbody tr th:only-of-type {\n",
       "        vertical-align: middle;\n",
       "    }\n",
       "\n",
       "    .dataframe tbody tr th {\n",
       "        vertical-align: top;\n",
       "    }\n",
       "\n",
       "    .dataframe thead th {\n",
       "        text-align: right;\n",
       "    }\n",
       "</style>\n",
       "<table border=\"1\" class=\"dataframe\">\n",
       "  <thead>\n",
       "    <tr style=\"text-align: right;\">\n",
       "      <th></th>\n",
       "      <th>subject</th>\n",
       "      <th>question</th>\n",
       "      <th>answer</th>\n",
       "    </tr>\n",
       "  </thead>\n",
       "  <tbody>\n",
       "    <tr>\n",
       "      <th>0</th>\n",
       "      <td>abstract_algebra</td>\n",
       "      <td>Question: Find the degree for the given field ...</td>\n",
       "      <td>B</td>\n",
       "    </tr>\n",
       "    <tr>\n",
       "      <th>1</th>\n",
       "      <td>abstract_algebra</td>\n",
       "      <td>Question: Let p = (1, 2, 5, 4)(2, 3) in S_5 . ...</td>\n",
       "      <td>C</td>\n",
       "    </tr>\n",
       "    <tr>\n",
       "      <th>2</th>\n",
       "      <td>abstract_algebra</td>\n",
       "      <td>Question: Find all zeros in the indicated fini...</td>\n",
       "      <td>D</td>\n",
       "    </tr>\n",
       "    <tr>\n",
       "      <th>3</th>\n",
       "      <td>abstract_algebra</td>\n",
       "      <td>Question: Statement 1 | A factor group of a no...</td>\n",
       "      <td>B</td>\n",
       "    </tr>\n",
       "    <tr>\n",
       "      <th>4</th>\n",
       "      <td>abstract_algebra</td>\n",
       "      <td>Question: Find the product of the given polyno...</td>\n",
       "      <td>B</td>\n",
       "    </tr>\n",
       "  </tbody>\n",
       "</table>\n",
       "</div>"
      ],
      "text/plain": [
       "            subject                                           question answer\n",
       "0  abstract_algebra  Question: Find the degree for the given field ...      B\n",
       "1  abstract_algebra  Question: Let p = (1, 2, 5, 4)(2, 3) in S_5 . ...      C\n",
       "2  abstract_algebra  Question: Find all zeros in the indicated fini...      D\n",
       "3  abstract_algebra  Question: Statement 1 | A factor group of a no...      B\n",
       "4  abstract_algebra  Question: Find the product of the given polyno...      B"
      ]
     },
     "execution_count": 68,
     "metadata": {},
     "output_type": "execute_result"
    }
   ],
   "source": [
    "df.head()"
   ]
  },
  {
   "cell_type": "markdown",
   "metadata": {},
   "source": [
    "### Saving as jsonl"
   ]
  },
  {
   "cell_type": "code",
   "execution_count": 71,
   "metadata": {},
   "outputs": [],
   "source": [
    "df.to_json('stem_mmlu.jsonl', orient='records', lines=True)"
   ]
  },
  {
   "cell_type": "markdown",
   "metadata": {},
   "source": [
    "### eval/val split"
   ]
  },
  {
   "cell_type": "code",
   "execution_count": 56,
   "metadata": {},
   "outputs": [],
   "source": [
    "df = pd.DataFrame(read_jsonl('MMLU clean/stem_mmlu.jsonl'))\n",
    "\n",
    "train_df, eval_df = train_test_split(df, test_size=0.1, random_state=42, shuffle=True)"
   ]
  },
  {
   "cell_type": "code",
   "execution_count": 58,
   "metadata": {},
   "outputs": [],
   "source": [
    "train_df.to_json('mmlu_train.jsonl', orient='records', lines=True)\n",
    "eval_df.to_json('mmlu_eval.jsonl', orient='records', lines=True)"
   ]
  },
  {
   "cell_type": "markdown",
   "metadata": {},
   "source": [
    "## 3. ARC Challenge dataset"
   ]
  },
  {
   "cell_type": "markdown",
   "metadata": {},
   "source": [
    "### Loading data"
   ]
  },
  {
   "cell_type": "code",
   "execution_count": 3,
   "metadata": {},
   "outputs": [
    {
     "data": {
      "text/html": [
       "<div>\n",
       "<style scoped>\n",
       "    .dataframe tbody tr th:only-of-type {\n",
       "        vertical-align: middle;\n",
       "    }\n",
       "\n",
       "    .dataframe tbody tr th {\n",
       "        vertical-align: top;\n",
       "    }\n",
       "\n",
       "    .dataframe thead th {\n",
       "        text-align: right;\n",
       "    }\n",
       "</style>\n",
       "<table border=\"1\" class=\"dataframe\">\n",
       "  <thead>\n",
       "    <tr style=\"text-align: right;\">\n",
       "      <th></th>\n",
       "      <th>category</th>\n",
       "      <th>subject</th>\n",
       "      <th>question</th>\n",
       "      <th>AnswerKey</th>\n",
       "    </tr>\n",
       "  </thead>\n",
       "  <tbody>\n",
       "    <tr>\n",
       "      <th>0</th>\n",
       "      <td>Dev</td>\n",
       "      <td>NaN</td>\n",
       "      <td>Juan and LaKeisha roll a few objects down a ra...</td>\n",
       "      <td>D</td>\n",
       "    </tr>\n",
       "    <tr>\n",
       "      <th>1</th>\n",
       "      <td>Dev</td>\n",
       "      <td>NaN</td>\n",
       "      <td>High-pressure systems stop air from rising int...</td>\n",
       "      <td>C</td>\n",
       "    </tr>\n",
       "    <tr>\n",
       "      <th>2</th>\n",
       "      <td>Dev</td>\n",
       "      <td>NaN</td>\n",
       "      <td>Students visited the Morris W. Offit telescope...</td>\n",
       "      <td>D</td>\n",
       "    </tr>\n",
       "    <tr>\n",
       "      <th>3</th>\n",
       "      <td>Dev</td>\n",
       "      <td>NaN</td>\n",
       "      <td>Which topic area would be the best to research...</td>\n",
       "      <td>A</td>\n",
       "    </tr>\n",
       "    <tr>\n",
       "      <th>4</th>\n",
       "      <td>Dev</td>\n",
       "      <td>NaN</td>\n",
       "      <td>One year, the oak trees in a park began produc...</td>\n",
       "      <td>B</td>\n",
       "    </tr>\n",
       "  </tbody>\n",
       "</table>\n",
       "</div>"
      ],
      "text/plain": [
       "  category  subject                                           question  \\\n",
       "0      Dev      NaN  Juan and LaKeisha roll a few objects down a ra...   \n",
       "1      Dev      NaN  High-pressure systems stop air from rising int...   \n",
       "2      Dev      NaN  Students visited the Morris W. Offit telescope...   \n",
       "3      Dev      NaN  Which topic area would be the best to research...   \n",
       "4      Dev      NaN  One year, the oak trees in a park began produc...   \n",
       "\n",
       "  AnswerKey  \n",
       "0         D  \n",
       "1         C  \n",
       "2         D  \n",
       "3         A  \n",
       "4         B  "
      ]
     },
     "execution_count": 3,
     "metadata": {},
     "output_type": "execute_result"
    }
   ],
   "source": [
    "path_template = 'raw data/ARC-Challenge-{}.csv'\n",
    "categories = ['Dev', 'Train', 'Test']\n",
    "\n",
    "dataframes = [pd.read_csv(path_template.format(category)) for category in categories]\n",
    "\n",
    "df = pd.concat(dataframes, ignore_index=True)\n",
    "df = df[['category', 'subject', 'question', 'AnswerKey']]\n",
    "df.head()"
   ]
  },
  {
   "cell_type": "markdown",
   "metadata": {},
   "source": [
    "### Formatting questions\n",
    "Recap of desired format:\n",
    "\n",
    "`\"question\": \"Question: our_question \\n\\nOptions:\\nA. op_a\\nB. opt_B\\nC. opt_C\\nD. opt_D\\n\\nAnswer:\"`"
   ]
  },
  {
   "cell_type": "code",
   "execution_count": 4,
   "metadata": {},
   "outputs": [],
   "source": [
    "def format_question(row):\n",
    "    question = row['question']\n",
    "    question = 'Question: ' + question + '\\n\\nAnswer:'\n",
    "    question = question.replace('(A)', '\\n\\nOptions:\\nA.')\n",
    "    question = question.replace('(B)', '\\nB.')\n",
    "    question = question.replace('(C)', '\\nC.')\n",
    "    question = question.replace('(D)', '\\nD.')\n",
    "    return question\n",
    "\n",
    "df['question'] = df.apply(format_question, axis=1)\n",
    "df['subject'] = 'ARC'\n",
    "df.rename(columns={'AnswerKey': 'answer'}, inplace=True)"
   ]
  },
  {
   "cell_type": "code",
   "execution_count": 8,
   "metadata": {},
   "outputs": [
    {
     "data": {
      "text/plain": [
       "2590"
      ]
     },
     "execution_count": 8,
     "metadata": {},
     "output_type": "execute_result"
    }
   ],
   "source": [
    "len(df)"
   ]
  },
  {
   "cell_type": "markdown",
   "metadata": {},
   "source": [
    "### train/val split"
   ]
  },
  {
   "cell_type": "code",
   "execution_count": 10,
   "metadata": {},
   "outputs": [],
   "source": [
    "train_df, eval_df = train_test_split(df[['subject', 'question', 'answer']], test_size=0.1, random_state=42, shuffle=True)"
   ]
  },
  {
   "cell_type": "markdown",
   "metadata": {},
   "source": [
    "### Save as jsonl"
   ]
  },
  {
   "cell_type": "code",
   "execution_count": 48,
   "metadata": {},
   "outputs": [],
   "source": [
    "# df[df['category'] == 'Train'][['subject', 'question', 'answer']].to_json('arc_train.jsonl', orient='records', lines=True)\n",
    "# df[df['category'] != 'Train'][['subject', 'question', 'answer']].to_json('arc_eval.jsonl', orient='records', lines=True)"
   ]
  },
  {
   "cell_type": "code",
   "execution_count": 49,
   "metadata": {},
   "outputs": [],
   "source": [
    "train_df.to_json('arc_train.jsonl', orient='records', lines=True)\n",
    "eval_df.to_json('arc_eval.jsonl', orient='records', lines=True)"
   ]
  },
  {
   "cell_type": "markdown",
   "metadata": {},
   "source": [
    "## 4. Combine all MCQA datasets"
   ]
  },
  {
   "cell_type": "markdown",
   "metadata": {},
   "source": [
    "### All datasets"
   ]
  },
  {
   "cell_type": "code",
   "execution_count": 51,
   "metadata": {},
   "outputs": [],
   "source": [
    "mmlu = read_jsonl('MMLU clean/stem_mmlu.jsonl')\n",
    "provided = read_jsonl('desired format examples/mcqa_example.jsonl')\n",
    "arc_train = read_jsonl('ARC-C clean/arc_train.jsonl')\n",
    "arc_eval = read_jsonl('ARC-C clean/arc_eval.jsonl')\n",
    "\n",
    "write_jsonl(provided + mmlu + arc_train + arc_eval, 'MCQA_data.jsonl')"
   ]
  },
  {
   "cell_type": "markdown",
   "metadata": {},
   "source": [
    "### All train"
   ]
  },
  {
   "cell_type": "code",
   "execution_count": 3,
   "metadata": {},
   "outputs": [],
   "source": [
    "mmlu_train = read_jsonl('MMLU clean/mmlu_train.jsonl')\n",
    "provided_train = read_jsonl('desired format examples/mcqa_example_train.jsonl')\n",
    "arc_train = read_jsonl('ARC-C clean/arc_train.jsonl')\n",
    "\n",
    "write_jsonl(provided_train + mmlu_train + arc_train, 'MCQA_train.jsonl')"
   ]
  },
  {
   "cell_type": "markdown",
   "metadata": {},
   "source": [
    "### All val"
   ]
  },
  {
   "cell_type": "code",
   "execution_count": null,
   "metadata": {},
   "outputs": [],
   "source": [
    "mmlu_eval = read_jsonl('MMLU clean/mmlu_eval.jsonl')\n",
    "provided_eval = read_jsonl('desired format examples/mcqa_example_eval.jsonl')\n",
    "arc_eval = read_jsonl('ARC-C clean/arc_eval.jsonl')\n",
    "\n",
    "write_jsonl(provided_eval + mmlu_eval + arc_eval, 'MCQA_eval.jsonl')"
   ]
  }
 ],
 "metadata": {
  "kernelspec": {
   "display_name": "modern_nlp",
   "language": "python",
   "name": "python3"
  },
  "language_info": {
   "codemirror_mode": {
    "name": "ipython",
    "version": 3
   },
   "file_extension": ".py",
   "mimetype": "text/x-python",
   "name": "python",
   "nbconvert_exporter": "python",
   "pygments_lexer": "ipython3",
   "version": "undefined.undefined.undefined"
  }
 },
 "nbformat": 4,
 "nbformat_minor": 2
}
