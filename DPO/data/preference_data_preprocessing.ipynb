{
 "cells": [
  {
   "cell_type": "code",
   "execution_count": 3,
   "metadata": {},
   "outputs": [
    {
     "name": "stderr",
     "output_type": "stream",
     "text": [
      "Special tokens have been added in the vocabulary, make sure the associated word embeddings are fine-tuned or trained.\n"
     ]
    }
   ],
   "source": [
    "from preference_data_parser import parse_preference_data\n",
    "from transformers import AutoTokenizer\n",
    "from datasets import Dataset, DatasetDict\n",
    "from sklearn.model_selection import train_test_split\n",
    "from datasets import load_from_disk\n",
    "import numpy as np\n",
    "from utils import write_jsonl\n",
    "\n",
    "content = parse_preference_data()\n",
    "model_name='stabilityai/stablelm-zephyr-3b'\n",
    "tokenizer = AutoTokenizer.from_pretrained(model_name)"
   ]
  },
  {
   "cell_type": "code",
   "execution_count": 4,
   "metadata": {},
   "outputs": [
    {
     "data": {
      "text/plain": [
       "26738"
      ]
     },
     "execution_count": 4,
     "metadata": {},
     "output_type": "execute_result"
    }
   ],
   "source": [
    "#content is a list of dictionaries, each dictionary has the following keys:\n",
    "# 'preference' : The preference answer pairs for the question\n",
    "# 'question_complete' : The question text\n",
    "# 'question_id' : The question ID\n",
    "# 'course id' : The course ID\n",
    "#There are 1522 different questions (in the list) and  18 preference pair answers for each question (accessed by ['preference']). \n",
    "total_length = 0\n",
    "for key in content:\n",
    "    total_length += len(key['preference'])\n",
    "total_length"
   ]
  },
  {
   "cell_type": "code",
   "execution_count": 6,
   "metadata": {},
   "outputs": [
    {
     "data": {
      "text/plain": [
       "{'question_id': 0,\n",
       " 'question_complete': 'Question: Consider the following contains function defined on Iterable (in particular, it accepts both Vector and List).  def contains[A](l: Iterable[A], elem: A): Boolean =   val n = l.size   if n <= 5 then     for i <- l do       if i == elem then         return true     false   else     val (p0, p1) = parallel(       contains(l.take(n / 2), elem),       contains(l.drop(n / 2), elem)     )   p0 || p1 Let $n$$n$ be the size of l. Assume that drop and take run in $\\\\Theta(1)$ on Vector and $\\\\Theta(n)$ on List. What is the asymptotic depth of contains if it is called on a List?',\n",
       " 'course_id': 15000,\n",
       " 'preference': [{'A': 'The asymptotic depth of the contains function when called on a List is $\\\\log_2(n)$, where $n$ is the size of the List. This is because the function recursively splits the List in half each time it is called, leading to a binary tree structure with a depth of $\\\\log_2(n)$.',\n",
       "   'B': 'When `contains` is called on a List, the `drop` and `take` operations run in $\\\\Theta(n)$ time. \\n\\nIn the case where $n \\\\leq 5$, the loop runs in $\\\\Theta(n)$ time since it iterates over the elements of the list once.\\n\\nIn the case where $n > 5$, the list is split into two parts of roughly equal size, and the `contains` function is recursively called on each half. This splitting process continues until the size of the sublists becomes less than or equal to 5. \\n\\nThe depth of the recursion tree in this case can be analyzed as follows:\\n\\n- At the first level of recursion, the list is split into two parts.\\n- At the second level, each of these two parts is split into two parts, resulting in a total of 4 parts.\\n- This splitting continues until the size of each sublist is less than or equal to 5.\\n\\nTherefore, the number of recursive splits needed to reduce the list to sublists of size 5 or less is $\\\\log_2(n/5)$.\\n\\nHence, the asymptotic depth of the `contains` function when called on a List is $\\\\log_2(n/5)$, where $n$ is the size of the List.',\n",
       "   'overall': 'B',\n",
       "   'criteria': {'overall': 'B',\n",
       "    'correctness': 'B',\n",
       "    'relevance': 'B',\n",
       "    'clarity': 'AB',\n",
       "    'completeness': 'B',\n",
       "    'other': {'conciseness': 'A', 'engagement': 'B'}}},\n",
       "  {'A': 'The asymptotic depth of the contains function when called on a List is O(log n), where n is the size of the list. This is because the function recursively splits the list into halves and searches for the element in each half, effectively reducing the search space by half in each recursive call. Since each split operation takes O(n) time on a List, the depth of the recursion tree will be logarithmic in the size of the list.',\n",
       "   'B': \"To determine the asymptotic depth of the `contains` function when called on a List, let's analyze the recursive structure and depth of the function.\\n\\nGiven that `drop` and `take` run in $\\\\Theta(n)$ on a List, the `contains` function splits the List in half at each recursive step, leading to a binary tree structure.\\n\\nAt each depth of the recursive tree, the size of the List is halved. Therefore, the depth of the recursive tree is $\\\\log_2(n)$, where $n$ is the size of the List.\\n\\nSince the function performs a parallel recursive call at each level of the tree, the asymptotic depth of the `contains` function when called on a List is $\\\\Theta(\\\\log(n))$.\\n\\nTherefore, the asymptotic depth of the `contains` function when called on a List is logarithmic, specifically $\\\\Theta(\\\\log(n))$.\",\n",
       "   'overall': 'B',\n",
       "   'criteria': {'overall': 'B',\n",
       "    'correctness': 'AB',\n",
       "    'relevance': 'AB',\n",
       "    'clarity': 'B',\n",
       "    'completeness': 'B',\n",
       "    'other': {'conciseness': 'A', 'engagement': 'AB'}}},\n",
       "  {'A': 'The asymptotic depth of the `contains` function when called on a List is logarithmic, specifically $O(\\\\log n)$.\\n\\nExplanation:\\n- The `contains` function recursively divides the list into two halves until the size of the list is less than or equal to 5. This is done by `contains(l.take(n/2), elem)` and `contains(l.drop(n/2), elem)`.\\n- Since `drop` and `take` operations on a List run in $\\\\Theta(n)$, each recursive call will have a cost of $\\\\Theta(n)$.\\n- The depth of the recursion tree is the number of times the list can be divided by 2 until it reaches a size less than or equal to 5. This is $\\\\log n$.\\n- Thus, the asymptotic depth of the `contains` function when called on a List is $O(\\\\log n)$.',\n",
       "   'B': \"To determine the asymptotic depth of the `contains` function when called on a List, let's analyze the recursive structure of the function.\\n\\n1. When the `contains` function is called on a List:\\n   - The list is split into two parts: `l.take(n/2)` and `l.drop(n/2)`.\\n   - The function is recursively called on these two halves.\\n\\n2. The depth of the recursion is determined by how many times the list can be divided in half before reaching a base case. In this case, the base case is when the size of the list is less than or equal to 5.\\n\\n3. In each recursive call:\\n   - The size of the list is halved.\\n   - The `take` and `drop` operations run in $\\\\Theta(n)$ time for Lists.\\n\\n4. Therefore, at each level of recursion, the size of the list decreases by a factor of 2, but the operations on Lists take linear time.\\n\\n5. The depth of the recursion can be calculated by repeatedly dividing the original list size by 2 until it reaches a size less than or equal to 5.\\n\\n6. Since each division takes linear time due to the operations on Lists, the total depth of the recursion is logarithmic in the size of the input List.\\n\\nTherefore, the asymptotic depth of the `contains` function when called on a List is $\\\\mathcal{O}(\\\\log n)$, where $n$ is the size of the List.\",\n",
       "   'overall': 'B',\n",
       "   'criteria': {'overall': 'B',\n",
       "    'correctness': 'AB',\n",
       "    'relevance': 'AB',\n",
       "    'clarity': 'B',\n",
       "    'completeness': 'AB',\n",
       "    'other': {'conciseness': 'None', 'engagement': 'None'}}},\n",
       "  {'A': \"To determine the asymptotic depth of the `contains` function when called on a List, we need to analyze the recursive structure of the function and how it behaves when dealing with Lists.\\n\\nThe `contains` function splits the Iterable `l` into two halves using `take` and `drop`. Since `take` and `drop` run in $\\\\Theta(n)$ on List, each recursive call on the List will take linear time to split the List into two halves.\\n\\nLet's break down the recursion and determine the depth of recursion for the `contains` function when called on a List:\\n\\n1. The initial call to `contains` is made on the entire List of size `n`.\\n2. The List is split into two halves with `take` and `drop`, each of size `n/2`.\\n3. Two recursive calls are made on the two halves of the List, each of size `n/2`.\\n4. Each recursive call will split its List into two halves of size `n/4`.\\n5. This process continues until the base case is reached, where the List size is less than or equal to 5.\\n\\nThe depth of recursion can be calculated by counting how many times the List can be divided by 2 until it reaches a size of 5 or less. This corresponds to the depth of the recursive tree.\\n\\nSince each recursive call divides the List into halves of size `n/2`, the depth of recursion can be calculated as follows:\\n\\n$n, n/2, n/4, n/8, ..., 5$\\n\\nThe number of divisions needed to reach a List size of 5 or less can be calculated by solving the equation:\\n\\n$n / 2^k = 5$\\n\\nwhere `k` is the number of divisions. Solving for `k`:\\n\\n$n / 2^k = 5$\\n\\n$n = 5 * 2^k$\\n\\n$2^k = n / 5$\\n\\n$k = log_2(n / 5)$\\n\\nTherefore, the asymptotic depth of the `contains` function when called on a List is $\\\\Theta(log(n))$.\",\n",
       "   'B': 'The contains function is a recursive function that checks if a given element is present in an Iterable (either a Vector or a List). The function first determines the size of the Iterable (n). If the size is less than or equal to 5, it iterates through the elements of the Iterable to check if the element matches the one being searched for. If a match is found, it returns true; otherwise, it returns false.\\n\\nIf the size of the Iterable is greater than 5, the function splits the Iterable into two halves and recursively calls contains on each half in parallel. The results of the recursive calls are combined using the logical OR operation, and the final result is returned.\\n\\nIn the case of calling contains on a List, where both drop and take operations run in Θ(n) time complexity, the asymptotic depth of the contains function would be log(n), where n is the size of the List. This is because the function recursively splits the List into halves until the base case (size <= 5) is reached, effectively reducing the problem size by half at each recursive step.',\n",
       "   'overall': 'A',\n",
       "   'criteria': {'overall': 'A',\n",
       "    'correctness': 'A',\n",
       "    'relevance': 'AB',\n",
       "    'clarity': 'AB',\n",
       "    'completeness': 'A',\n",
       "    'other': {'conciseness': 'None', 'engagement': 'None'}}},\n",
       "  {'A': 'The asymptotic depth of the contains function when called on a List is O(log n). This is because the function recursively splits the List into two halves at each level of the recursion until the size of the List is less than or equal to 5. Since drop and take operations run in Θ(n) on a List, the depth of the recursion tree will be logarithmic in the size of the List.',\n",
       "   'B': 'When the contains function is called on a List, the asymptotic depth of the function is O(log n). This is because the function recursively divides the List into two halves until the size of the List is less than or equal to 5. Since drop and take operations run in Θ(n) on a List, the depth of the recursion tree will be logarithmic in the size of the List. This logarithmic depth ensures efficient searching for the element in the List.',\n",
       "   'overall': 'A',\n",
       "   'criteria': {'overall': 'A',\n",
       "    'correctness': 'A',\n",
       "    'relevance': 'AB',\n",
       "    'clarity': 'AB',\n",
       "    'completeness': 'None',\n",
       "    'other': {'conciseness': 'None', 'engagement': 'None'}}},\n",
       "  {'A': '##Answer:\\nThe asymptotic depth of the `contains` function when called on a List is $O(\\\\log n)$.\\n\\n##Reasons:\\n1. **Initial Comparison:** The function first calculates the size of the Iterable. If the size is less than or equal to 5, it performs a linear search to check if the element exists in the Iterable.\\n2. **Recursive Parallel Split:** If the size of the Iterable is greater than 5, the function splits the List into two halves (using `take` and `drop`) and recursively calls `contains` on each half in parallel.\\n3. **Depth Analysis:** The recursive splitting of the List into halves reduces the size of the Iterable by half at each recursive step. This is similar to a binary search tree where the height of the tree decreases by half at each level.\\n4. **Asymptotic Depth:** Since the function splits the List into halves at each recursive step, the depth of the recursive calls is logarithmic with respect to the size of the List. Each recursive call reduces the problem size by half, leading to a logarithmic number of recursive levels.\\n5. **Efficiency:** By leveraging the parallel split and recursive nature of the function, the asymptotic depth of $O(\\\\log n)$ ensures efficient searching for the element within the List, especially for large input sizes.\\n6. **Drop and Take Complexity:** The fact that `drop` and `take` operations run in $\\\\Theta(n)$ on a List contributes to the logarithmic depth, as each split operation incurs a linear cost proportional to the size of the List.\\n\\nIn conclusion, the `contains` function when called on a List has an asymptotic depth of $O(\\\\log n)$ due to its recursive splitting strategy that reduces the problem size by half at each step, making it an efficient search algorithm for List data structures.',\n",
       "   'B': '##Answer:\\nThe asymptotic depth of the `contains` function when called on a List is $O(\\\\log n)$.\\n\\n##Reasons:\\n1. When the `contains` function is called on a List, the `take` and `drop` operations on a List have a time complexity of $\\\\Theta(n)$, as mentioned in the question.\\n2. The function recursively splits the List into two halves at each step, and since the `take` and `drop` operations run in $\\\\Theta(n)$, the splitting operation is a linear time operation.\\n3. As the List is split into halves at each recursive call, the depth of the recursion tree formed by the function is logarithmic.\\n4. The logarithmic depth is a result of the halving of the input size at each step of the recursion, indicating that the asymptotic depth of the `contains` function when called on a List is $O(\\\\log n)$.\\n5. The parallel nature of the function, in this case, does not reduce the depth of recursion but can improve efficiency by allowing for concurrent processing of the two halves of the List.',\n",
       "   'overall': 'B',\n",
       "   'criteria': {'overall': 'B',\n",
       "    'correctness': 'B',\n",
       "    'relevance': 'A',\n",
       "    'clarity': 'AB',\n",
       "    'completeness': 'B',\n",
       "    'other': {'conciseness': 'None', 'engagement': 'None'}}},\n",
       "  {'A': \"To find the asymptotic depth of the contains function when called on a List, we need to analyze the recursive calls made by the function and evaluate the time complexity of these calls.\\n\\nGiven:\\n- drop and take run in Θ(1) on Vector\\n- drop and take run in Θ(n) on List\\n\\nLet's analyze the contains function when called on a List:\\n\\n1. The function calculates the size of the list: n = l.size.\\n2. If n is less than or equal to 5, the function iterates through the list to find the element. This is done in O(n) time.\\n3. If n is greater than 5, the function splits the list into two halves using take(n/2) and drop(n/2).\\n4. It then recursively calls contains on each half of the list: contains(l.take(n / 2), elem) and contains(l.drop(n / 2), elem).\\n\\nNow, let's analyze the time complexity of these recursive calls:\\n- The first recursive call contains(l.take(n / 2), elem) operates on a list of size n/2. The take operation takes Θ(n) time, and therefore, this recursive call also takes Θ(n) time.\\n- The second recursive call contains(l.drop(n / 2), elem) operates on a list of size n/2. The drop operation takes Θ(n) time, and therefore, this recursive call also takes Θ(n) time.\\n\\nSince both recursive calls have a time complexity of Θ(n), the total time complexity for each recursive level is Θ(n).\\n\\nThe depth of recursion is determined by how many times the list can be divided in half before reaching a base case (n <= 5).\\n\\nLet's denote the initial size of the list as N. At each recursive level, the size of the list is halved (N/2, N/4, N/8, ...). The number of recursive levels needed to reduce the size to 5 or less can be calculated as log₂(N/5).\\n\\nTherefore, the asymptotic depth of the contains function when called on a List is O(log(N/5)) or simply O(log(N)).\\n\\nThis analysis shows that the depth of recursion in the contains function when called on a List is logarithmic in the size of the input list.\",\n",
       "   'B': \"To determine the asymptotic depth of the contains function when called on a List, we need to consider the operations performed within the function and how they affect the overall complexity.\\n\\nLet $n$ be the size of the List. The contains function splits the List into two halves recursively until the size of the List is less than or equal to 5, at which point it performs a linear search to check if the element is present in the List.\\n\\nWhen the List is split into two halves, the size of each sub-List is reduced by half. Therefore, the depth of the recursive calls can be represented by the following recurrence relation:\\n\\n$T(n) = T(n/2) + O(1)$\\n\\nThis is a typical divide-and-conquer recurrence relation. By solving it, we can determine the asymptotic depth of the contains function when called on a List.\\n\\nLet's expand the recursion:\\n\\n$T(n) = T(n/2) + O(1)$\\n\\n$= T(n/4) + O(1) + O(1)$\\n\\n$= T(n/8) + O(1) + O(1) + O(1)$\\n\\n$= ...$\\n\\n$= T(1) + O(log n)$\\n\\nTherefore, the asymptotic depth of the contains function when called on a List is $O(log n)$, where $n$ is the size of the List. This means that the depth of the recursion grows logarithmically with the size of the List.\",\n",
       "   'overall': 'A',\n",
       "   'criteria': {'overall': 'A',\n",
       "    'correctness': 'A',\n",
       "    'relevance': 'AB',\n",
       "    'clarity': 'A',\n",
       "    'completeness': 'A',\n",
       "    'other': {'conciseness': 'B', 'engagement': 'AB'}}},\n",
       "  {'A': \"When `contains` is called on a List, the `drop` and `take` operations run in $\\\\Theta(n)$ time complexity. \\n\\nLet's analyze the depth of the recursive calls in the `contains` function when it is called on a List:\\n\\n1. The initial call to `contains` is made on the entire List of size $n$.\\n2. In each recursive step, the List is split into two parts using `take` and `drop`, each part having approximately size $n/2$.\\n3. The depth of the recursion tree can be calculated by repeatedly halving the List size until the base case is reached, i.e., when the size of the List is less than or equal to 5.\\n\\nSince each recursive step involves splitting the List in half, the depth of the recursion tree in this case can be expressed as $\\\\log n$, where the base of the logarithm depends on the size of the List when the base case is reached.\\n\\nTherefore, the asymptotic depth of the `contains` function when called on a List is $\\\\log n$.\",\n",
       "   'B': \"To determine the asymptotic depth of the `contains` function when called on a List, we can analyze the recursion depth in terms of the size of the List.\\n\\nLet's denote the size of the List as $n$. In the worst-case scenario, the List is recursively split into two halves until reaching a size of 1.\\n\\nAt each level of recursion, the List is divided into two halves, and each half is processed independently in parallel. This splitting continues until the base case is reached (where the size of the List is less than or equal to 5).\\n\\nThe depth of recursion can be calculated by considering how many times the List can be divided by 2 until reaching a size of 1. Since the drop and take operations run in $\\\\Theta(n)$ on a List, the size of the List is reduced by half at each recursive step.\\n\\nTherefore, the depth of recursion in terms of the size of the List $n$ can be calculated as follows:\\n\\n$n, \\\\frac{n}{2}, \\\\frac{n}{4}, \\\\frac{n}{8}, ..., 1$\\n\\nThe number of times we can divide $n$ by 2 until reaching 1 is $\\\\log_2{n}$. Hence, the asymptotic depth of the `contains` function when called on a List is $\\\\Theta(\\\\log{n})$.\",\n",
       "   'overall': 'B',\n",
       "   'criteria': {'overall': 'B',\n",
       "    'correctness': 'AB',\n",
       "    'relevance': 'AB',\n",
       "    'clarity': 'B',\n",
       "    'completeness': 'B',\n",
       "    'other': {'conciseness': 'None', 'engagement': 'None'}}},\n",
       "  {'A': 'The asymptotic depth of the contains function when called on a List can be calculated by considering the recursive calls made in the function. \\n\\nWhen the function is called on a List, the drop and take operations run in Θ(n) time. This means that each recursive call to contains will have a depth of 1, as the list is split into two halves each time.\\n\\nSince the function splits the list in half at each recursive call, the depth of the recursion tree will be log(n), where n is the size of the list. Therefore, the asymptotic depth of contains when called on a List is log(n).',\n",
       "   'B': 'The asymptotic depth of the contains function when called on a List would be O(log n). \\n\\nThis is because the function splits the List in half recursively until the size of the List becomes less than or equal to 5. Each split takes O(n) time, so the depth of the recursive calls will be O(log n) as the List is halved each time. \\n\\nTherefore, the overall asymptotic depth of the contains function when called on a List is O(log n).',\n",
       "   'overall': 'A',\n",
       "   'criteria': {'overall': 'A',\n",
       "    'correctness': 'AB',\n",
       "    'relevance': 'AB',\n",
       "    'clarity': 'A',\n",
       "    'completeness': 'A',\n",
       "    'other': {'conciseness': 'A', 'engagement': 'AB'}}},\n",
       "  {'A': \"To analyze the asymptotic depth of the `contains` function when it is called on a List, we need to consider the recursive calls made when splitting the List into halves. Here's the step-by-step breakdown:\\n\\n1. The function `contains` is called on a List with size $n$.\\n2. The function checks if $n \\\\leq 5$. If this condition is met, it iterates over the elements of the List to find the target element `elem`. This part has a constant time complexity because it iterates over at most 5 elements.\\n3. If $n > 5$, the function splits the List into two halves using `take` and `drop`. Since `take` and `drop` run in $\\\\Theta(n)$ on a List, this step takes $\\\\Theta(n)$ time.\\n4. The function then makes two recursive calls on each half of the List. The depth of the recursion tree depends on how many times the List can be halved before reaching a base case where $n \\\\leq 5$.\\n5. At each level of recursion, the List is halved, and each half is processed independently. This splitting continues until the base case is reached.\\n6. Since the List is halved at each recursive step, the depth of recursion can be calculated as $\\\\log_2(n)$.\\n7. However, because the `take` and `drop` operations take $\\\\Theta(n)$ time, the actual time complexity of the function is not simply $\\\\log_2(n)$.\\n8. The total time complexity of the function is the product of the depth of recursion and the time complexity of each level, which gives us $\\\\Theta(n \\\\log_2(n))$ for a List.\\n\\nIn conclusion, the asymptotic depth of the `contains` function when called on a List is $\\\\Theta(n \\\\log_2(n))$.\",\n",
       "   'B': 'The given `contains` function uses a divide-and-conquer approach to check if an element is present in the Iterable `l`. When `n <= 5`, it performs a linear search through the elements of `l`. Otherwise, it recursively splits the Iterable into two halves and checks for the element in each half in parallel.\\n\\nIn the case of a List, where `drop` and `take` operations run in $\\\\Theta(n)$, the asymptotic depth of the function `contains` can be analyzed as follows:\\n\\n1. In the recursive case, the Iterable is split into two halves: `l.take(n / 2)` and `l.drop(n / 2)`. Both of these operations have a time complexity of $\\\\Theta(n)$ on a List.\\n\\n2. Therefore, at each recursive step, the size of the Iterable is halved, but the cost of splitting it into two halves is $\\\\Theta(n)$. This means that at each level of recursion, the cost is proportional to the size of the List.\\n\\n3. The depth of the recursion tree corresponds to the number of times the List can be halved until it reaches a base case (when `n <= 5`). Since each split operation takes $\\\\Theta(n)$ time, the total depth of the recursion tree is $\\\\log_2{n}$.\\n\\n4. At each level of the recursion, two recursive calls are made in parallel. Therefore, the total number of recursive calls at depth $d$ is $2^d$.\\n\\n5. As a result, the total number of operations (recursive calls) in the worst-case scenario for a List of size $n$ is $2^{\\\\log_2{n}} = n$. This happens because each level of the recursion corresponds to a linear scan of the List.\\n\\n6. Therefore, the asymptotic depth of the `contains` function when called on a List is $\\\\log_2{n}$, where $n$ is the size of the List.\\n\\nIn conclusion, the `contains` function has an asymptotic depth of $\\\\log_2{n}$ when called on a List, where $n$ is the size of the List.',\n",
       "   'overall': 'B',\n",
       "   'criteria': {'overall': 'B',\n",
       "    'correctness': 'B',\n",
       "    'relevance': 'AB',\n",
       "    'clarity': 'B',\n",
       "    'completeness': 'AB',\n",
       "    'other': {'conciseness': 'None', 'engagement': 'None'}}},\n",
       "  {'A': 'A better alternative for the merging directive would be to have a mandatory code review by at least one colleague before merging to the main branch. This ensures that code quality is maintained and potential issues are caught early, leading to a more stable main branch.',\n",
       "   'B': 'A better alternative for the flawed merging directive would be to implement an automated continuous integration and continuous deployment (CI/CD) pipeline. This would ensure that code is automatically tested, built, and deployed to the main branch once all tests pass, reducing the need for manual merging and potential delays in deployment.',\n",
       "   'overall': 'B',\n",
       "   'criteria': {'overall': 'B',\n",
       "    'correctness': 'B',\n",
       "    'relevance': 'B',\n",
       "    'clarity': 'B',\n",
       "    'completeness': 'B',\n",
       "    'other': {'conciseness': 'None', 'engagement': 'None'}}},\n",
       "  {'A': 'The asymptotic depth of the contains function when called on a List would be logarithmic, specifically $\\\\Theta(\\\\log n)$.\\n\\nWhen contains is called on a List, the drop and take operations have a time complexity of $\\\\Theta(n)$ due to the nature of Lists. This means that the recursive calls to contains within the else block will incur a total time complexity of $\\\\Theta(n)$. Since the input size is halved with each recursive call, the depth of the recursion tree would be logarithmic, resulting in an overall asymptotic depth of $\\\\Theta(\\\\log n)$ for the contains function when called on a List.\\n\\nIn summary, the contains function when called on a List has an asymptotic depth of $\\\\Theta(\\\\log n)$.',\n",
       "   'B': 'The asymptotic depth of the `contains` function when called on a List would be $\\\\Theta(\\\\log n)$.\\n\\nIn the case of a List, the `contains` function uses the `take` and `drop` operations which run in $\\\\Theta(n)$ time complexity. When the function is recursively called on smaller sublists, the size of the list being operated on is halved at each recursive step. This halving of the list size leads to a depth of $\\\\Theta(\\\\log n)$ in the recursive tree formed by the function calls.\\n\\nTherefore, the asymptotic depth of the `contains` function when called on a List is $\\\\Theta(\\\\log n)$.',\n",
       "   'overall': 'A',\n",
       "   'criteria': {'overall': 'A',\n",
       "    'correctness': 'A',\n",
       "    'relevance': 'AB',\n",
       "    'clarity': 'A',\n",
       "    'completeness': 'A',\n",
       "    'other': {'conciseness': 'A', 'engagement': 'AB'}}},\n",
       "  {'A': 'The contains function recursively splits the List into two halves until the size of the List is less than or equal to 5. Then, it performs a linear search on the remaining List.\\n\\nThe base case for the recursion is when the size of the List is less than or equal to 5, where a linear search is performed.\\n\\nFor List, the take and drop operations run in Θ(n) time complexity.\\n\\nTherefore, each recursive step in the contains function for a List involves splitting the List into two halves, which takes Θ(n) time.\\n\\nSince the List is halved in each recursive step, the depth of the recursive calls will be log₂(n), where n is the size of the original List.\\n\\nThus, the asymptotic depth of the contains function when called on a List is log₂(n).',\n",
       "   'B': \"When the `contains` function is called on a List, the `drop` and `take` operations run in $\\\\Theta(n)$ time complexity. \\n\\nLet's analyze the depth of the recursive calls in this scenario:\\n\\n1. The initial call to `contains` is made on the original List of size $n$.\\n2. The List is split into two halves using `take` and `drop`, each of size $n/2$.\\n3. Two recursive calls are made on each of the halves, resulting in a depth of 1.\\n4. Each subsequent level of recursion will have the size of the List reduced by half until it reaches a base case where the size is less than or equal to 5.\\n\\nTherefore, the depth of the recursion in this scenario is $\\\\log_2(n)$, as the List is divided in half at each level until it reaches a base case.\",\n",
       "   'overall': 'A',\n",
       "   'criteria': {'overall': 'A',\n",
       "    'correctness': 'A',\n",
       "    'relevance': 'AB',\n",
       "    'clarity': 'A',\n",
       "    'completeness': 'AB',\n",
       "    'other': {'conciseness': 'None', 'engagement': 'None'}}},\n",
       "  {'A': '{\\n\\xa0 \"explaination\": \"The asymptotic depth of the contains function when called on a List is O(log n).\",\\n\\xa0 \"answer\": \"O(log n)\"\\n}',\n",
       "   'B': '{\\n\\xa0 \\xa0 \"explaination\": \"The asymptotic depth of the contains function when called on a List will be O(log n). This is because the function recursively divides the List into two halves at each step, which results in a binary tree structure. The depth of a binary tree is logarithmic with respect to the number of nodes, which in this case is the size of the List n.\",\\n\\xa0 \\xa0 \"answer\": \"O(log n)\"\\n}',\n",
       "   'overall': 'B',\n",
       "   'criteria': {'overall': 'B',\n",
       "    'correctness': 'AB',\n",
       "    'relevance': 'AB',\n",
       "    'clarity': 'B',\n",
       "    'completeness': 'B',\n",
       "    'other': {'conciseness': 'A', 'engagement': 'B'}}},\n",
       "  {'A': 'To determine the asymptotic depth of the `contains` function when called on a List, we need to analyze the recursive structure of the function.\\n\\n1. When `n <= 5`:\\n   - In this case, the function iterates through each element of the list sequentially to check if the element is present. This operation has a time complexity of $\\\\Theta(n)$ on a List.\\n   - Since there is only one loop in this case, the depth is 1.\\n\\n2. When `n > 5`:\\n   - The function splits the list into two halves and recursively calls `contains` on each half.\\n   - The depth of the recursion tree in this case depends on the depth of the recursive calls.\\n   - Since the `drop` and `take` operations run in $\\\\Theta(n)$ on a List, each recursive call will have a depth of 1 in terms of the split operation.\\n   - The depth of the recursion tree in this case can be calculated using the formula: $O(\\\\log n)$.\\n\\nTherefore, the overall asymptotic depth of the `contains` function when called on a List is $O(\\\\log n)$, where $n$ is the size of the List.',\n",
       "   'B': \"To find the asymptotic depth of the `contains` function when it is called on a List, we need to analyze the recursive calls and their depth.\\n\\nThe `contains` function divides the list `l` in half recursively until the base case is reached. When the size of the list becomes less than or equal to 5, it performs a linear search through the elements of the list.\\n\\nLet's break down the depth calculation for a List:\\n\\n1. Initially, the function is called on the full list of size `n`.\\n2. In each recursive step, the list is divided into two halves using `take` and `drop`.\\n3. The depth of each recursive call is incremented by 1.\\n\\nSince `take` and `drop` run in $\\\\Theta(n)$ on a List, each recursive call will have a depth of $\\\\Theta(\\\\log n)$.\\n\\nTherefore, the asymptotic depth of the `contains` function when called on a List is $\\\\Theta(\\\\log n)$.\",\n",
       "   'overall': 'A',\n",
       "   'criteria': {'overall': 'A',\n",
       "    'correctness': 'A',\n",
       "    'relevance': 'AB',\n",
       "    'clarity': 'A',\n",
       "    'completeness': 'A',\n",
       "    'other': {'conciseness': 'None', 'engagement': 'None'}}},\n",
       "  {'A': 'The asymptotic depth of the contains function when called on a List would be O(log n), where n is the size of the List.\\n\\nThis is because the contains function recursively calls itself on two sublists of size n/2 each in parallel. Each recursive call reduces the size of the list to be searched in half, leading to a binary tree structure of recursive calls. The depth of this binary tree is O(log n), as it takes log n recursive calls to reach a sublist of size 1.',\n",
       "   'B': '1. When contains is called on a List, the size of the list is $n$.\\n2. In the else branch of the function, the list is split into two parts using take and drop, which both run in $\\\\Theta(n)$ on a List.\\n3. This splitting step creates two subproblems of size $n/2$ each.\\n4. The function contains is then recursively called on each of these subproblems.\\n5. This process continues until the size of the list is less than or equal to 5, at which point a linear search is performed.\\n6. The splitting and recursive calls create a binary tree structure, where each level of the tree represents a split of the list into two subproblems of half the size.\\n7. The depth of this binary tree is $\\\\log_2(n)$, as each level corresponds to halving the size of the problem.\\n8. Therefore, the asymptotic depth of contains when called on a List is $\\\\log_2(n)$.',\n",
       "   'overall': 'B',\n",
       "   'criteria': {'overall': 'B',\n",
       "    'correctness': 'AB',\n",
       "    'relevance': 'AB',\n",
       "    'clarity': 'B',\n",
       "    'completeness': 'AB',\n",
       "    'other': {'conciseness': 'AB', 'engagement': 'AB'}}},\n",
       "  {'A': \"Answer:\\nThe asymptotic depth of the contains function when called on a List is O(log n), where n is the size of the List.\\n\\nExplanation:\\nTo determine the asymptotic depth of the contains function when called on a List, we need to analyze the recursive calls made within the function. The function recursively splits the List into two halves and makes two recursive calls on each half until the size of the List becomes less than or equal to 5.\\n\\nGiven that the drop and take operations on a List have a complexity of Θ(n), the splitting of the List into two halves in each recursive call contributes to the overall time complexity. Since the List is divided into halves at each recursive call, the depth of recursion can be represented by a binary tree where each level represents a division of the List into halves.\\n\\nThe number of levels in the binary tree formed by the recursive calls is equivalent to the number of times the List can be divided by 2 until it reaches a size less than or equal to 5. This corresponds to a logarithmic relationship between the size of the List and the depth of recursion.\\n\\nTherefore, the asymptotic depth of the contains function when called on a List is O(log n), where n is the size of the List. By understanding the recursive nature of the function and considering the complexity of operations on List data structures, we can determine the logarithmic depth of the function's execution on Lists.\",\n",
       "   'B': 'To approach and solve this question, we need to analyze the provided `contains` function and understand how it works with different data structures, specifically Vector and List.\\n\\n1. Understanding the `contains` Function:\\n- The `contains` function takes an Iterable `l` and an element `elem` as input and returns a Boolean value indicating whether `elem` is present in `l`.\\n- If the size of `l` is less than or equal to 5, it iterates through the elements of `l` and checks if `elem` is equal to any element. If found, it returns `true`; otherwise, it returns `false`.\\n- If the size of `l` is greater than 5, it recursively splits `l` into two halves, calls `contains` on each half in parallel, and returns the logical OR of the results.\\n\\n2. Asymptotic Depth Analysis for List:\\n- In the provided `contains` function, the depth of recursion is determined by the size of the input list `l`.\\n- When `contains` is called on a List, the `drop` and `take` operations have time complexities of $\\\\Theta(n)$, where $n$ is the size of the List.\\n- Since the list is divided into two halves recursively, the depth of recursion will be logarithmic in terms of the size of the List.\\n\\n3. Asymptotic Depth Calculation:\\n- Let $T(n)$ be the depth of recursion for a List of size $n$.\\n- When $n \\\\leq 5$, the depth is constant (base case).\\n- For $n > 5$, the list is split into two halves, and `contains` is called recursively on each half.\\n- The depth of recursion can be expressed as:\\n  $T(n) = 1 + \\\\max(T(n/2), T(n/2))$\\n- The maximum depth occurs when each recursive call processes a smaller List, leading to a balanced binary tree structure.\\n- Therefore, the asymptotic depth of the `contains` function when called on a List is $O(\\\\log n)$.\\n\\nIn conclusion, when `contains` is called on a List, the asymptotic depth of recursion is logarithmic in terms of the size of the List. This analysis helps in understanding the efficiency and performance of the `contains` function when working with different Iterable implementations.',\n",
       "   'overall': 'A',\n",
       "   'criteria': {'overall': 'A',\n",
       "    'correctness': 'B',\n",
       "    'relevance': 'AB',\n",
       "    'clarity': 'A',\n",
       "    'completeness': 'A',\n",
       "    'other': {'conciseness': 'None', 'engagement': 'None'}}},\n",
       "  {'A': 'The function `contains` recursively divides the input list into two halves until the size of the list is less than or equal to 5, and then performs a linear search within each small portion. \\n\\nSince `drop` and `take` run in Θ(n) on a List, the depth of the recursion tree will be proportional to the number of times the list can be divided in half before reaching a size of 5 or less. \\n\\nWhen the List is divided in half each time, the size of the list decreases by half at each level. The depth of recursion can be calculated using the formula:\\n\\nn = initial size of the list\\nn / 2^d = 5, where d is the depth\\n\\nSolving for d:\\nn / 2^d = 5\\n2^d = n / 5\\nd = log₂(n / 5)\\n\\nTherefore, the asymptotic depth of the `contains` function when called on a List will be Θ(log(n)).',\n",
       "   'B': 'The asymptotic depth of the function `contains` when called on a List can be found by considering the recursion depth created by the splitting of the list into two parts at each recursive call.\\n\\nIn the worst-case scenario, the list is divided into two parts at each recursive call until the size of the list becomes less than or equal to 5. For a list of size $n$, the number of divisions needed to reduce it to size 5 or less is $\\\\log_{2}(n)$.\\n\\nSince `drop` and `take` run in $\\\\Theta(n)$ on a List, each recursive call will take $\\\\Theta(n)$ time.\\n\\nTherefore, the asymptotic depth of the `contains` function when called on a List is $\\\\log_{2}(n)$.',\n",
       "   'overall': 'A',\n",
       "   'criteria': {'overall': 'A',\n",
       "    'correctness': 'AB',\n",
       "    'relevance': 'AB',\n",
       "    'clarity': 'A',\n",
       "    'completeness': 'A',\n",
       "    'other': {'conciseness': 'A', 'engagement': 'AB'}}}]}"
      ]
     },
     "execution_count": 6,
     "metadata": {},
     "output_type": "execute_result"
    }
   ],
   "source": [
    "content[0]"
   ]
  },
  {
   "cell_type": "code",
   "execution_count": 5,
   "metadata": {},
   "outputs": [
    {
     "data": {
      "text/plain": [
       "'B'"
      ]
     },
     "execution_count": 5,
     "metadata": {},
     "output_type": "execute_result"
    }
   ],
   "source": [
    "content[0]['preference'][0]['overall']"
   ]
  },
  {
   "cell_type": "code",
   "execution_count": 9,
   "metadata": {},
   "outputs": [],
   "source": [
    "def convert_to_triplets(content, tokenizer):\n",
    "    triplets = []\n",
    "\n",
    "    #Add assistant message.\n",
    "    for item in content:\n",
    "        question = item['question_complete']\n",
    "        for pref in item['preference']:\n",
    "            chosen = pref['B'] if pref['overall'] == 'B' else pref['A']\n",
    "            rejected = pref['A'] if pref['overall'] == 'B' else pref['B']\n",
    "            prompt_messages = [{\"role\": \"user\", \"content\": question}]\n",
    "            chosen_messages = [{\"role\": \"assistant\", \"content\": chosen}]\n",
    "            rejected_messages = [{\"role\": \"assistant\", \"content\": rejected}]\n",
    "            \n",
    "            triplet = {\n",
    "                \"prompt\": tokenizer.apply_chat_template(prompt_messages, tokenize=False)[:-2],#+\"<|assistant|>\",\n",
    "                \"chosen\": tokenizer.apply_chat_template(chosen_messages, tokenize=False)[:-2],#[14:][:-2],\n",
    "                \"rejected\": tokenizer.apply_chat_template(rejected_messages, tokenize=False)[:-2]#[14:][:-2]\n",
    "            }\n",
    "            triplets.append(triplet)\n",
    "    \n",
    "    return triplets\n",
    "\n",
    "# Convert the data\n",
    "converted_data = convert_to_triplets(content, tokenizer)\n",
    "\n",
    "# Split the data into train (80%), temp (20%)\n",
    "train_data, temp_data = train_test_split(converted_data, test_size=0.2, random_state=42)\n",
    "\n",
    "# Split the temp data into eval (50% of temp) and test (50% of temp)\n",
    "eval_data, test_data = train_test_split(temp_data, test_size=0.5, random_state=42)\n",
    "\n",
    "# Convert to Hugging Face Dataset format\n",
    "train_dataset = Dataset.from_list(train_data)\n",
    "eval_dataset = Dataset.from_list(eval_data)\n",
    "test_dataset = Dataset.from_list(test_data)\n",
    "\n",
    "# Combine the datasets into a DatasetDict\n",
    "dataset_dict = DatasetDict({\n",
    "    \"train\": train_dataset,\n",
    "    \"eval\": eval_dataset,\n",
    "    \"test\": test_dataset\n",
    "})\n",
    "\n",
    "# Save to a single JSON file\n",
    "#output_path = \"dpo_preference_data/processed/EPFL_preference_data\"\n",
    "#dataset_dict.save_to_disk(output_path)\n",
    "\n",
    "# Verify the saved data\n",
    "#print(f\"Saved dataset splits to {output_path}\")\n",
    "\n",
    "#Number of entries with prompt length greater than 1024\n",
    "#print(sum([len(tokenizer(x)[\"input_ids\"]) > 1024 for x in train_dataset[\"prompt\"]]))\n",
    "#print(sum([len(tokenizer(x)[\"input_ids\"]) > 1024 for x in train_dataset[\"chosen\"]]))\n",
    "#print(sum([len(tokenizer(x)[\"input_ids\"]) > 1024 for x in train_dataset[\"rejected\"]]))\n"
   ]
  },
  {
   "cell_type": "code",
   "execution_count": null,
   "metadata": {},
   "outputs": [],
   "source": []
  },
  {
   "cell_type": "code",
   "execution_count": 6,
   "metadata": {},
   "outputs": [],
   "source": [
    "#write_jsonl(train_data, 'train_preference_epfl_data.jsonl')\n",
    "#write_jsonl(eval_data, 'eval_preference_epfl_data.jsonl')\n",
    "#write_jsonl(test_data, 'test_preference_epfl_data.jsonl')\n",
    "\n",
    "#test_dataset.to_json('test_preference_epfl_data.jsonl', orient=\"records\")\n",
    "#train_dataset.to_json('train_preference_epfl_data.jsonl', orient=\"records\")\n",
    "#eval_dataset.to_json('eval_preference_epfl_data.jsonl', orient=\"records\")"
   ]
  },
  {
   "cell_type": "code",
   "execution_count": 14,
   "metadata": {},
   "outputs": [
    {
     "data": {
      "text/plain": [
       "Dataset({\n",
       "    features: ['prompt', 'chosen', 'rejected'],\n",
       "    num_rows: 21390\n",
       "})"
      ]
     },
     "execution_count": 14,
     "metadata": {},
     "output_type": "execute_result"
    }
   ],
   "source": [
    "tokenizer.model_max_length = 2500\n",
    "train_dataset\n"
   ]
  },
  {
   "cell_type": "code",
   "execution_count": 15,
   "metadata": {},
   "outputs": [],
   "source": [
    "prompt_length_max = int(np.max([len(tokenizer(x)[\"input_ids\"]) for x in train_dataset[\"prompt\"]]))\n",
    "chosen_length_max = int(np.max([len(tokenizer(x)[\"input_ids\"]) for x in train_dataset[\"chosen\"]]))\n",
    "rejected_length_max = int(np.max([len(tokenizer(x)[\"input_ids\"]) for x in train_dataset[\"rejected\"]]))"
   ]
  },
  {
   "cell_type": "code",
   "execution_count": 16,
   "metadata": {},
   "outputs": [
    {
     "name": "stdout",
     "output_type": "stream",
     "text": [
      "1081\n",
      "1983\n",
      "2085\n"
     ]
    }
   ],
   "source": [
    "print(prompt_length_max)\n",
    "print(chosen_length_max)\n",
    "print(rejected_length_max)"
   ]
  },
  {
   "cell_type": "code",
   "execution_count": 11,
   "metadata": {},
   "outputs": [
    {
     "name": "stderr",
     "output_type": "stream",
     "text": [
      "Token indices sequence length is longer than the specified maximum sequence length for this model (2085 > 2048). Running this sequence through the model will result in indexing errors\n"
     ]
    }
   ],
   "source": [
    "prompt_length_99 = int(np.percentile([len(tokenizer(x)[\"input_ids\"]) for x in train_dataset[\"prompt\"]], 99))\n",
    "chosen_length_99 = int(np.percentile([len(tokenizer(x)[\"input_ids\"]) for x in train_dataset[\"chosen\"]], 99))\n",
    "rejected_length_99 = int(np.percentile([len(tokenizer(x)[\"input_ids\"]) for x in train_dataset[\"rejected\"]], 99))"
   ]
  },
  {
   "cell_type": "code",
   "execution_count": 12,
   "metadata": {},
   "outputs": [
    {
     "name": "stdout",
     "output_type": "stream",
     "text": [
      "776\n",
      "806\n",
      "732\n",
      "48\n",
      "43\n",
      "19\n"
     ]
    }
   ],
   "source": [
    "print(prompt_length_99)\n",
    "print(chosen_length_99)\n",
    "print(rejected_length_99)\n",
    "print(sum([len(tokenizer(x)[\"input_ids\"]) > 1024 for x in train_dataset[\"prompt\"]]))\n",
    "print(sum([len(tokenizer(x)[\"input_ids\"]) > 1024 for x in train_dataset[\"chosen\"]]))\n",
    "print(sum([len(tokenizer(x)[\"input_ids\"]) > 1024 for x in train_dataset[\"rejected\"]]))"
   ]
  },
  {
   "cell_type": "code",
   "execution_count": 13,
   "metadata": {},
   "outputs": [
    {
     "name": "stdout",
     "output_type": "stream",
     "text": [
      "1287\n",
      "1202\n",
      "1287\n"
     ]
    }
   ],
   "source": [
    "#prompt_length = int(percentile([len(tokenizer(x)[\"input_ids\"]) for x in train_dataset[\"prompt\"]], 95))\n",
    "max_seq_length_chosen = int(np.percentile([len(tokenizer(x[\"prompt\"] + x[\"chosen\"])[\"input_ids\"]) for x in train_dataset], 99))\n",
    "max_seq_length_rejected = int(np.percentile([len(tokenizer(x[\"prompt\"] + x[\"rejected\"])[\"input_ids\"]) for x in train_dataset], 99))\n",
    "max_seq_length = max(max_seq_length_chosen, max_seq_length_rejected)\n",
    "print(max_seq_length_chosen)\n",
    "print(max_seq_length_rejected)\n",
    "print(max_seq_length)"
   ]
  },
  {
   "cell_type": "code",
   "execution_count": 14,
   "metadata": {},
   "outputs": [
    {
     "data": {
      "application/vnd.jupyter.widget-view+json": {
       "model_id": "0d678d2540c147b2a2596998a8f9041b",
       "version_major": 2,
       "version_minor": 0
      },
      "text/plain": [
       "Filter:   0%|          | 0/21390 [00:00<?, ? examples/s]"
      ]
     },
     "metadata": {},
     "output_type": "display_data"
    },
    {
     "data": {
      "application/vnd.jupyter.widget-view+json": {
       "model_id": "474903b7b62f470e883db13fe9d488f7",
       "version_major": 2,
       "version_minor": 0
      },
      "text/plain": [
       "Filter:   0%|          | 0/2674 [00:00<?, ? examples/s]"
      ]
     },
     "metadata": {},
     "output_type": "display_data"
    }
   ],
   "source": [
    "#Please remove the entries with prompt length+chosen length or prompt length+rejected length greater than max_seq_length\n",
    "train_dataset_filtered = train_dataset.filter(lambda x: len(tokenizer(x[\"prompt\"] + x[\"chosen\"])[\"input_ids\"]) <= max_seq_length and len(tokenizer(x[\"prompt\"] + x[\"rejected\"])[\"input_ids\"]) <= max_seq_length)\n",
    "eval_dataset_filtered = eval_dataset.filter(lambda x: len(tokenizer(x[\"prompt\"] + x[\"chosen\"])[\"input_ids\"]) <= max_seq_length and len(tokenizer(x[\"prompt\"] + x[\"rejected\"])[\"input_ids\"]) <= max_seq_length)\n",
    "\n",
    "\n",
    "#train_dataset_filtered = train_dataset.filter(lambda x: len(tokenizer(x[\"prompt\"])[\"input_ids\"]) <= 1024 and len(tokenizer(x[\"chosen\"])[\"input_ids\"]) <= 1024 and len(tokenizer(x[\"rejected\"])[\"input_ids\"]) <= 1024)\n",
    "#eval_dataset_filtered = eval_dataset.filter(lambda x: len(tokenizer(x[\"prompt\"])[\"input_ids\"]) <= 1024 and len(tokenizer(x[\"chosen\"])[\"input_ids\"]) <= 1024 and len(tokenizer(x[\"rejected\"])[\"input_ids\"]) <= 1024)\n"
   ]
  },
  {
   "cell_type": "code",
   "execution_count": 16,
   "metadata": {},
   "outputs": [
    {
     "data": {
      "text/plain": [
       "1081"
      ]
     },
     "execution_count": 16,
     "metadata": {},
     "output_type": "execute_result"
    }
   ],
   "source": [
    "#Find max prompt length\n",
    "prompt_length_max = int(np.max([len(tokenizer(x[\"prompt\"])[\"input_ids\"]) for x in train_dataset_filtered]))\n",
    "prompt_length_max"
   ]
  },
  {
   "cell_type": "code",
   "execution_count": 17,
   "metadata": {},
   "outputs": [
    {
     "data": {
      "application/vnd.jupyter.widget-view+json": {
       "model_id": "c65c739699c64b13b004a98320825fcb",
       "version_major": 2,
       "version_minor": 0
      },
      "text/plain": [
       "Saving the dataset (0/1 shards):   0%|          | 0/21120 [00:00<?, ? examples/s]"
      ]
     },
     "metadata": {},
     "output_type": "display_data"
    },
    {
     "data": {
      "application/vnd.jupyter.widget-view+json": {
       "model_id": "6df0f10020144d41ae87e66c97ceb54e",
       "version_major": 2,
       "version_minor": 0
      },
      "text/plain": [
       "Saving the dataset (0/1 shards):   0%|          | 0/2642 [00:00<?, ? examples/s]"
      ]
     },
     "metadata": {},
     "output_type": "display_data"
    },
    {
     "data": {
      "application/vnd.jupyter.widget-view+json": {
       "model_id": "877791328d9643fe8ac9c8baa916fc5a",
       "version_major": 2,
       "version_minor": 0
      },
      "text/plain": [
       "Saving the dataset (0/1 shards):   0%|          | 0/2674 [00:00<?, ? examples/s]"
      ]
     },
     "metadata": {},
     "output_type": "display_data"
    },
    {
     "name": "stdout",
     "output_type": "stream",
     "text": [
      "Saved dataset splits to dpo_preference_data/processed/EPFL_preference_data_99_percentile_filtered\n",
      "1287\n",
      "1286\n"
     ]
    }
   ],
   "source": [
    "# Combine the datasets into a DatasetDict\n",
    "dataset_dict = DatasetDict({\n",
    "    \"train\": train_dataset_filtered,\n",
    "    \"eval\": eval_dataset_filtered,\n",
    "    \"test\": test_dataset\n",
    "})\n",
    "\n",
    "# Save to a single JSON file\n",
    "output_path = \"dpo_preference_data/processed/EPFL_preference_data_99_percentile_filtered\"\n",
    "dataset_dict.save_to_disk(output_path)\n",
    "\n",
    "# Verify the saved data\n",
    "print(f\"Saved dataset splits to {output_path}\")\n",
    "\n",
    "#Find max sequence length\n",
    "max_seq_length_chosen = int(np.max([len(tokenizer(x[\"prompt\"] + x[\"chosen\"])[\"input_ids\"]) for x in train_dataset_filtered]))\n",
    "max_seq_length_rejected = int(np.max([len(tokenizer(x[\"prompt\"] + x[\"rejected\"])[\"input_ids\"]) for x in train_dataset_filtered]))\n",
    "print(max_seq_length_chosen)\n",
    "print(max_seq_length_rejected)\n",
    "\n",
    "#Number of entries with prompt length greater than 1024\n",
    "#print(sum([len(tokenizer(x)[\"input_ids\"]) > 1024 for x in train_dataset_filtered[\"prompt\"]]))\n",
    "#print(sum([len(tokenizer(x)[\"input_ids\"]) > 1024 for x in train_dataset_filtered[\"chosen\"]]))\n",
    "#print(sum([len(tokenizer(x)[\"input_ids\"]) > 1024 for x in train_dataset_filtered[\"rejected\"]]))"
   ]
  },
  {
   "cell_type": "code",
   "execution_count": null,
   "metadata": {},
   "outputs": [],
   "source": [
    "#Please write code to find the length of all the prompt, chosen, and rejected messages in the train_dataset:\n"
   ]
  },
  {
   "cell_type": "code",
   "execution_count": null,
   "metadata": {},
   "outputs": [],
   "source": []
  },
  {
   "cell_type": "code",
   "execution_count": 21,
   "metadata": {},
   "outputs": [
    {
     "name": "stdout",
     "output_type": "stream",
     "text": [
      "Number of examples in the training set: 21282\n",
      "Number of examples in the evaluation set: 2663\n",
      "Number of examples in the test set: 2674\n"
     ]
    },
    {
     "data": {
      "text/plain": [
       "{'prompt': '<|user|>\\nQuestion: Let $X$ denote the random variable associated to the plaintexts and $Y$ the random variable associated to the corresponding ciphertexts. If a cryptosystem achieves perfect secrecy, then we have that \\\\dots?\\n\\nOptions:\\nA. $\\\\Pr [X=x|Y=y] = \\\\Pr[Y=y]$.\\nB. $\\\\Pr [X=x|Y=y] = \\\\Pr[X=x]$.\\nC. $\\\\Pr [X=x|Y=y] = \\\\Pr[X=x,Y=y]$.\\nD. $\\\\Pr [X=x] = \\\\Pr[Y=y]$.<|endoftext|',\n",
       " 'chosen': '<|assistant|>\\nThe correct statement is: \\\\\"$\\\\\\\\\\\\\\\\Pr [X=x|Y=y] = \\\\\\\\\\\\\\\\Pr[X=x]$.\\\\\"\\\\n\\\\nPerfect secrecy in a cryptosystem means that observing the ciphertext does not give any information about the plaintext. Mathematically, this is formalized as $\\\\\\\\\\\\\\\\Pr [X=x|Y=y] = \\\\\\\\\\\\\\\\Pr[X=x]$, meaning that the probability of a certain plaintext being the true message given the ciphertext is the same as the probability of that plaintext being the true message without knowing the ciphertext.\\\\n\\\\nThe other statements are not necessarily true in the context of perfect secrecy. \\\\\"$\\\\\\\\\\\\\\\\Pr [X=x|Y=y] = \\\\\\\\\\\\\\\\Pr[Y=y]$\\\\\" is not correct because if the probability of the plaintext given the ciphertext was equal to the probability of the ciphertext, it would mean that the ciphertext reveals information about the plaintext. \\\\\"$\\\\\\\\\\\\\\\\Pr [X=x|Y=y] = \\\\\\\\\\\\\\\\Pr[X=x,Y=y]$\\\\\" is also not correct because it implies that the probability of the plaintext given the ciphertext is the same as the joint probability of the plaintext and ciphertext, which may not be true. Finally, \\\\\"$\\\\\\\\\\\\\\\\Pr [X=x] = \\\\\\\\\\\\\\\\Pr[Y=y]$\\\\\" is not necessarily true as well because perfect secrecy does not require the marginal probabilities of the plaintexts and ciphertexts to be equal.<|endoftext|',\n",
       " 'rejected': '<|assistant|>\\nI apologize for the mistake in my previous response. The correct statement should be: \\n\\nCorrect statement: \"$\\\\\\\\Pr [X=x|Y=y] = \\\\\\\\Pr[X=x]$.\"\\n\\nJustification: In a cryptosystem that achieves perfect secrecy, the knowledge of the ciphertext does not reveal any information about the plaintext. Therefore, the probability of a specific plaintext given a specific ciphertext should be the same as the probability of that specific plaintext occurring. This is reflected in the correct statement. Thank you for pointing out the error.<|endoftext|'}"
      ]
     },
     "execution_count": 21,
     "metadata": {},
     "output_type": "execute_result"
    }
   ],
   "source": [
    "#Sanity Check:\n",
    "dataset_path = \"dpo_preference_data/processed/EPFL_preference_data_below_1024\"\n",
    "loaded_dataset = load_from_disk(dataset_path)\n",
    "print(f\"Number of examples in the training set: {len(loaded_dataset['train'])}\")\n",
    "print(f\"Number of examples in the evaluation set: {len(loaded_dataset['eval'])}\")\n",
    "print(f\"Number of examples in the test set: {len(loaded_dataset['test'])}\")\n",
    "loaded_dataset['train'][0]"
   ]
  },
  {
   "cell_type": "code",
   "execution_count": null,
   "metadata": {},
   "outputs": [
    {
     "data": {
      "text/plain": [
       "list"
      ]
     },
     "execution_count": 44,
     "metadata": {},
     "output_type": "execute_result"
    }
   ],
   "source": [
    "#type(converted_data)\n"
   ]
  }
 ],
 "metadata": {
  "kernelspec": {
   "display_name": "mnlp-venv",
   "language": "python",
   "name": "python3"
  },
  "language_info": {
   "codemirror_mode": {
    "name": "ipython",
    "version": 3
   },
   "file_extension": ".py",
   "mimetype": "text/x-python",
   "name": "python",
   "nbconvert_exporter": "python",
   "pygments_lexer": "ipython3",
   "version": "3.10.13"
  }
 },
 "nbformat": 4,
 "nbformat_minor": 2
}
